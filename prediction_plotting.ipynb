{
 "cells": [
  {
   "cell_type": "markdown",
   "metadata": {},
   "source": [
    "# Setup"
   ]
  },
  {
   "cell_type": "code",
   "execution_count": 2,
   "metadata": {
    "ExecuteTime": {
     "end_time": "2020-04-06T18:23:34.831402Z",
     "start_time": "2020-04-06T18:23:34.827405Z"
    }
   },
   "outputs": [],
   "source": [
    "# !pip install sklearn"
   ]
  },
  {
   "cell_type": "code",
   "execution_count": 3,
   "metadata": {
    "ExecuteTime": {
     "end_time": "2020-04-06T18:23:34.873011Z",
     "start_time": "2020-04-06T18:23:34.842398Z"
    }
   },
   "outputs": [],
   "source": [
    "# !pip install tensorflow==2.0.0-alpha0"
   ]
  },
  {
   "cell_type": "code",
   "execution_count": 4,
   "metadata": {
    "ExecuteTime": {
     "end_time": "2020-04-06T18:23:39.657054Z",
     "start_time": "2020-04-06T18:23:34.876007Z"
    }
   },
   "outputs": [
    {
     "name": "stdout",
     "output_type": "stream",
     "text": [
      "Folium installed and imported!\n",
      "0.10.1\n"
     ]
    }
   ],
   "source": [
    "import numpy as np\n",
    "import matplotlib.pyplot as plt\n",
    "import seaborn as sns\n",
    "import warnings\n",
    "import pandas as pd\n",
    "import pathlib\n",
    "import glob\n",
    "import glob2\n",
    "import os\n",
    "import folium\n",
    "import requests\n",
    "import matplotlib\n",
    "from datetime import datetime\n",
    "\n",
    "from statsmodels.tsa.ar_model import AR\n",
    "from random import random\n",
    "\n",
    "from sklearn.model_selection import train_test_split\n",
    "from sklearn.datasets import load_iris\n",
    "\n",
    "from sklearn.linear_model import LinearRegression\n",
    "\n",
    "warnings.filterwarnings('ignore')\n",
    "np.random.seed(1234) \n",
    "PYTHONHASHSEED = 0\n",
    "\n",
    "print('Folium installed and imported!')\n",
    "print(folium.__version__)\n"
   ]
  },
  {
   "cell_type": "markdown",
   "metadata": {
    "ExecuteTime": {
     "end_time": "2020-04-03T12:05:20.493487Z",
     "start_time": "2020-04-03T12:05:16.816066Z"
    }
   },
   "source": [
    "# Data Import \n",
    "Source: https://data.humdata.org/dataset/novel-coronavirus-2019-ncov-cases"
   ]
  },
  {
   "cell_type": "markdown",
   "metadata": {},
   "source": [
    "## Downloading latest available data"
   ]
  },
  {
   "cell_type": "code",
   "execution_count": 5,
   "metadata": {
    "ExecuteTime": {
     "end_time": "2020-04-06T18:23:39.668046Z",
     "start_time": "2020-04-06T18:23:39.661051Z"
    }
   },
   "outputs": [],
   "source": [
    "cwd=pathlib.Path(os.getcwd())\n",
    "data_dir=pathlib.Path(cwd/'../data')\n",
    "raw_data=pathlib.Path(data_dir/'raw_data')"
   ]
  },
  {
   "cell_type": "code",
   "execution_count": 6,
   "metadata": {
    "ExecuteTime": {
     "end_time": "2020-04-06T18:23:39.705026Z",
     "start_time": "2020-04-06T18:23:39.672045Z"
    }
   },
   "outputs": [],
   "source": [
    "data=pathlib.Path(raw_data/'data.humdata/')"
   ]
  },
  {
   "cell_type": "code",
   "execution_count": 7,
   "metadata": {
    "ExecuteTime": {
     "end_time": "2020-04-06T18:23:39.750999Z",
     "start_time": "2020-04-06T18:23:39.708023Z"
    }
   },
   "outputs": [
    {
     "data": {
      "text/plain": [
       "True"
      ]
     },
     "execution_count": 7,
     "metadata": {},
     "output_type": "execute_result"
    }
   ],
   "source": [
    "data.exists()"
   ]
  },
  {
   "cell_type": "code",
   "execution_count": 8,
   "metadata": {
    "ExecuteTime": {
     "end_time": "2020-04-06T18:23:52.276266Z",
     "start_time": "2020-04-06T18:23:39.752994Z"
    }
   },
   "outputs": [],
   "source": [
    "files=['time_series_covid19_confirmed_global.csv', 'time_series_covid19_deaths_global.csv','time_series_covid19_recovered_global.csv']\n",
    "\n",
    "for file in files:\n",
    "    url = f'https://data.humdata.org/hxlproxy/api/data-preview.csv?url=https%3A%2F%2Fraw.githubusercontent.com%2FCSSEGISandData%2FCOVID-19%2Fmaster%2Fcsse_covid_19_data%2Fcsse_covid_19_time_series%2F{file}&filename={file}'\n",
    "    r = requests.get(url, allow_redirects=True)\n",
    "    open(data/file, 'wb').write(r.content)"
   ]
  },
  {
   "cell_type": "code",
   "execution_count": 9,
   "metadata": {
    "ExecuteTime": {
     "end_time": "2020-04-06T18:23:52.359212Z",
     "start_time": "2020-04-06T18:23:52.282259Z"
    }
   },
   "outputs": [
    {
     "data": {
      "text/plain": [
       "((262, 79), (262, 79), (248, 79))"
      ]
     },
     "execution_count": 9,
     "metadata": {},
     "output_type": "execute_result"
    }
   ],
   "source": [
    "df_cnf=pd.read_csv(data/files[0])\n",
    "df_dth=pd.read_csv(data/files[1])\n",
    "df_rcvd=pd.read_csv(data/files[2])\n",
    "\n",
    "df_cnf.shape, df_dth.shape, df_rcvd.shape"
   ]
  },
  {
   "cell_type": "markdown",
   "metadata": {},
   "source": [
    "# Data Frames Heads"
   ]
  },
  {
   "cell_type": "code",
   "execution_count": 10,
   "metadata": {
    "ExecuteTime": {
     "end_time": "2020-04-06T18:23:52.466144Z",
     "start_time": "2020-04-06T18:23:52.365208Z"
    }
   },
   "outputs": [
    {
     "data": {
      "text/html": [
       "<div>\n",
       "<style scoped>\n",
       "    .dataframe tbody tr th:only-of-type {\n",
       "        vertical-align: middle;\n",
       "    }\n",
       "\n",
       "    .dataframe tbody tr th {\n",
       "        vertical-align: top;\n",
       "    }\n",
       "\n",
       "    .dataframe thead th {\n",
       "        text-align: right;\n",
       "    }\n",
       "</style>\n",
       "<table border=\"1\" class=\"dataframe\">\n",
       "  <thead>\n",
       "    <tr style=\"text-align: right;\">\n",
       "      <th></th>\n",
       "      <th>Province/State</th>\n",
       "      <th>Country/Region</th>\n",
       "      <th>Lat</th>\n",
       "      <th>Long</th>\n",
       "      <th>1/22/20</th>\n",
       "      <th>1/23/20</th>\n",
       "      <th>1/24/20</th>\n",
       "      <th>1/25/20</th>\n",
       "      <th>1/26/20</th>\n",
       "      <th>1/27/20</th>\n",
       "      <th>...</th>\n",
       "      <th>3/27/20</th>\n",
       "      <th>3/28/20</th>\n",
       "      <th>3/29/20</th>\n",
       "      <th>3/30/20</th>\n",
       "      <th>3/31/20</th>\n",
       "      <th>4/1/20</th>\n",
       "      <th>4/2/20</th>\n",
       "      <th>4/3/20</th>\n",
       "      <th>4/4/20</th>\n",
       "      <th>4/5/20</th>\n",
       "    </tr>\n",
       "  </thead>\n",
       "  <tbody>\n",
       "    <tr>\n",
       "      <th>0</th>\n",
       "      <td>NaN</td>\n",
       "      <td>Afghanistan</td>\n",
       "      <td>33.0000</td>\n",
       "      <td>65.0000</td>\n",
       "      <td>0</td>\n",
       "      <td>0</td>\n",
       "      <td>0</td>\n",
       "      <td>0</td>\n",
       "      <td>0</td>\n",
       "      <td>0</td>\n",
       "      <td>...</td>\n",
       "      <td>110</td>\n",
       "      <td>110</td>\n",
       "      <td>120</td>\n",
       "      <td>170</td>\n",
       "      <td>174</td>\n",
       "      <td>237</td>\n",
       "      <td>273</td>\n",
       "      <td>281</td>\n",
       "      <td>299</td>\n",
       "      <td>349</td>\n",
       "    </tr>\n",
       "    <tr>\n",
       "      <th>1</th>\n",
       "      <td>NaN</td>\n",
       "      <td>Albania</td>\n",
       "      <td>41.1533</td>\n",
       "      <td>20.1683</td>\n",
       "      <td>0</td>\n",
       "      <td>0</td>\n",
       "      <td>0</td>\n",
       "      <td>0</td>\n",
       "      <td>0</td>\n",
       "      <td>0</td>\n",
       "      <td>...</td>\n",
       "      <td>186</td>\n",
       "      <td>197</td>\n",
       "      <td>212</td>\n",
       "      <td>223</td>\n",
       "      <td>243</td>\n",
       "      <td>259</td>\n",
       "      <td>277</td>\n",
       "      <td>304</td>\n",
       "      <td>333</td>\n",
       "      <td>361</td>\n",
       "    </tr>\n",
       "    <tr>\n",
       "      <th>2</th>\n",
       "      <td>NaN</td>\n",
       "      <td>Algeria</td>\n",
       "      <td>28.0339</td>\n",
       "      <td>1.6596</td>\n",
       "      <td>0</td>\n",
       "      <td>0</td>\n",
       "      <td>0</td>\n",
       "      <td>0</td>\n",
       "      <td>0</td>\n",
       "      <td>0</td>\n",
       "      <td>...</td>\n",
       "      <td>409</td>\n",
       "      <td>454</td>\n",
       "      <td>511</td>\n",
       "      <td>584</td>\n",
       "      <td>716</td>\n",
       "      <td>847</td>\n",
       "      <td>986</td>\n",
       "      <td>1171</td>\n",
       "      <td>1251</td>\n",
       "      <td>1320</td>\n",
       "    </tr>\n",
       "    <tr>\n",
       "      <th>3</th>\n",
       "      <td>NaN</td>\n",
       "      <td>Andorra</td>\n",
       "      <td>42.5063</td>\n",
       "      <td>1.5218</td>\n",
       "      <td>0</td>\n",
       "      <td>0</td>\n",
       "      <td>0</td>\n",
       "      <td>0</td>\n",
       "      <td>0</td>\n",
       "      <td>0</td>\n",
       "      <td>...</td>\n",
       "      <td>267</td>\n",
       "      <td>308</td>\n",
       "      <td>334</td>\n",
       "      <td>370</td>\n",
       "      <td>376</td>\n",
       "      <td>390</td>\n",
       "      <td>428</td>\n",
       "      <td>439</td>\n",
       "      <td>466</td>\n",
       "      <td>501</td>\n",
       "    </tr>\n",
       "    <tr>\n",
       "      <th>4</th>\n",
       "      <td>NaN</td>\n",
       "      <td>Angola</td>\n",
       "      <td>-11.2027</td>\n",
       "      <td>17.8739</td>\n",
       "      <td>0</td>\n",
       "      <td>0</td>\n",
       "      <td>0</td>\n",
       "      <td>0</td>\n",
       "      <td>0</td>\n",
       "      <td>0</td>\n",
       "      <td>...</td>\n",
       "      <td>4</td>\n",
       "      <td>5</td>\n",
       "      <td>7</td>\n",
       "      <td>7</td>\n",
       "      <td>7</td>\n",
       "      <td>8</td>\n",
       "      <td>8</td>\n",
       "      <td>8</td>\n",
       "      <td>10</td>\n",
       "      <td>14</td>\n",
       "    </tr>\n",
       "  </tbody>\n",
       "</table>\n",
       "<p>5 rows × 79 columns</p>\n",
       "</div>"
      ],
      "text/plain": [
       "  Province/State Country/Region      Lat     Long  1/22/20  1/23/20  1/24/20  \\\n",
       "0            NaN    Afghanistan  33.0000  65.0000        0        0        0   \n",
       "1            NaN        Albania  41.1533  20.1683        0        0        0   \n",
       "2            NaN        Algeria  28.0339   1.6596        0        0        0   \n",
       "3            NaN        Andorra  42.5063   1.5218        0        0        0   \n",
       "4            NaN         Angola -11.2027  17.8739        0        0        0   \n",
       "\n",
       "   1/25/20  1/26/20  1/27/20  ...  3/27/20  3/28/20  3/29/20  3/30/20  \\\n",
       "0        0        0        0  ...      110      110      120      170   \n",
       "1        0        0        0  ...      186      197      212      223   \n",
       "2        0        0        0  ...      409      454      511      584   \n",
       "3        0        0        0  ...      267      308      334      370   \n",
       "4        0        0        0  ...        4        5        7        7   \n",
       "\n",
       "   3/31/20  4/1/20  4/2/20  4/3/20  4/4/20  4/5/20  \n",
       "0      174     237     273     281     299     349  \n",
       "1      243     259     277     304     333     361  \n",
       "2      716     847     986    1171    1251    1320  \n",
       "3      376     390     428     439     466     501  \n",
       "4        7       8       8       8      10      14  \n",
       "\n",
       "[5 rows x 79 columns]"
      ]
     },
     "execution_count": 10,
     "metadata": {},
     "output_type": "execute_result"
    }
   ],
   "source": [
    "df_cnf.head()"
   ]
  },
  {
   "cell_type": "code",
   "execution_count": 11,
   "metadata": {
    "ExecuteTime": {
     "end_time": "2020-04-06T18:23:52.501123Z",
     "start_time": "2020-04-06T18:23:52.470142Z"
    }
   },
   "outputs": [
    {
     "data": {
      "text/html": [
       "<div>\n",
       "<style scoped>\n",
       "    .dataframe tbody tr th:only-of-type {\n",
       "        vertical-align: middle;\n",
       "    }\n",
       "\n",
       "    .dataframe tbody tr th {\n",
       "        vertical-align: top;\n",
       "    }\n",
       "\n",
       "    .dataframe thead th {\n",
       "        text-align: right;\n",
       "    }\n",
       "</style>\n",
       "<table border=\"1\" class=\"dataframe\">\n",
       "  <thead>\n",
       "    <tr style=\"text-align: right;\">\n",
       "      <th></th>\n",
       "      <th>Province/State</th>\n",
       "      <th>Country/Region</th>\n",
       "      <th>Lat</th>\n",
       "      <th>Long</th>\n",
       "      <th>1/22/20</th>\n",
       "      <th>1/23/20</th>\n",
       "      <th>1/24/20</th>\n",
       "      <th>1/25/20</th>\n",
       "      <th>1/26/20</th>\n",
       "      <th>1/27/20</th>\n",
       "      <th>...</th>\n",
       "      <th>3/27/20</th>\n",
       "      <th>3/28/20</th>\n",
       "      <th>3/29/20</th>\n",
       "      <th>3/30/20</th>\n",
       "      <th>3/31/20</th>\n",
       "      <th>4/1/20</th>\n",
       "      <th>4/2/20</th>\n",
       "      <th>4/3/20</th>\n",
       "      <th>4/4/20</th>\n",
       "      <th>4/5/20</th>\n",
       "    </tr>\n",
       "  </thead>\n",
       "  <tbody>\n",
       "    <tr>\n",
       "      <th>0</th>\n",
       "      <td>NaN</td>\n",
       "      <td>Afghanistan</td>\n",
       "      <td>33.0000</td>\n",
       "      <td>65.0000</td>\n",
       "      <td>0</td>\n",
       "      <td>0</td>\n",
       "      <td>0</td>\n",
       "      <td>0</td>\n",
       "      <td>0</td>\n",
       "      <td>0</td>\n",
       "      <td>...</td>\n",
       "      <td>4</td>\n",
       "      <td>4</td>\n",
       "      <td>4</td>\n",
       "      <td>4</td>\n",
       "      <td>4</td>\n",
       "      <td>4</td>\n",
       "      <td>6</td>\n",
       "      <td>6</td>\n",
       "      <td>7</td>\n",
       "      <td>7</td>\n",
       "    </tr>\n",
       "    <tr>\n",
       "      <th>1</th>\n",
       "      <td>NaN</td>\n",
       "      <td>Albania</td>\n",
       "      <td>41.1533</td>\n",
       "      <td>20.1683</td>\n",
       "      <td>0</td>\n",
       "      <td>0</td>\n",
       "      <td>0</td>\n",
       "      <td>0</td>\n",
       "      <td>0</td>\n",
       "      <td>0</td>\n",
       "      <td>...</td>\n",
       "      <td>8</td>\n",
       "      <td>10</td>\n",
       "      <td>10</td>\n",
       "      <td>11</td>\n",
       "      <td>15</td>\n",
       "      <td>15</td>\n",
       "      <td>16</td>\n",
       "      <td>17</td>\n",
       "      <td>20</td>\n",
       "      <td>20</td>\n",
       "    </tr>\n",
       "    <tr>\n",
       "      <th>2</th>\n",
       "      <td>NaN</td>\n",
       "      <td>Algeria</td>\n",
       "      <td>28.0339</td>\n",
       "      <td>1.6596</td>\n",
       "      <td>0</td>\n",
       "      <td>0</td>\n",
       "      <td>0</td>\n",
       "      <td>0</td>\n",
       "      <td>0</td>\n",
       "      <td>0</td>\n",
       "      <td>...</td>\n",
       "      <td>26</td>\n",
       "      <td>29</td>\n",
       "      <td>31</td>\n",
       "      <td>35</td>\n",
       "      <td>44</td>\n",
       "      <td>58</td>\n",
       "      <td>86</td>\n",
       "      <td>105</td>\n",
       "      <td>130</td>\n",
       "      <td>152</td>\n",
       "    </tr>\n",
       "    <tr>\n",
       "      <th>3</th>\n",
       "      <td>NaN</td>\n",
       "      <td>Andorra</td>\n",
       "      <td>42.5063</td>\n",
       "      <td>1.5218</td>\n",
       "      <td>0</td>\n",
       "      <td>0</td>\n",
       "      <td>0</td>\n",
       "      <td>0</td>\n",
       "      <td>0</td>\n",
       "      <td>0</td>\n",
       "      <td>...</td>\n",
       "      <td>3</td>\n",
       "      <td>3</td>\n",
       "      <td>6</td>\n",
       "      <td>8</td>\n",
       "      <td>12</td>\n",
       "      <td>14</td>\n",
       "      <td>15</td>\n",
       "      <td>16</td>\n",
       "      <td>17</td>\n",
       "      <td>18</td>\n",
       "    </tr>\n",
       "    <tr>\n",
       "      <th>4</th>\n",
       "      <td>NaN</td>\n",
       "      <td>Angola</td>\n",
       "      <td>-11.2027</td>\n",
       "      <td>17.8739</td>\n",
       "      <td>0</td>\n",
       "      <td>0</td>\n",
       "      <td>0</td>\n",
       "      <td>0</td>\n",
       "      <td>0</td>\n",
       "      <td>0</td>\n",
       "      <td>...</td>\n",
       "      <td>0</td>\n",
       "      <td>0</td>\n",
       "      <td>2</td>\n",
       "      <td>2</td>\n",
       "      <td>2</td>\n",
       "      <td>2</td>\n",
       "      <td>2</td>\n",
       "      <td>2</td>\n",
       "      <td>2</td>\n",
       "      <td>2</td>\n",
       "    </tr>\n",
       "  </tbody>\n",
       "</table>\n",
       "<p>5 rows × 79 columns</p>\n",
       "</div>"
      ],
      "text/plain": [
       "  Province/State Country/Region      Lat     Long  1/22/20  1/23/20  1/24/20  \\\n",
       "0            NaN    Afghanistan  33.0000  65.0000        0        0        0   \n",
       "1            NaN        Albania  41.1533  20.1683        0        0        0   \n",
       "2            NaN        Algeria  28.0339   1.6596        0        0        0   \n",
       "3            NaN        Andorra  42.5063   1.5218        0        0        0   \n",
       "4            NaN         Angola -11.2027  17.8739        0        0        0   \n",
       "\n",
       "   1/25/20  1/26/20  1/27/20  ...  3/27/20  3/28/20  3/29/20  3/30/20  \\\n",
       "0        0        0        0  ...        4        4        4        4   \n",
       "1        0        0        0  ...        8       10       10       11   \n",
       "2        0        0        0  ...       26       29       31       35   \n",
       "3        0        0        0  ...        3        3        6        8   \n",
       "4        0        0        0  ...        0        0        2        2   \n",
       "\n",
       "   3/31/20  4/1/20  4/2/20  4/3/20  4/4/20  4/5/20  \n",
       "0        4       4       6       6       7       7  \n",
       "1       15      15      16      17      20      20  \n",
       "2       44      58      86     105     130     152  \n",
       "3       12      14      15      16      17      18  \n",
       "4        2       2       2       2       2       2  \n",
       "\n",
       "[5 rows x 79 columns]"
      ]
     },
     "execution_count": 11,
     "metadata": {},
     "output_type": "execute_result"
    }
   ],
   "source": [
    "df_dth.head()"
   ]
  },
  {
   "cell_type": "code",
   "execution_count": 12,
   "metadata": {
    "ExecuteTime": {
     "end_time": "2020-04-06T18:23:52.560087Z",
     "start_time": "2020-04-06T18:23:52.504121Z"
    }
   },
   "outputs": [
    {
     "data": {
      "text/html": [
       "<div>\n",
       "<style scoped>\n",
       "    .dataframe tbody tr th:only-of-type {\n",
       "        vertical-align: middle;\n",
       "    }\n",
       "\n",
       "    .dataframe tbody tr th {\n",
       "        vertical-align: top;\n",
       "    }\n",
       "\n",
       "    .dataframe thead th {\n",
       "        text-align: right;\n",
       "    }\n",
       "</style>\n",
       "<table border=\"1\" class=\"dataframe\">\n",
       "  <thead>\n",
       "    <tr style=\"text-align: right;\">\n",
       "      <th></th>\n",
       "      <th>Province/State</th>\n",
       "      <th>Country/Region</th>\n",
       "      <th>Lat</th>\n",
       "      <th>Long</th>\n",
       "      <th>1/22/20</th>\n",
       "      <th>1/23/20</th>\n",
       "      <th>1/24/20</th>\n",
       "      <th>1/25/20</th>\n",
       "      <th>1/26/20</th>\n",
       "      <th>1/27/20</th>\n",
       "      <th>...</th>\n",
       "      <th>3/27/20</th>\n",
       "      <th>3/28/20</th>\n",
       "      <th>3/29/20</th>\n",
       "      <th>3/30/20</th>\n",
       "      <th>3/31/20</th>\n",
       "      <th>4/1/20</th>\n",
       "      <th>4/2/20</th>\n",
       "      <th>4/3/20</th>\n",
       "      <th>4/4/20</th>\n",
       "      <th>4/5/20</th>\n",
       "    </tr>\n",
       "  </thead>\n",
       "  <tbody>\n",
       "    <tr>\n",
       "      <th>0</th>\n",
       "      <td>NaN</td>\n",
       "      <td>Afghanistan</td>\n",
       "      <td>33.0000</td>\n",
       "      <td>65.0000</td>\n",
       "      <td>0</td>\n",
       "      <td>0</td>\n",
       "      <td>0</td>\n",
       "      <td>0</td>\n",
       "      <td>0</td>\n",
       "      <td>0</td>\n",
       "      <td>...</td>\n",
       "      <td>2</td>\n",
       "      <td>2</td>\n",
       "      <td>2</td>\n",
       "      <td>2</td>\n",
       "      <td>5</td>\n",
       "      <td>5</td>\n",
       "      <td>10</td>\n",
       "      <td>10</td>\n",
       "      <td>10</td>\n",
       "      <td>15</td>\n",
       "    </tr>\n",
       "    <tr>\n",
       "      <th>1</th>\n",
       "      <td>NaN</td>\n",
       "      <td>Albania</td>\n",
       "      <td>41.1533</td>\n",
       "      <td>20.1683</td>\n",
       "      <td>0</td>\n",
       "      <td>0</td>\n",
       "      <td>0</td>\n",
       "      <td>0</td>\n",
       "      <td>0</td>\n",
       "      <td>0</td>\n",
       "      <td>...</td>\n",
       "      <td>31</td>\n",
       "      <td>31</td>\n",
       "      <td>33</td>\n",
       "      <td>44</td>\n",
       "      <td>52</td>\n",
       "      <td>67</td>\n",
       "      <td>76</td>\n",
       "      <td>89</td>\n",
       "      <td>99</td>\n",
       "      <td>104</td>\n",
       "    </tr>\n",
       "    <tr>\n",
       "      <th>2</th>\n",
       "      <td>NaN</td>\n",
       "      <td>Algeria</td>\n",
       "      <td>28.0339</td>\n",
       "      <td>1.6596</td>\n",
       "      <td>0</td>\n",
       "      <td>0</td>\n",
       "      <td>0</td>\n",
       "      <td>0</td>\n",
       "      <td>0</td>\n",
       "      <td>0</td>\n",
       "      <td>...</td>\n",
       "      <td>29</td>\n",
       "      <td>31</td>\n",
       "      <td>31</td>\n",
       "      <td>37</td>\n",
       "      <td>46</td>\n",
       "      <td>61</td>\n",
       "      <td>61</td>\n",
       "      <td>62</td>\n",
       "      <td>90</td>\n",
       "      <td>90</td>\n",
       "    </tr>\n",
       "    <tr>\n",
       "      <th>3</th>\n",
       "      <td>NaN</td>\n",
       "      <td>Andorra</td>\n",
       "      <td>42.5063</td>\n",
       "      <td>1.5218</td>\n",
       "      <td>0</td>\n",
       "      <td>0</td>\n",
       "      <td>0</td>\n",
       "      <td>0</td>\n",
       "      <td>0</td>\n",
       "      <td>0</td>\n",
       "      <td>...</td>\n",
       "      <td>1</td>\n",
       "      <td>1</td>\n",
       "      <td>1</td>\n",
       "      <td>10</td>\n",
       "      <td>10</td>\n",
       "      <td>10</td>\n",
       "      <td>10</td>\n",
       "      <td>16</td>\n",
       "      <td>21</td>\n",
       "      <td>26</td>\n",
       "    </tr>\n",
       "    <tr>\n",
       "      <th>4</th>\n",
       "      <td>NaN</td>\n",
       "      <td>Angola</td>\n",
       "      <td>-11.2027</td>\n",
       "      <td>17.8739</td>\n",
       "      <td>0</td>\n",
       "      <td>0</td>\n",
       "      <td>0</td>\n",
       "      <td>0</td>\n",
       "      <td>0</td>\n",
       "      <td>0</td>\n",
       "      <td>...</td>\n",
       "      <td>0</td>\n",
       "      <td>0</td>\n",
       "      <td>0</td>\n",
       "      <td>0</td>\n",
       "      <td>1</td>\n",
       "      <td>1</td>\n",
       "      <td>1</td>\n",
       "      <td>1</td>\n",
       "      <td>2</td>\n",
       "      <td>2</td>\n",
       "    </tr>\n",
       "  </tbody>\n",
       "</table>\n",
       "<p>5 rows × 79 columns</p>\n",
       "</div>"
      ],
      "text/plain": [
       "  Province/State Country/Region      Lat     Long  1/22/20  1/23/20  1/24/20  \\\n",
       "0            NaN    Afghanistan  33.0000  65.0000        0        0        0   \n",
       "1            NaN        Albania  41.1533  20.1683        0        0        0   \n",
       "2            NaN        Algeria  28.0339   1.6596        0        0        0   \n",
       "3            NaN        Andorra  42.5063   1.5218        0        0        0   \n",
       "4            NaN         Angola -11.2027  17.8739        0        0        0   \n",
       "\n",
       "   1/25/20  1/26/20  1/27/20  ...  3/27/20  3/28/20  3/29/20  3/30/20  \\\n",
       "0        0        0        0  ...        2        2        2        2   \n",
       "1        0        0        0  ...       31       31       33       44   \n",
       "2        0        0        0  ...       29       31       31       37   \n",
       "3        0        0        0  ...        1        1        1       10   \n",
       "4        0        0        0  ...        0        0        0        0   \n",
       "\n",
       "   3/31/20  4/1/20  4/2/20  4/3/20  4/4/20  4/5/20  \n",
       "0        5       5      10      10      10      15  \n",
       "1       52      67      76      89      99     104  \n",
       "2       46      61      61      62      90      90  \n",
       "3       10      10      10      16      21      26  \n",
       "4        1       1       1       1       2       2  \n",
       "\n",
       "[5 rows x 79 columns]"
      ]
     },
     "execution_count": 12,
     "metadata": {},
     "output_type": "execute_result"
    }
   ],
   "source": [
    "df_rcvd.head()"
   ]
  },
  {
   "cell_type": "markdown",
   "metadata": {},
   "source": [
    "## Data Cleaning "
   ]
  },
  {
   "cell_type": "code",
   "execution_count": 13,
   "metadata": {
    "ExecuteTime": {
     "end_time": "2020-04-06T18:23:52.596064Z",
     "start_time": "2020-04-06T18:23:52.562084Z"
    }
   },
   "outputs": [],
   "source": [
    "df_cnf.drop(['Province/State'] , axis=1, inplace=True)\n",
    "df_dth.drop(['Province/State'] , axis=1, inplace=True)\n",
    "df_rcvd.drop(['Province/State'] , axis=1, inplace=True)"
   ]
  },
  {
   "cell_type": "code",
   "execution_count": 14,
   "metadata": {
    "ExecuteTime": {
     "end_time": "2020-04-06T18:23:52.657025Z",
     "start_time": "2020-04-06T18:23:52.599063Z"
    }
   },
   "outputs": [
    {
     "data": {
      "text/html": [
       "<div>\n",
       "<style scoped>\n",
       "    .dataframe tbody tr th:only-of-type {\n",
       "        vertical-align: middle;\n",
       "    }\n",
       "\n",
       "    .dataframe tbody tr th {\n",
       "        vertical-align: top;\n",
       "    }\n",
       "\n",
       "    .dataframe thead th {\n",
       "        text-align: right;\n",
       "    }\n",
       "</style>\n",
       "<table border=\"1\" class=\"dataframe\">\n",
       "  <thead>\n",
       "    <tr style=\"text-align: right;\">\n",
       "      <th></th>\n",
       "      <th>Country/Region</th>\n",
       "      <th>Lat</th>\n",
       "      <th>Long</th>\n",
       "      <th>1/22/20</th>\n",
       "      <th>1/23/20</th>\n",
       "      <th>1/24/20</th>\n",
       "      <th>1/25/20</th>\n",
       "      <th>1/26/20</th>\n",
       "      <th>1/27/20</th>\n",
       "      <th>1/28/20</th>\n",
       "      <th>...</th>\n",
       "      <th>3/27/20</th>\n",
       "      <th>3/28/20</th>\n",
       "      <th>3/29/20</th>\n",
       "      <th>3/30/20</th>\n",
       "      <th>3/31/20</th>\n",
       "      <th>4/1/20</th>\n",
       "      <th>4/2/20</th>\n",
       "      <th>4/3/20</th>\n",
       "      <th>4/4/20</th>\n",
       "      <th>4/5/20</th>\n",
       "    </tr>\n",
       "  </thead>\n",
       "  <tbody>\n",
       "    <tr>\n",
       "      <th>0</th>\n",
       "      <td>Afghanistan</td>\n",
       "      <td>33.0000</td>\n",
       "      <td>65.0000</td>\n",
       "      <td>0</td>\n",
       "      <td>0</td>\n",
       "      <td>0</td>\n",
       "      <td>0</td>\n",
       "      <td>0</td>\n",
       "      <td>0</td>\n",
       "      <td>0</td>\n",
       "      <td>...</td>\n",
       "      <td>110</td>\n",
       "      <td>110</td>\n",
       "      <td>120</td>\n",
       "      <td>170</td>\n",
       "      <td>174</td>\n",
       "      <td>237</td>\n",
       "      <td>273</td>\n",
       "      <td>281</td>\n",
       "      <td>299</td>\n",
       "      <td>349</td>\n",
       "    </tr>\n",
       "    <tr>\n",
       "      <th>1</th>\n",
       "      <td>Albania</td>\n",
       "      <td>41.1533</td>\n",
       "      <td>20.1683</td>\n",
       "      <td>0</td>\n",
       "      <td>0</td>\n",
       "      <td>0</td>\n",
       "      <td>0</td>\n",
       "      <td>0</td>\n",
       "      <td>0</td>\n",
       "      <td>0</td>\n",
       "      <td>...</td>\n",
       "      <td>186</td>\n",
       "      <td>197</td>\n",
       "      <td>212</td>\n",
       "      <td>223</td>\n",
       "      <td>243</td>\n",
       "      <td>259</td>\n",
       "      <td>277</td>\n",
       "      <td>304</td>\n",
       "      <td>333</td>\n",
       "      <td>361</td>\n",
       "    </tr>\n",
       "    <tr>\n",
       "      <th>2</th>\n",
       "      <td>Algeria</td>\n",
       "      <td>28.0339</td>\n",
       "      <td>1.6596</td>\n",
       "      <td>0</td>\n",
       "      <td>0</td>\n",
       "      <td>0</td>\n",
       "      <td>0</td>\n",
       "      <td>0</td>\n",
       "      <td>0</td>\n",
       "      <td>0</td>\n",
       "      <td>...</td>\n",
       "      <td>409</td>\n",
       "      <td>454</td>\n",
       "      <td>511</td>\n",
       "      <td>584</td>\n",
       "      <td>716</td>\n",
       "      <td>847</td>\n",
       "      <td>986</td>\n",
       "      <td>1171</td>\n",
       "      <td>1251</td>\n",
       "      <td>1320</td>\n",
       "    </tr>\n",
       "    <tr>\n",
       "      <th>3</th>\n",
       "      <td>Andorra</td>\n",
       "      <td>42.5063</td>\n",
       "      <td>1.5218</td>\n",
       "      <td>0</td>\n",
       "      <td>0</td>\n",
       "      <td>0</td>\n",
       "      <td>0</td>\n",
       "      <td>0</td>\n",
       "      <td>0</td>\n",
       "      <td>0</td>\n",
       "      <td>...</td>\n",
       "      <td>267</td>\n",
       "      <td>308</td>\n",
       "      <td>334</td>\n",
       "      <td>370</td>\n",
       "      <td>376</td>\n",
       "      <td>390</td>\n",
       "      <td>428</td>\n",
       "      <td>439</td>\n",
       "      <td>466</td>\n",
       "      <td>501</td>\n",
       "    </tr>\n",
       "    <tr>\n",
       "      <th>4</th>\n",
       "      <td>Angola</td>\n",
       "      <td>-11.2027</td>\n",
       "      <td>17.8739</td>\n",
       "      <td>0</td>\n",
       "      <td>0</td>\n",
       "      <td>0</td>\n",
       "      <td>0</td>\n",
       "      <td>0</td>\n",
       "      <td>0</td>\n",
       "      <td>0</td>\n",
       "      <td>...</td>\n",
       "      <td>4</td>\n",
       "      <td>5</td>\n",
       "      <td>7</td>\n",
       "      <td>7</td>\n",
       "      <td>7</td>\n",
       "      <td>8</td>\n",
       "      <td>8</td>\n",
       "      <td>8</td>\n",
       "      <td>10</td>\n",
       "      <td>14</td>\n",
       "    </tr>\n",
       "  </tbody>\n",
       "</table>\n",
       "<p>5 rows × 78 columns</p>\n",
       "</div>"
      ],
      "text/plain": [
       "  Country/Region      Lat     Long  1/22/20  1/23/20  1/24/20  1/25/20  \\\n",
       "0    Afghanistan  33.0000  65.0000        0        0        0        0   \n",
       "1        Albania  41.1533  20.1683        0        0        0        0   \n",
       "2        Algeria  28.0339   1.6596        0        0        0        0   \n",
       "3        Andorra  42.5063   1.5218        0        0        0        0   \n",
       "4         Angola -11.2027  17.8739        0        0        0        0   \n",
       "\n",
       "   1/26/20  1/27/20  1/28/20  ...  3/27/20  3/28/20  3/29/20  3/30/20  \\\n",
       "0        0        0        0  ...      110      110      120      170   \n",
       "1        0        0        0  ...      186      197      212      223   \n",
       "2        0        0        0  ...      409      454      511      584   \n",
       "3        0        0        0  ...      267      308      334      370   \n",
       "4        0        0        0  ...        4        5        7        7   \n",
       "\n",
       "   3/31/20  4/1/20  4/2/20  4/3/20  4/4/20  4/5/20  \n",
       "0      174     237     273     281     299     349  \n",
       "1      243     259     277     304     333     361  \n",
       "2      716     847     986    1171    1251    1320  \n",
       "3      376     390     428     439     466     501  \n",
       "4        7       8       8       8      10      14  \n",
       "\n",
       "[5 rows x 78 columns]"
      ]
     },
     "execution_count": 14,
     "metadata": {},
     "output_type": "execute_result"
    }
   ],
   "source": [
    "df_cnf.head()"
   ]
  },
  {
   "cell_type": "markdown",
   "metadata": {},
   "source": [
    "# ftn steps for understanding "
   ]
  },
  {
   "cell_type": "code",
   "execution_count": 15,
   "metadata": {
    "ExecuteTime": {
     "end_time": "2020-04-06T18:23:52.725983Z",
     "start_time": "2020-04-06T18:23:52.660026Z"
    }
   },
   "outputs": [
    {
     "data": {
      "text/html": [
       "<div>\n",
       "<style scoped>\n",
       "    .dataframe tbody tr th:only-of-type {\n",
       "        vertical-align: middle;\n",
       "    }\n",
       "\n",
       "    .dataframe tbody tr th {\n",
       "        vertical-align: top;\n",
       "    }\n",
       "\n",
       "    .dataframe thead th {\n",
       "        text-align: right;\n",
       "    }\n",
       "</style>\n",
       "<table border=\"1\" class=\"dataframe\">\n",
       "  <thead>\n",
       "    <tr style=\"text-align: right;\">\n",
       "      <th></th>\n",
       "      <th>Country/Region</th>\n",
       "      <th>Lat</th>\n",
       "      <th>Long</th>\n",
       "      <th>1/22/20</th>\n",
       "      <th>1/23/20</th>\n",
       "      <th>1/24/20</th>\n",
       "      <th>1/25/20</th>\n",
       "      <th>1/26/20</th>\n",
       "      <th>1/27/20</th>\n",
       "      <th>1/28/20</th>\n",
       "      <th>...</th>\n",
       "      <th>3/27/20</th>\n",
       "      <th>3/28/20</th>\n",
       "      <th>3/29/20</th>\n",
       "      <th>3/30/20</th>\n",
       "      <th>3/31/20</th>\n",
       "      <th>4/1/20</th>\n",
       "      <th>4/2/20</th>\n",
       "      <th>4/3/20</th>\n",
       "      <th>4/4/20</th>\n",
       "      <th>4/5/20</th>\n",
       "    </tr>\n",
       "  </thead>\n",
       "  <tbody>\n",
       "    <tr>\n",
       "      <th>8</th>\n",
       "      <td>Australia</td>\n",
       "      <td>-35.4735</td>\n",
       "      <td>149.0124</td>\n",
       "      <td>0</td>\n",
       "      <td>0</td>\n",
       "      <td>0</td>\n",
       "      <td>0</td>\n",
       "      <td>0</td>\n",
       "      <td>0</td>\n",
       "      <td>0</td>\n",
       "      <td>...</td>\n",
       "      <td>62</td>\n",
       "      <td>71</td>\n",
       "      <td>77</td>\n",
       "      <td>78</td>\n",
       "      <td>80</td>\n",
       "      <td>84</td>\n",
       "      <td>87</td>\n",
       "      <td>91</td>\n",
       "      <td>93</td>\n",
       "      <td>96</td>\n",
       "    </tr>\n",
       "    <tr>\n",
       "      <th>9</th>\n",
       "      <td>Australia</td>\n",
       "      <td>-33.8688</td>\n",
       "      <td>151.2093</td>\n",
       "      <td>0</td>\n",
       "      <td>0</td>\n",
       "      <td>0</td>\n",
       "      <td>0</td>\n",
       "      <td>3</td>\n",
       "      <td>4</td>\n",
       "      <td>4</td>\n",
       "      <td>...</td>\n",
       "      <td>1405</td>\n",
       "      <td>1617</td>\n",
       "      <td>1791</td>\n",
       "      <td>2032</td>\n",
       "      <td>2032</td>\n",
       "      <td>2182</td>\n",
       "      <td>2298</td>\n",
       "      <td>2389</td>\n",
       "      <td>2493</td>\n",
       "      <td>2580</td>\n",
       "    </tr>\n",
       "    <tr>\n",
       "      <th>10</th>\n",
       "      <td>Australia</td>\n",
       "      <td>-12.4634</td>\n",
       "      <td>130.8456</td>\n",
       "      <td>0</td>\n",
       "      <td>0</td>\n",
       "      <td>0</td>\n",
       "      <td>0</td>\n",
       "      <td>0</td>\n",
       "      <td>0</td>\n",
       "      <td>0</td>\n",
       "      <td>...</td>\n",
       "      <td>12</td>\n",
       "      <td>15</td>\n",
       "      <td>15</td>\n",
       "      <td>15</td>\n",
       "      <td>17</td>\n",
       "      <td>19</td>\n",
       "      <td>21</td>\n",
       "      <td>22</td>\n",
       "      <td>26</td>\n",
       "      <td>27</td>\n",
       "    </tr>\n",
       "    <tr>\n",
       "      <th>11</th>\n",
       "      <td>Australia</td>\n",
       "      <td>-28.0167</td>\n",
       "      <td>153.4000</td>\n",
       "      <td>0</td>\n",
       "      <td>0</td>\n",
       "      <td>0</td>\n",
       "      <td>0</td>\n",
       "      <td>0</td>\n",
       "      <td>0</td>\n",
       "      <td>0</td>\n",
       "      <td>...</td>\n",
       "      <td>555</td>\n",
       "      <td>625</td>\n",
       "      <td>656</td>\n",
       "      <td>689</td>\n",
       "      <td>743</td>\n",
       "      <td>781</td>\n",
       "      <td>835</td>\n",
       "      <td>873</td>\n",
       "      <td>900</td>\n",
       "      <td>907</td>\n",
       "    </tr>\n",
       "    <tr>\n",
       "      <th>12</th>\n",
       "      <td>Australia</td>\n",
       "      <td>-34.9285</td>\n",
       "      <td>138.6007</td>\n",
       "      <td>0</td>\n",
       "      <td>0</td>\n",
       "      <td>0</td>\n",
       "      <td>0</td>\n",
       "      <td>0</td>\n",
       "      <td>0</td>\n",
       "      <td>0</td>\n",
       "      <td>...</td>\n",
       "      <td>257</td>\n",
       "      <td>287</td>\n",
       "      <td>299</td>\n",
       "      <td>305</td>\n",
       "      <td>337</td>\n",
       "      <td>367</td>\n",
       "      <td>367</td>\n",
       "      <td>396</td>\n",
       "      <td>407</td>\n",
       "      <td>407</td>\n",
       "    </tr>\n",
       "    <tr>\n",
       "      <th>13</th>\n",
       "      <td>Australia</td>\n",
       "      <td>-41.4545</td>\n",
       "      <td>145.9707</td>\n",
       "      <td>0</td>\n",
       "      <td>0</td>\n",
       "      <td>0</td>\n",
       "      <td>0</td>\n",
       "      <td>0</td>\n",
       "      <td>0</td>\n",
       "      <td>0</td>\n",
       "      <td>...</td>\n",
       "      <td>47</td>\n",
       "      <td>62</td>\n",
       "      <td>66</td>\n",
       "      <td>66</td>\n",
       "      <td>69</td>\n",
       "      <td>69</td>\n",
       "      <td>72</td>\n",
       "      <td>74</td>\n",
       "      <td>80</td>\n",
       "      <td>82</td>\n",
       "    </tr>\n",
       "    <tr>\n",
       "      <th>14</th>\n",
       "      <td>Australia</td>\n",
       "      <td>-37.8136</td>\n",
       "      <td>144.9631</td>\n",
       "      <td>0</td>\n",
       "      <td>0</td>\n",
       "      <td>0</td>\n",
       "      <td>0</td>\n",
       "      <td>1</td>\n",
       "      <td>1</td>\n",
       "      <td>1</td>\n",
       "      <td>...</td>\n",
       "      <td>574</td>\n",
       "      <td>685</td>\n",
       "      <td>769</td>\n",
       "      <td>821</td>\n",
       "      <td>917</td>\n",
       "      <td>968</td>\n",
       "      <td>1036</td>\n",
       "      <td>1085</td>\n",
       "      <td>1115</td>\n",
       "      <td>1135</td>\n",
       "    </tr>\n",
       "    <tr>\n",
       "      <th>15</th>\n",
       "      <td>Australia</td>\n",
       "      <td>-31.9505</td>\n",
       "      <td>115.8605</td>\n",
       "      <td>0</td>\n",
       "      <td>0</td>\n",
       "      <td>0</td>\n",
       "      <td>0</td>\n",
       "      <td>0</td>\n",
       "      <td>0</td>\n",
       "      <td>0</td>\n",
       "      <td>...</td>\n",
       "      <td>231</td>\n",
       "      <td>278</td>\n",
       "      <td>311</td>\n",
       "      <td>355</td>\n",
       "      <td>364</td>\n",
       "      <td>392</td>\n",
       "      <td>400</td>\n",
       "      <td>400</td>\n",
       "      <td>436</td>\n",
       "      <td>453</td>\n",
       "    </tr>\n",
       "  </tbody>\n",
       "</table>\n",
       "<p>8 rows × 78 columns</p>\n",
       "</div>"
      ],
      "text/plain": [
       "   Country/Region      Lat      Long  1/22/20  1/23/20  1/24/20  1/25/20  \\\n",
       "8       Australia -35.4735  149.0124        0        0        0        0   \n",
       "9       Australia -33.8688  151.2093        0        0        0        0   \n",
       "10      Australia -12.4634  130.8456        0        0        0        0   \n",
       "11      Australia -28.0167  153.4000        0        0        0        0   \n",
       "12      Australia -34.9285  138.6007        0        0        0        0   \n",
       "13      Australia -41.4545  145.9707        0        0        0        0   \n",
       "14      Australia -37.8136  144.9631        0        0        0        0   \n",
       "15      Australia -31.9505  115.8605        0        0        0        0   \n",
       "\n",
       "    1/26/20  1/27/20  1/28/20  ...  3/27/20  3/28/20  3/29/20  3/30/20  \\\n",
       "8         0        0        0  ...       62       71       77       78   \n",
       "9         3        4        4  ...     1405     1617     1791     2032   \n",
       "10        0        0        0  ...       12       15       15       15   \n",
       "11        0        0        0  ...      555      625      656      689   \n",
       "12        0        0        0  ...      257      287      299      305   \n",
       "13        0        0        0  ...       47       62       66       66   \n",
       "14        1        1        1  ...      574      685      769      821   \n",
       "15        0        0        0  ...      231      278      311      355   \n",
       "\n",
       "    3/31/20  4/1/20  4/2/20  4/3/20  4/4/20  4/5/20  \n",
       "8        80      84      87      91      93      96  \n",
       "9      2032    2182    2298    2389    2493    2580  \n",
       "10       17      19      21      22      26      27  \n",
       "11      743     781     835     873     900     907  \n",
       "12      337     367     367     396     407     407  \n",
       "13       69      69      72      74      80      82  \n",
       "14      917     968    1036    1085    1115    1135  \n",
       "15      364     392     400     400     436     453  \n",
       "\n",
       "[8 rows x 78 columns]"
      ]
     },
     "execution_count": 15,
     "metadata": {},
     "output_type": "execute_result"
    }
   ],
   "source": [
    "df_cnf[df_cnf[\"Country/Region\"]=='Australia'] "
   ]
  },
  {
   "cell_type": "code",
   "execution_count": 16,
   "metadata": {
    "ExecuteTime": {
     "end_time": "2020-04-06T18:23:52.745975Z",
     "start_time": "2020-04-06T18:23:52.728983Z"
    }
   },
   "outputs": [
    {
     "data": {
      "text/plain": [
       "(262, 78)"
      ]
     },
     "execution_count": 16,
     "metadata": {},
     "output_type": "execute_result"
    }
   ],
   "source": [
    "df_cnf.shape"
   ]
  },
  {
   "cell_type": "code",
   "execution_count": 17,
   "metadata": {
    "ExecuteTime": {
     "end_time": "2020-04-06T18:23:52.782950Z",
     "start_time": "2020-04-06T18:23:52.749969Z"
    }
   },
   "outputs": [],
   "source": [
    "# picking the country Australia from the data frame Df_conf and store in variable df\n",
    "df = df_cnf[df_cnf[\"Country/Region\"]=='Australia']    "
   ]
  },
  {
   "cell_type": "code",
   "execution_count": 18,
   "metadata": {
    "ExecuteTime": {
     "end_time": "2020-04-06T18:23:52.824921Z",
     "start_time": "2020-04-06T18:23:52.785946Z"
    }
   },
   "outputs": [],
   "source": [
    "# Taking the mean of lat long and storing them in the data frame lat long columns. \n",
    "df['Lat'].mean(),df['Long'].mean()\n",
    "df[['Lat', 'Long']] = df['Lat'].mean(),df['Long'].mean()"
   ]
  },
  {
   "cell_type": "code",
   "execution_count": 19,
   "metadata": {
    "ExecuteTime": {
     "end_time": "2020-04-06T18:23:52.887884Z",
     "start_time": "2020-04-06T18:23:52.827921Z"
    }
   },
   "outputs": [
    {
     "data": {
      "text/html": [
       "<div>\n",
       "<style scoped>\n",
       "    .dataframe tbody tr th:only-of-type {\n",
       "        vertical-align: middle;\n",
       "    }\n",
       "\n",
       "    .dataframe tbody tr th {\n",
       "        vertical-align: top;\n",
       "    }\n",
       "\n",
       "    .dataframe thead th {\n",
       "        text-align: right;\n",
       "    }\n",
       "</style>\n",
       "<table border=\"1\" class=\"dataframe\">\n",
       "  <thead>\n",
       "    <tr style=\"text-align: right;\">\n",
       "      <th></th>\n",
       "      <th>Country/Region</th>\n",
       "      <th>Lat</th>\n",
       "      <th>Long</th>\n",
       "      <th>1/22/20</th>\n",
       "      <th>1/23/20</th>\n",
       "      <th>1/24/20</th>\n",
       "      <th>1/25/20</th>\n",
       "      <th>1/26/20</th>\n",
       "      <th>1/27/20</th>\n",
       "      <th>1/28/20</th>\n",
       "      <th>...</th>\n",
       "      <th>3/27/20</th>\n",
       "      <th>3/28/20</th>\n",
       "      <th>3/29/20</th>\n",
       "      <th>3/30/20</th>\n",
       "      <th>3/31/20</th>\n",
       "      <th>4/1/20</th>\n",
       "      <th>4/2/20</th>\n",
       "      <th>4/3/20</th>\n",
       "      <th>4/4/20</th>\n",
       "      <th>4/5/20</th>\n",
       "    </tr>\n",
       "  </thead>\n",
       "  <tbody>\n",
       "    <tr>\n",
       "      <th>8</th>\n",
       "      <td>Australia</td>\n",
       "      <td>-31.996188</td>\n",
       "      <td>141.232788</td>\n",
       "      <td>0</td>\n",
       "      <td>0</td>\n",
       "      <td>0</td>\n",
       "      <td>0</td>\n",
       "      <td>0</td>\n",
       "      <td>0</td>\n",
       "      <td>0</td>\n",
       "      <td>...</td>\n",
       "      <td>62</td>\n",
       "      <td>71</td>\n",
       "      <td>77</td>\n",
       "      <td>78</td>\n",
       "      <td>80</td>\n",
       "      <td>84</td>\n",
       "      <td>87</td>\n",
       "      <td>91</td>\n",
       "      <td>93</td>\n",
       "      <td>96</td>\n",
       "    </tr>\n",
       "    <tr>\n",
       "      <th>9</th>\n",
       "      <td>Australia</td>\n",
       "      <td>-31.996188</td>\n",
       "      <td>141.232788</td>\n",
       "      <td>0</td>\n",
       "      <td>0</td>\n",
       "      <td>0</td>\n",
       "      <td>0</td>\n",
       "      <td>3</td>\n",
       "      <td>4</td>\n",
       "      <td>4</td>\n",
       "      <td>...</td>\n",
       "      <td>1405</td>\n",
       "      <td>1617</td>\n",
       "      <td>1791</td>\n",
       "      <td>2032</td>\n",
       "      <td>2032</td>\n",
       "      <td>2182</td>\n",
       "      <td>2298</td>\n",
       "      <td>2389</td>\n",
       "      <td>2493</td>\n",
       "      <td>2580</td>\n",
       "    </tr>\n",
       "    <tr>\n",
       "      <th>10</th>\n",
       "      <td>Australia</td>\n",
       "      <td>-31.996188</td>\n",
       "      <td>141.232788</td>\n",
       "      <td>0</td>\n",
       "      <td>0</td>\n",
       "      <td>0</td>\n",
       "      <td>0</td>\n",
       "      <td>0</td>\n",
       "      <td>0</td>\n",
       "      <td>0</td>\n",
       "      <td>...</td>\n",
       "      <td>12</td>\n",
       "      <td>15</td>\n",
       "      <td>15</td>\n",
       "      <td>15</td>\n",
       "      <td>17</td>\n",
       "      <td>19</td>\n",
       "      <td>21</td>\n",
       "      <td>22</td>\n",
       "      <td>26</td>\n",
       "      <td>27</td>\n",
       "    </tr>\n",
       "    <tr>\n",
       "      <th>11</th>\n",
       "      <td>Australia</td>\n",
       "      <td>-31.996188</td>\n",
       "      <td>141.232788</td>\n",
       "      <td>0</td>\n",
       "      <td>0</td>\n",
       "      <td>0</td>\n",
       "      <td>0</td>\n",
       "      <td>0</td>\n",
       "      <td>0</td>\n",
       "      <td>0</td>\n",
       "      <td>...</td>\n",
       "      <td>555</td>\n",
       "      <td>625</td>\n",
       "      <td>656</td>\n",
       "      <td>689</td>\n",
       "      <td>743</td>\n",
       "      <td>781</td>\n",
       "      <td>835</td>\n",
       "      <td>873</td>\n",
       "      <td>900</td>\n",
       "      <td>907</td>\n",
       "    </tr>\n",
       "    <tr>\n",
       "      <th>12</th>\n",
       "      <td>Australia</td>\n",
       "      <td>-31.996188</td>\n",
       "      <td>141.232788</td>\n",
       "      <td>0</td>\n",
       "      <td>0</td>\n",
       "      <td>0</td>\n",
       "      <td>0</td>\n",
       "      <td>0</td>\n",
       "      <td>0</td>\n",
       "      <td>0</td>\n",
       "      <td>...</td>\n",
       "      <td>257</td>\n",
       "      <td>287</td>\n",
       "      <td>299</td>\n",
       "      <td>305</td>\n",
       "      <td>337</td>\n",
       "      <td>367</td>\n",
       "      <td>367</td>\n",
       "      <td>396</td>\n",
       "      <td>407</td>\n",
       "      <td>407</td>\n",
       "    </tr>\n",
       "    <tr>\n",
       "      <th>13</th>\n",
       "      <td>Australia</td>\n",
       "      <td>-31.996188</td>\n",
       "      <td>141.232788</td>\n",
       "      <td>0</td>\n",
       "      <td>0</td>\n",
       "      <td>0</td>\n",
       "      <td>0</td>\n",
       "      <td>0</td>\n",
       "      <td>0</td>\n",
       "      <td>0</td>\n",
       "      <td>...</td>\n",
       "      <td>47</td>\n",
       "      <td>62</td>\n",
       "      <td>66</td>\n",
       "      <td>66</td>\n",
       "      <td>69</td>\n",
       "      <td>69</td>\n",
       "      <td>72</td>\n",
       "      <td>74</td>\n",
       "      <td>80</td>\n",
       "      <td>82</td>\n",
       "    </tr>\n",
       "    <tr>\n",
       "      <th>14</th>\n",
       "      <td>Australia</td>\n",
       "      <td>-31.996188</td>\n",
       "      <td>141.232788</td>\n",
       "      <td>0</td>\n",
       "      <td>0</td>\n",
       "      <td>0</td>\n",
       "      <td>0</td>\n",
       "      <td>1</td>\n",
       "      <td>1</td>\n",
       "      <td>1</td>\n",
       "      <td>...</td>\n",
       "      <td>574</td>\n",
       "      <td>685</td>\n",
       "      <td>769</td>\n",
       "      <td>821</td>\n",
       "      <td>917</td>\n",
       "      <td>968</td>\n",
       "      <td>1036</td>\n",
       "      <td>1085</td>\n",
       "      <td>1115</td>\n",
       "      <td>1135</td>\n",
       "    </tr>\n",
       "    <tr>\n",
       "      <th>15</th>\n",
       "      <td>Australia</td>\n",
       "      <td>-31.996188</td>\n",
       "      <td>141.232788</td>\n",
       "      <td>0</td>\n",
       "      <td>0</td>\n",
       "      <td>0</td>\n",
       "      <td>0</td>\n",
       "      <td>0</td>\n",
       "      <td>0</td>\n",
       "      <td>0</td>\n",
       "      <td>...</td>\n",
       "      <td>231</td>\n",
       "      <td>278</td>\n",
       "      <td>311</td>\n",
       "      <td>355</td>\n",
       "      <td>364</td>\n",
       "      <td>392</td>\n",
       "      <td>400</td>\n",
       "      <td>400</td>\n",
       "      <td>436</td>\n",
       "      <td>453</td>\n",
       "    </tr>\n",
       "  </tbody>\n",
       "</table>\n",
       "<p>8 rows × 78 columns</p>\n",
       "</div>"
      ],
      "text/plain": [
       "   Country/Region        Lat        Long  1/22/20  1/23/20  1/24/20  1/25/20  \\\n",
       "8       Australia -31.996188  141.232788        0        0        0        0   \n",
       "9       Australia -31.996188  141.232788        0        0        0        0   \n",
       "10      Australia -31.996188  141.232788        0        0        0        0   \n",
       "11      Australia -31.996188  141.232788        0        0        0        0   \n",
       "12      Australia -31.996188  141.232788        0        0        0        0   \n",
       "13      Australia -31.996188  141.232788        0        0        0        0   \n",
       "14      Australia -31.996188  141.232788        0        0        0        0   \n",
       "15      Australia -31.996188  141.232788        0        0        0        0   \n",
       "\n",
       "    1/26/20  1/27/20  1/28/20  ...  3/27/20  3/28/20  3/29/20  3/30/20  \\\n",
       "8         0        0        0  ...       62       71       77       78   \n",
       "9         3        4        4  ...     1405     1617     1791     2032   \n",
       "10        0        0        0  ...       12       15       15       15   \n",
       "11        0        0        0  ...      555      625      656      689   \n",
       "12        0        0        0  ...      257      287      299      305   \n",
       "13        0        0        0  ...       47       62       66       66   \n",
       "14        1        1        1  ...      574      685      769      821   \n",
       "15        0        0        0  ...      231      278      311      355   \n",
       "\n",
       "    3/31/20  4/1/20  4/2/20  4/3/20  4/4/20  4/5/20  \n",
       "8        80      84      87      91      93      96  \n",
       "9      2032    2182    2298    2389    2493    2580  \n",
       "10       17      19      21      22      26      27  \n",
       "11      743     781     835     873     900     907  \n",
       "12      337     367     367     396     407     407  \n",
       "13       69      69      72      74      80      82  \n",
       "14      917     968    1036    1085    1115    1135  \n",
       "15      364     392     400     400     436     453  \n",
       "\n",
       "[8 rows x 78 columns]"
      ]
     },
     "execution_count": 19,
     "metadata": {},
     "output_type": "execute_result"
    }
   ],
   "source": [
    "# here we can see the lat long mean() is in the column against country Australia.\n",
    "df.head(10)"
   ]
  },
  {
   "cell_type": "code",
   "execution_count": 20,
   "metadata": {
    "ExecuteTime": {
     "end_time": "2020-04-06T18:23:52.930862Z",
     "start_time": "2020-04-06T18:23:52.890881Z"
    }
   },
   "outputs": [
    {
     "data": {
      "text/plain": [
       "'4/5/20'"
      ]
     },
     "execution_count": 20,
     "metadata": {},
     "output_type": "execute_result"
    }
   ],
   "source": [
    "df.columns[-1]"
   ]
  },
  {
   "cell_type": "code",
   "execution_count": 21,
   "metadata": {
    "ExecuteTime": {
     "end_time": "2020-04-06T18:23:52.972831Z",
     "start_time": "2020-04-06T18:23:52.933857Z"
    }
   },
   "outputs": [
    {
     "data": {
      "text/plain": [
       "8       96\n",
       "9     2580\n",
       "10      27\n",
       "11     907\n",
       "12     407\n",
       "13      82\n",
       "14    1135\n",
       "15     453\n",
       "Name: 4/5/20, dtype: int64"
      ]
     },
     "execution_count": 21,
     "metadata": {},
     "output_type": "execute_result"
    }
   ],
   "source": [
    "df[df.columns[-1]]"
   ]
  },
  {
   "cell_type": "code",
   "execution_count": 22,
   "metadata": {
    "ExecuteTime": {
     "end_time": "2020-04-06T18:23:53.013806Z",
     "start_time": "2020-04-06T18:23:52.975829Z"
    }
   },
   "outputs": [
    {
     "data": {
      "text/plain": [
       "5687"
      ]
     },
     "execution_count": 22,
     "metadata": {},
     "output_type": "execute_result"
    }
   ],
   "source": [
    "df[df.columns[-1]].sum()"
   ]
  },
  {
   "cell_type": "code",
   "execution_count": 23,
   "metadata": {
    "ExecuteTime": {
     "end_time": "2020-04-06T18:23:53.048785Z",
     "start_time": "2020-04-06T18:23:53.016803Z"
    }
   },
   "outputs": [],
   "source": [
    "df[\"Total\"] = df[df.columns[-1]].sum()"
   ]
  },
  {
   "cell_type": "code",
   "execution_count": 24,
   "metadata": {
    "ExecuteTime": {
     "end_time": "2020-04-06T18:23:53.119740Z",
     "start_time": "2020-04-06T18:23:53.051784Z"
    }
   },
   "outputs": [
    {
     "data": {
      "text/html": [
       "<div>\n",
       "<style scoped>\n",
       "    .dataframe tbody tr th:only-of-type {\n",
       "        vertical-align: middle;\n",
       "    }\n",
       "\n",
       "    .dataframe tbody tr th {\n",
       "        vertical-align: top;\n",
       "    }\n",
       "\n",
       "    .dataframe thead th {\n",
       "        text-align: right;\n",
       "    }\n",
       "</style>\n",
       "<table border=\"1\" class=\"dataframe\">\n",
       "  <thead>\n",
       "    <tr style=\"text-align: right;\">\n",
       "      <th></th>\n",
       "      <th>Country/Region</th>\n",
       "      <th>Lat</th>\n",
       "      <th>Long</th>\n",
       "      <th>1/22/20</th>\n",
       "      <th>1/23/20</th>\n",
       "      <th>1/24/20</th>\n",
       "      <th>1/25/20</th>\n",
       "      <th>1/26/20</th>\n",
       "      <th>1/27/20</th>\n",
       "      <th>1/28/20</th>\n",
       "      <th>...</th>\n",
       "      <th>3/28/20</th>\n",
       "      <th>3/29/20</th>\n",
       "      <th>3/30/20</th>\n",
       "      <th>3/31/20</th>\n",
       "      <th>4/1/20</th>\n",
       "      <th>4/2/20</th>\n",
       "      <th>4/3/20</th>\n",
       "      <th>4/4/20</th>\n",
       "      <th>4/5/20</th>\n",
       "      <th>Total</th>\n",
       "    </tr>\n",
       "  </thead>\n",
       "  <tbody>\n",
       "    <tr>\n",
       "      <th>8</th>\n",
       "      <td>Australia</td>\n",
       "      <td>-31.996188</td>\n",
       "      <td>141.232788</td>\n",
       "      <td>0</td>\n",
       "      <td>0</td>\n",
       "      <td>0</td>\n",
       "      <td>0</td>\n",
       "      <td>0</td>\n",
       "      <td>0</td>\n",
       "      <td>0</td>\n",
       "      <td>...</td>\n",
       "      <td>71</td>\n",
       "      <td>77</td>\n",
       "      <td>78</td>\n",
       "      <td>80</td>\n",
       "      <td>84</td>\n",
       "      <td>87</td>\n",
       "      <td>91</td>\n",
       "      <td>93</td>\n",
       "      <td>96</td>\n",
       "      <td>5687</td>\n",
       "    </tr>\n",
       "    <tr>\n",
       "      <th>9</th>\n",
       "      <td>Australia</td>\n",
       "      <td>-31.996188</td>\n",
       "      <td>141.232788</td>\n",
       "      <td>0</td>\n",
       "      <td>0</td>\n",
       "      <td>0</td>\n",
       "      <td>0</td>\n",
       "      <td>3</td>\n",
       "      <td>4</td>\n",
       "      <td>4</td>\n",
       "      <td>...</td>\n",
       "      <td>1617</td>\n",
       "      <td>1791</td>\n",
       "      <td>2032</td>\n",
       "      <td>2032</td>\n",
       "      <td>2182</td>\n",
       "      <td>2298</td>\n",
       "      <td>2389</td>\n",
       "      <td>2493</td>\n",
       "      <td>2580</td>\n",
       "      <td>5687</td>\n",
       "    </tr>\n",
       "    <tr>\n",
       "      <th>10</th>\n",
       "      <td>Australia</td>\n",
       "      <td>-31.996188</td>\n",
       "      <td>141.232788</td>\n",
       "      <td>0</td>\n",
       "      <td>0</td>\n",
       "      <td>0</td>\n",
       "      <td>0</td>\n",
       "      <td>0</td>\n",
       "      <td>0</td>\n",
       "      <td>0</td>\n",
       "      <td>...</td>\n",
       "      <td>15</td>\n",
       "      <td>15</td>\n",
       "      <td>15</td>\n",
       "      <td>17</td>\n",
       "      <td>19</td>\n",
       "      <td>21</td>\n",
       "      <td>22</td>\n",
       "      <td>26</td>\n",
       "      <td>27</td>\n",
       "      <td>5687</td>\n",
       "    </tr>\n",
       "    <tr>\n",
       "      <th>11</th>\n",
       "      <td>Australia</td>\n",
       "      <td>-31.996188</td>\n",
       "      <td>141.232788</td>\n",
       "      <td>0</td>\n",
       "      <td>0</td>\n",
       "      <td>0</td>\n",
       "      <td>0</td>\n",
       "      <td>0</td>\n",
       "      <td>0</td>\n",
       "      <td>0</td>\n",
       "      <td>...</td>\n",
       "      <td>625</td>\n",
       "      <td>656</td>\n",
       "      <td>689</td>\n",
       "      <td>743</td>\n",
       "      <td>781</td>\n",
       "      <td>835</td>\n",
       "      <td>873</td>\n",
       "      <td>900</td>\n",
       "      <td>907</td>\n",
       "      <td>5687</td>\n",
       "    </tr>\n",
       "    <tr>\n",
       "      <th>12</th>\n",
       "      <td>Australia</td>\n",
       "      <td>-31.996188</td>\n",
       "      <td>141.232788</td>\n",
       "      <td>0</td>\n",
       "      <td>0</td>\n",
       "      <td>0</td>\n",
       "      <td>0</td>\n",
       "      <td>0</td>\n",
       "      <td>0</td>\n",
       "      <td>0</td>\n",
       "      <td>...</td>\n",
       "      <td>287</td>\n",
       "      <td>299</td>\n",
       "      <td>305</td>\n",
       "      <td>337</td>\n",
       "      <td>367</td>\n",
       "      <td>367</td>\n",
       "      <td>396</td>\n",
       "      <td>407</td>\n",
       "      <td>407</td>\n",
       "      <td>5687</td>\n",
       "    </tr>\n",
       "    <tr>\n",
       "      <th>13</th>\n",
       "      <td>Australia</td>\n",
       "      <td>-31.996188</td>\n",
       "      <td>141.232788</td>\n",
       "      <td>0</td>\n",
       "      <td>0</td>\n",
       "      <td>0</td>\n",
       "      <td>0</td>\n",
       "      <td>0</td>\n",
       "      <td>0</td>\n",
       "      <td>0</td>\n",
       "      <td>...</td>\n",
       "      <td>62</td>\n",
       "      <td>66</td>\n",
       "      <td>66</td>\n",
       "      <td>69</td>\n",
       "      <td>69</td>\n",
       "      <td>72</td>\n",
       "      <td>74</td>\n",
       "      <td>80</td>\n",
       "      <td>82</td>\n",
       "      <td>5687</td>\n",
       "    </tr>\n",
       "    <tr>\n",
       "      <th>14</th>\n",
       "      <td>Australia</td>\n",
       "      <td>-31.996188</td>\n",
       "      <td>141.232788</td>\n",
       "      <td>0</td>\n",
       "      <td>0</td>\n",
       "      <td>0</td>\n",
       "      <td>0</td>\n",
       "      <td>1</td>\n",
       "      <td>1</td>\n",
       "      <td>1</td>\n",
       "      <td>...</td>\n",
       "      <td>685</td>\n",
       "      <td>769</td>\n",
       "      <td>821</td>\n",
       "      <td>917</td>\n",
       "      <td>968</td>\n",
       "      <td>1036</td>\n",
       "      <td>1085</td>\n",
       "      <td>1115</td>\n",
       "      <td>1135</td>\n",
       "      <td>5687</td>\n",
       "    </tr>\n",
       "    <tr>\n",
       "      <th>15</th>\n",
       "      <td>Australia</td>\n",
       "      <td>-31.996188</td>\n",
       "      <td>141.232788</td>\n",
       "      <td>0</td>\n",
       "      <td>0</td>\n",
       "      <td>0</td>\n",
       "      <td>0</td>\n",
       "      <td>0</td>\n",
       "      <td>0</td>\n",
       "      <td>0</td>\n",
       "      <td>...</td>\n",
       "      <td>278</td>\n",
       "      <td>311</td>\n",
       "      <td>355</td>\n",
       "      <td>364</td>\n",
       "      <td>392</td>\n",
       "      <td>400</td>\n",
       "      <td>400</td>\n",
       "      <td>436</td>\n",
       "      <td>453</td>\n",
       "      <td>5687</td>\n",
       "    </tr>\n",
       "  </tbody>\n",
       "</table>\n",
       "<p>8 rows × 79 columns</p>\n",
       "</div>"
      ],
      "text/plain": [
       "   Country/Region        Lat        Long  1/22/20  1/23/20  1/24/20  1/25/20  \\\n",
       "8       Australia -31.996188  141.232788        0        0        0        0   \n",
       "9       Australia -31.996188  141.232788        0        0        0        0   \n",
       "10      Australia -31.996188  141.232788        0        0        0        0   \n",
       "11      Australia -31.996188  141.232788        0        0        0        0   \n",
       "12      Australia -31.996188  141.232788        0        0        0        0   \n",
       "13      Australia -31.996188  141.232788        0        0        0        0   \n",
       "14      Australia -31.996188  141.232788        0        0        0        0   \n",
       "15      Australia -31.996188  141.232788        0        0        0        0   \n",
       "\n",
       "    1/26/20  1/27/20  1/28/20  ...  3/28/20  3/29/20  3/30/20  3/31/20  \\\n",
       "8         0        0        0  ...       71       77       78       80   \n",
       "9         3        4        4  ...     1617     1791     2032     2032   \n",
       "10        0        0        0  ...       15       15       15       17   \n",
       "11        0        0        0  ...      625      656      689      743   \n",
       "12        0        0        0  ...      287      299      305      337   \n",
       "13        0        0        0  ...       62       66       66       69   \n",
       "14        1        1        1  ...      685      769      821      917   \n",
       "15        0        0        0  ...      278      311      355      364   \n",
       "\n",
       "    4/1/20  4/2/20  4/3/20  4/4/20  4/5/20  Total  \n",
       "8       84      87      91      93      96   5687  \n",
       "9     2182    2298    2389    2493    2580   5687  \n",
       "10      19      21      22      26      27   5687  \n",
       "11     781     835     873     900     907   5687  \n",
       "12     367     367     396     407     407   5687  \n",
       "13      69      72      74      80      82   5687  \n",
       "14     968    1036    1085    1115    1135   5687  \n",
       "15     392     400     400     436     453   5687  \n",
       "\n",
       "[8 rows x 79 columns]"
      ]
     },
     "execution_count": 24,
     "metadata": {},
     "output_type": "execute_result"
    }
   ],
   "source": [
    "df"
   ]
  },
  {
   "cell_type": "markdown",
   "metadata": {},
   "source": [
    "# Function Define"
   ]
  },
  {
   "cell_type": "code",
   "execution_count": 25,
   "metadata": {
    "ExecuteTime": {
     "end_time": "2020-04-06T18:23:53.169709Z",
     "start_time": "2020-04-06T18:23:53.126736Z"
    }
   },
   "outputs": [],
   "source": [
    "# The Below function calculate the sum of repeated countries and Lat Long mean()"
   ]
  },
  {
   "cell_type": "code",
   "execution_count": 26,
   "metadata": {
    "ExecuteTime": {
     "end_time": "2020-04-06T18:23:53.214682Z",
     "start_time": "2020-04-06T18:23:53.174707Z"
    }
   },
   "outputs": [],
   "source": [
    "def total(df_cases):\n",
    "    \n",
    "    df_final = pd.DataFrame()\n",
    "    for country in df_cases['Country/Region'].unique():\n",
    "        df = df_cases[df_cases[\"Country/Region\"]== country]\n",
    "        df[['Lat', 'Long']] = df['Lat'].mean(),df['Long'].mean()\n",
    "        df[\"Total\"] = df[df.columns[-1]].sum()\n",
    "        df=df.head(1)\n",
    "        df_final = df_final.append(df)\n",
    "    return df_final"
   ]
  },
  {
   "cell_type": "code",
   "execution_count": 27,
   "metadata": {
    "ExecuteTime": {
     "end_time": "2020-04-06T18:23:55.709147Z",
     "start_time": "2020-04-06T18:23:53.217680Z"
    }
   },
   "outputs": [],
   "source": [
    "df_final_cnf = total(df_cnf)\n",
    "df_final_dth = total(df_dth)\n",
    "df_final_rcvd = total(df_rcvd)"
   ]
  },
  {
   "cell_type": "markdown",
   "metadata": {},
   "source": [
    "# Final DF's Head"
   ]
  },
  {
   "cell_type": "markdown",
   "metadata": {},
   "source": [
    "### Confirmed Head"
   ]
  },
  {
   "cell_type": "code",
   "execution_count": 28,
   "metadata": {
    "ExecuteTime": {
     "end_time": "2020-04-06T18:23:55.751120Z",
     "start_time": "2020-04-06T18:23:55.711139Z"
    }
   },
   "outputs": [
    {
     "data": {
      "text/html": [
       "<div>\n",
       "<style scoped>\n",
       "    .dataframe tbody tr th:only-of-type {\n",
       "        vertical-align: middle;\n",
       "    }\n",
       "\n",
       "    .dataframe tbody tr th {\n",
       "        vertical-align: top;\n",
       "    }\n",
       "\n",
       "    .dataframe thead th {\n",
       "        text-align: right;\n",
       "    }\n",
       "</style>\n",
       "<table border=\"1\" class=\"dataframe\">\n",
       "  <thead>\n",
       "    <tr style=\"text-align: right;\">\n",
       "      <th></th>\n",
       "      <th>Country/Region</th>\n",
       "      <th>Lat</th>\n",
       "      <th>Long</th>\n",
       "      <th>1/22/20</th>\n",
       "      <th>1/23/20</th>\n",
       "      <th>1/24/20</th>\n",
       "      <th>1/25/20</th>\n",
       "      <th>1/26/20</th>\n",
       "      <th>1/27/20</th>\n",
       "      <th>1/28/20</th>\n",
       "      <th>...</th>\n",
       "      <th>3/28/20</th>\n",
       "      <th>3/29/20</th>\n",
       "      <th>3/30/20</th>\n",
       "      <th>3/31/20</th>\n",
       "      <th>4/1/20</th>\n",
       "      <th>4/2/20</th>\n",
       "      <th>4/3/20</th>\n",
       "      <th>4/4/20</th>\n",
       "      <th>4/5/20</th>\n",
       "      <th>Total</th>\n",
       "    </tr>\n",
       "  </thead>\n",
       "  <tbody>\n",
       "    <tr>\n",
       "      <th>0</th>\n",
       "      <td>Afghanistan</td>\n",
       "      <td>33.000000</td>\n",
       "      <td>65.000000</td>\n",
       "      <td>0</td>\n",
       "      <td>0</td>\n",
       "      <td>0</td>\n",
       "      <td>0</td>\n",
       "      <td>0</td>\n",
       "      <td>0</td>\n",
       "      <td>0</td>\n",
       "      <td>...</td>\n",
       "      <td>110</td>\n",
       "      <td>120</td>\n",
       "      <td>170</td>\n",
       "      <td>174</td>\n",
       "      <td>237</td>\n",
       "      <td>273</td>\n",
       "      <td>281</td>\n",
       "      <td>299</td>\n",
       "      <td>349</td>\n",
       "      <td>349</td>\n",
       "    </tr>\n",
       "    <tr>\n",
       "      <th>1</th>\n",
       "      <td>Albania</td>\n",
       "      <td>41.153300</td>\n",
       "      <td>20.168300</td>\n",
       "      <td>0</td>\n",
       "      <td>0</td>\n",
       "      <td>0</td>\n",
       "      <td>0</td>\n",
       "      <td>0</td>\n",
       "      <td>0</td>\n",
       "      <td>0</td>\n",
       "      <td>...</td>\n",
       "      <td>197</td>\n",
       "      <td>212</td>\n",
       "      <td>223</td>\n",
       "      <td>243</td>\n",
       "      <td>259</td>\n",
       "      <td>277</td>\n",
       "      <td>304</td>\n",
       "      <td>333</td>\n",
       "      <td>361</td>\n",
       "      <td>361</td>\n",
       "    </tr>\n",
       "    <tr>\n",
       "      <th>2</th>\n",
       "      <td>Algeria</td>\n",
       "      <td>28.033900</td>\n",
       "      <td>1.659600</td>\n",
       "      <td>0</td>\n",
       "      <td>0</td>\n",
       "      <td>0</td>\n",
       "      <td>0</td>\n",
       "      <td>0</td>\n",
       "      <td>0</td>\n",
       "      <td>0</td>\n",
       "      <td>...</td>\n",
       "      <td>454</td>\n",
       "      <td>511</td>\n",
       "      <td>584</td>\n",
       "      <td>716</td>\n",
       "      <td>847</td>\n",
       "      <td>986</td>\n",
       "      <td>1171</td>\n",
       "      <td>1251</td>\n",
       "      <td>1320</td>\n",
       "      <td>1320</td>\n",
       "    </tr>\n",
       "    <tr>\n",
       "      <th>3</th>\n",
       "      <td>Andorra</td>\n",
       "      <td>42.506300</td>\n",
       "      <td>1.521800</td>\n",
       "      <td>0</td>\n",
       "      <td>0</td>\n",
       "      <td>0</td>\n",
       "      <td>0</td>\n",
       "      <td>0</td>\n",
       "      <td>0</td>\n",
       "      <td>0</td>\n",
       "      <td>...</td>\n",
       "      <td>308</td>\n",
       "      <td>334</td>\n",
       "      <td>370</td>\n",
       "      <td>376</td>\n",
       "      <td>390</td>\n",
       "      <td>428</td>\n",
       "      <td>439</td>\n",
       "      <td>466</td>\n",
       "      <td>501</td>\n",
       "      <td>501</td>\n",
       "    </tr>\n",
       "    <tr>\n",
       "      <th>4</th>\n",
       "      <td>Angola</td>\n",
       "      <td>-11.202700</td>\n",
       "      <td>17.873900</td>\n",
       "      <td>0</td>\n",
       "      <td>0</td>\n",
       "      <td>0</td>\n",
       "      <td>0</td>\n",
       "      <td>0</td>\n",
       "      <td>0</td>\n",
       "      <td>0</td>\n",
       "      <td>...</td>\n",
       "      <td>5</td>\n",
       "      <td>7</td>\n",
       "      <td>7</td>\n",
       "      <td>7</td>\n",
       "      <td>8</td>\n",
       "      <td>8</td>\n",
       "      <td>8</td>\n",
       "      <td>10</td>\n",
       "      <td>14</td>\n",
       "      <td>14</td>\n",
       "    </tr>\n",
       "    <tr>\n",
       "      <th>5</th>\n",
       "      <td>Antigua and Barbuda</td>\n",
       "      <td>17.060800</td>\n",
       "      <td>-61.796400</td>\n",
       "      <td>0</td>\n",
       "      <td>0</td>\n",
       "      <td>0</td>\n",
       "      <td>0</td>\n",
       "      <td>0</td>\n",
       "      <td>0</td>\n",
       "      <td>0</td>\n",
       "      <td>...</td>\n",
       "      <td>7</td>\n",
       "      <td>7</td>\n",
       "      <td>7</td>\n",
       "      <td>7</td>\n",
       "      <td>7</td>\n",
       "      <td>9</td>\n",
       "      <td>15</td>\n",
       "      <td>15</td>\n",
       "      <td>15</td>\n",
       "      <td>15</td>\n",
       "    </tr>\n",
       "    <tr>\n",
       "      <th>6</th>\n",
       "      <td>Argentina</td>\n",
       "      <td>-38.416100</td>\n",
       "      <td>-63.616700</td>\n",
       "      <td>0</td>\n",
       "      <td>0</td>\n",
       "      <td>0</td>\n",
       "      <td>0</td>\n",
       "      <td>0</td>\n",
       "      <td>0</td>\n",
       "      <td>0</td>\n",
       "      <td>...</td>\n",
       "      <td>690</td>\n",
       "      <td>745</td>\n",
       "      <td>820</td>\n",
       "      <td>1054</td>\n",
       "      <td>1054</td>\n",
       "      <td>1133</td>\n",
       "      <td>1265</td>\n",
       "      <td>1451</td>\n",
       "      <td>1451</td>\n",
       "      <td>1451</td>\n",
       "    </tr>\n",
       "    <tr>\n",
       "      <th>7</th>\n",
       "      <td>Armenia</td>\n",
       "      <td>40.069100</td>\n",
       "      <td>45.038200</td>\n",
       "      <td>0</td>\n",
       "      <td>0</td>\n",
       "      <td>0</td>\n",
       "      <td>0</td>\n",
       "      <td>0</td>\n",
       "      <td>0</td>\n",
       "      <td>0</td>\n",
       "      <td>...</td>\n",
       "      <td>407</td>\n",
       "      <td>424</td>\n",
       "      <td>482</td>\n",
       "      <td>532</td>\n",
       "      <td>571</td>\n",
       "      <td>663</td>\n",
       "      <td>736</td>\n",
       "      <td>770</td>\n",
       "      <td>822</td>\n",
       "      <td>822</td>\n",
       "    </tr>\n",
       "    <tr>\n",
       "      <th>8</th>\n",
       "      <td>Australia</td>\n",
       "      <td>-31.996188</td>\n",
       "      <td>141.232788</td>\n",
       "      <td>0</td>\n",
       "      <td>0</td>\n",
       "      <td>0</td>\n",
       "      <td>0</td>\n",
       "      <td>0</td>\n",
       "      <td>0</td>\n",
       "      <td>0</td>\n",
       "      <td>...</td>\n",
       "      <td>71</td>\n",
       "      <td>77</td>\n",
       "      <td>78</td>\n",
       "      <td>80</td>\n",
       "      <td>84</td>\n",
       "      <td>87</td>\n",
       "      <td>91</td>\n",
       "      <td>93</td>\n",
       "      <td>96</td>\n",
       "      <td>5687</td>\n",
       "    </tr>\n",
       "    <tr>\n",
       "      <th>16</th>\n",
       "      <td>Austria</td>\n",
       "      <td>47.516200</td>\n",
       "      <td>14.550100</td>\n",
       "      <td>0</td>\n",
       "      <td>0</td>\n",
       "      <td>0</td>\n",
       "      <td>0</td>\n",
       "      <td>0</td>\n",
       "      <td>0</td>\n",
       "      <td>0</td>\n",
       "      <td>...</td>\n",
       "      <td>8271</td>\n",
       "      <td>8788</td>\n",
       "      <td>9618</td>\n",
       "      <td>10180</td>\n",
       "      <td>10711</td>\n",
       "      <td>11129</td>\n",
       "      <td>11524</td>\n",
       "      <td>11781</td>\n",
       "      <td>12051</td>\n",
       "      <td>12051</td>\n",
       "    </tr>\n",
       "    <tr>\n",
       "      <th>17</th>\n",
       "      <td>Azerbaijan</td>\n",
       "      <td>40.143100</td>\n",
       "      <td>47.576900</td>\n",
       "      <td>0</td>\n",
       "      <td>0</td>\n",
       "      <td>0</td>\n",
       "      <td>0</td>\n",
       "      <td>0</td>\n",
       "      <td>0</td>\n",
       "      <td>0</td>\n",
       "      <td>...</td>\n",
       "      <td>182</td>\n",
       "      <td>209</td>\n",
       "      <td>273</td>\n",
       "      <td>298</td>\n",
       "      <td>359</td>\n",
       "      <td>400</td>\n",
       "      <td>443</td>\n",
       "      <td>521</td>\n",
       "      <td>584</td>\n",
       "      <td>584</td>\n",
       "    </tr>\n",
       "    <tr>\n",
       "      <th>18</th>\n",
       "      <td>Bahamas</td>\n",
       "      <td>25.034300</td>\n",
       "      <td>-77.396300</td>\n",
       "      <td>0</td>\n",
       "      <td>0</td>\n",
       "      <td>0</td>\n",
       "      <td>0</td>\n",
       "      <td>0</td>\n",
       "      <td>0</td>\n",
       "      <td>0</td>\n",
       "      <td>...</td>\n",
       "      <td>10</td>\n",
       "      <td>11</td>\n",
       "      <td>14</td>\n",
       "      <td>14</td>\n",
       "      <td>21</td>\n",
       "      <td>24</td>\n",
       "      <td>24</td>\n",
       "      <td>28</td>\n",
       "      <td>28</td>\n",
       "      <td>28</td>\n",
       "    </tr>\n",
       "    <tr>\n",
       "      <th>19</th>\n",
       "      <td>Bahrain</td>\n",
       "      <td>26.027500</td>\n",
       "      <td>50.550000</td>\n",
       "      <td>0</td>\n",
       "      <td>0</td>\n",
       "      <td>0</td>\n",
       "      <td>0</td>\n",
       "      <td>0</td>\n",
       "      <td>0</td>\n",
       "      <td>0</td>\n",
       "      <td>...</td>\n",
       "      <td>476</td>\n",
       "      <td>499</td>\n",
       "      <td>515</td>\n",
       "      <td>567</td>\n",
       "      <td>569</td>\n",
       "      <td>643</td>\n",
       "      <td>672</td>\n",
       "      <td>688</td>\n",
       "      <td>700</td>\n",
       "      <td>700</td>\n",
       "    </tr>\n",
       "    <tr>\n",
       "      <th>20</th>\n",
       "      <td>Bangladesh</td>\n",
       "      <td>23.685000</td>\n",
       "      <td>90.356300</td>\n",
       "      <td>0</td>\n",
       "      <td>0</td>\n",
       "      <td>0</td>\n",
       "      <td>0</td>\n",
       "      <td>0</td>\n",
       "      <td>0</td>\n",
       "      <td>0</td>\n",
       "      <td>...</td>\n",
       "      <td>48</td>\n",
       "      <td>48</td>\n",
       "      <td>49</td>\n",
       "      <td>51</td>\n",
       "      <td>54</td>\n",
       "      <td>56</td>\n",
       "      <td>61</td>\n",
       "      <td>70</td>\n",
       "      <td>88</td>\n",
       "      <td>88</td>\n",
       "    </tr>\n",
       "    <tr>\n",
       "      <th>21</th>\n",
       "      <td>Barbados</td>\n",
       "      <td>13.193900</td>\n",
       "      <td>-59.543200</td>\n",
       "      <td>0</td>\n",
       "      <td>0</td>\n",
       "      <td>0</td>\n",
       "      <td>0</td>\n",
       "      <td>0</td>\n",
       "      <td>0</td>\n",
       "      <td>0</td>\n",
       "      <td>...</td>\n",
       "      <td>26</td>\n",
       "      <td>33</td>\n",
       "      <td>33</td>\n",
       "      <td>34</td>\n",
       "      <td>34</td>\n",
       "      <td>46</td>\n",
       "      <td>51</td>\n",
       "      <td>52</td>\n",
       "      <td>56</td>\n",
       "      <td>56</td>\n",
       "    </tr>\n",
       "    <tr>\n",
       "      <th>22</th>\n",
       "      <td>Belarus</td>\n",
       "      <td>53.709800</td>\n",
       "      <td>27.953400</td>\n",
       "      <td>0</td>\n",
       "      <td>0</td>\n",
       "      <td>0</td>\n",
       "      <td>0</td>\n",
       "      <td>0</td>\n",
       "      <td>0</td>\n",
       "      <td>0</td>\n",
       "      <td>...</td>\n",
       "      <td>94</td>\n",
       "      <td>94</td>\n",
       "      <td>152</td>\n",
       "      <td>152</td>\n",
       "      <td>163</td>\n",
       "      <td>304</td>\n",
       "      <td>351</td>\n",
       "      <td>440</td>\n",
       "      <td>562</td>\n",
       "      <td>562</td>\n",
       "    </tr>\n",
       "    <tr>\n",
       "      <th>23</th>\n",
       "      <td>Belgium</td>\n",
       "      <td>50.833300</td>\n",
       "      <td>4.000000</td>\n",
       "      <td>0</td>\n",
       "      <td>0</td>\n",
       "      <td>0</td>\n",
       "      <td>0</td>\n",
       "      <td>0</td>\n",
       "      <td>0</td>\n",
       "      <td>0</td>\n",
       "      <td>...</td>\n",
       "      <td>9134</td>\n",
       "      <td>10836</td>\n",
       "      <td>11899</td>\n",
       "      <td>12775</td>\n",
       "      <td>13964</td>\n",
       "      <td>15348</td>\n",
       "      <td>16770</td>\n",
       "      <td>18431</td>\n",
       "      <td>19691</td>\n",
       "      <td>19691</td>\n",
       "    </tr>\n",
       "    <tr>\n",
       "      <th>24</th>\n",
       "      <td>Benin</td>\n",
       "      <td>9.307700</td>\n",
       "      <td>2.315800</td>\n",
       "      <td>0</td>\n",
       "      <td>0</td>\n",
       "      <td>0</td>\n",
       "      <td>0</td>\n",
       "      <td>0</td>\n",
       "      <td>0</td>\n",
       "      <td>0</td>\n",
       "      <td>...</td>\n",
       "      <td>6</td>\n",
       "      <td>6</td>\n",
       "      <td>6</td>\n",
       "      <td>9</td>\n",
       "      <td>13</td>\n",
       "      <td>13</td>\n",
       "      <td>16</td>\n",
       "      <td>16</td>\n",
       "      <td>22</td>\n",
       "      <td>22</td>\n",
       "    </tr>\n",
       "    <tr>\n",
       "      <th>25</th>\n",
       "      <td>Bhutan</td>\n",
       "      <td>27.514200</td>\n",
       "      <td>90.433600</td>\n",
       "      <td>0</td>\n",
       "      <td>0</td>\n",
       "      <td>0</td>\n",
       "      <td>0</td>\n",
       "      <td>0</td>\n",
       "      <td>0</td>\n",
       "      <td>0</td>\n",
       "      <td>...</td>\n",
       "      <td>3</td>\n",
       "      <td>4</td>\n",
       "      <td>4</td>\n",
       "      <td>4</td>\n",
       "      <td>4</td>\n",
       "      <td>5</td>\n",
       "      <td>5</td>\n",
       "      <td>5</td>\n",
       "      <td>5</td>\n",
       "      <td>5</td>\n",
       "    </tr>\n",
       "    <tr>\n",
       "      <th>26</th>\n",
       "      <td>Bolivia</td>\n",
       "      <td>-16.290200</td>\n",
       "      <td>-63.588700</td>\n",
       "      <td>0</td>\n",
       "      <td>0</td>\n",
       "      <td>0</td>\n",
       "      <td>0</td>\n",
       "      <td>0</td>\n",
       "      <td>0</td>\n",
       "      <td>0</td>\n",
       "      <td>...</td>\n",
       "      <td>74</td>\n",
       "      <td>81</td>\n",
       "      <td>97</td>\n",
       "      <td>107</td>\n",
       "      <td>115</td>\n",
       "      <td>123</td>\n",
       "      <td>132</td>\n",
       "      <td>139</td>\n",
       "      <td>157</td>\n",
       "      <td>157</td>\n",
       "    </tr>\n",
       "  </tbody>\n",
       "</table>\n",
       "<p>20 rows × 79 columns</p>\n",
       "</div>"
      ],
      "text/plain": [
       "         Country/Region        Lat        Long  1/22/20  1/23/20  1/24/20  \\\n",
       "0           Afghanistan  33.000000   65.000000        0        0        0   \n",
       "1               Albania  41.153300   20.168300        0        0        0   \n",
       "2               Algeria  28.033900    1.659600        0        0        0   \n",
       "3               Andorra  42.506300    1.521800        0        0        0   \n",
       "4                Angola -11.202700   17.873900        0        0        0   \n",
       "5   Antigua and Barbuda  17.060800  -61.796400        0        0        0   \n",
       "6             Argentina -38.416100  -63.616700        0        0        0   \n",
       "7               Armenia  40.069100   45.038200        0        0        0   \n",
       "8             Australia -31.996188  141.232788        0        0        0   \n",
       "16              Austria  47.516200   14.550100        0        0        0   \n",
       "17           Azerbaijan  40.143100   47.576900        0        0        0   \n",
       "18              Bahamas  25.034300  -77.396300        0        0        0   \n",
       "19              Bahrain  26.027500   50.550000        0        0        0   \n",
       "20           Bangladesh  23.685000   90.356300        0        0        0   \n",
       "21             Barbados  13.193900  -59.543200        0        0        0   \n",
       "22              Belarus  53.709800   27.953400        0        0        0   \n",
       "23              Belgium  50.833300    4.000000        0        0        0   \n",
       "24                Benin   9.307700    2.315800        0        0        0   \n",
       "25               Bhutan  27.514200   90.433600        0        0        0   \n",
       "26              Bolivia -16.290200  -63.588700        0        0        0   \n",
       "\n",
       "    1/25/20  1/26/20  1/27/20  1/28/20  ...  3/28/20  3/29/20  3/30/20  \\\n",
       "0         0        0        0        0  ...      110      120      170   \n",
       "1         0        0        0        0  ...      197      212      223   \n",
       "2         0        0        0        0  ...      454      511      584   \n",
       "3         0        0        0        0  ...      308      334      370   \n",
       "4         0        0        0        0  ...        5        7        7   \n",
       "5         0        0        0        0  ...        7        7        7   \n",
       "6         0        0        0        0  ...      690      745      820   \n",
       "7         0        0        0        0  ...      407      424      482   \n",
       "8         0        0        0        0  ...       71       77       78   \n",
       "16        0        0        0        0  ...     8271     8788     9618   \n",
       "17        0        0        0        0  ...      182      209      273   \n",
       "18        0        0        0        0  ...       10       11       14   \n",
       "19        0        0        0        0  ...      476      499      515   \n",
       "20        0        0        0        0  ...       48       48       49   \n",
       "21        0        0        0        0  ...       26       33       33   \n",
       "22        0        0        0        0  ...       94       94      152   \n",
       "23        0        0        0        0  ...     9134    10836    11899   \n",
       "24        0        0        0        0  ...        6        6        6   \n",
       "25        0        0        0        0  ...        3        4        4   \n",
       "26        0        0        0        0  ...       74       81       97   \n",
       "\n",
       "    3/31/20  4/1/20  4/2/20  4/3/20  4/4/20  4/5/20  Total  \n",
       "0       174     237     273     281     299     349    349  \n",
       "1       243     259     277     304     333     361    361  \n",
       "2       716     847     986    1171    1251    1320   1320  \n",
       "3       376     390     428     439     466     501    501  \n",
       "4         7       8       8       8      10      14     14  \n",
       "5         7       7       9      15      15      15     15  \n",
       "6      1054    1054    1133    1265    1451    1451   1451  \n",
       "7       532     571     663     736     770     822    822  \n",
       "8        80      84      87      91      93      96   5687  \n",
       "16    10180   10711   11129   11524   11781   12051  12051  \n",
       "17      298     359     400     443     521     584    584  \n",
       "18       14      21      24      24      28      28     28  \n",
       "19      567     569     643     672     688     700    700  \n",
       "20       51      54      56      61      70      88     88  \n",
       "21       34      34      46      51      52      56     56  \n",
       "22      152     163     304     351     440     562    562  \n",
       "23    12775   13964   15348   16770   18431   19691  19691  \n",
       "24        9      13      13      16      16      22     22  \n",
       "25        4       4       5       5       5       5      5  \n",
       "26      107     115     123     132     139     157    157  \n",
       "\n",
       "[20 rows x 79 columns]"
      ]
     },
     "execution_count": 28,
     "metadata": {},
     "output_type": "execute_result"
    }
   ],
   "source": [
    "df_final_cnf.head(20)"
   ]
  },
  {
   "cell_type": "code",
   "execution_count": 29,
   "metadata": {
    "ExecuteTime": {
     "end_time": "2020-04-06T18:23:55.786096Z",
     "start_time": "2020-04-06T18:23:55.754114Z"
    }
   },
   "outputs": [
    {
     "data": {
      "text/plain": [
       "79"
      ]
     },
     "execution_count": 29,
     "metadata": {},
     "output_type": "execute_result"
    }
   ],
   "source": [
    "df_final_cnf.columns.nunique()"
   ]
  },
  {
   "cell_type": "markdown",
   "metadata": {},
   "source": [
    "### Deaths's Head"
   ]
  },
  {
   "cell_type": "code",
   "execution_count": 30,
   "metadata": {
    "ExecuteTime": {
     "end_time": "2020-04-06T18:23:55.847055Z",
     "start_time": "2020-04-06T18:23:55.789091Z"
    }
   },
   "outputs": [
    {
     "data": {
      "text/html": [
       "<div>\n",
       "<style scoped>\n",
       "    .dataframe tbody tr th:only-of-type {\n",
       "        vertical-align: middle;\n",
       "    }\n",
       "\n",
       "    .dataframe tbody tr th {\n",
       "        vertical-align: top;\n",
       "    }\n",
       "\n",
       "    .dataframe thead th {\n",
       "        text-align: right;\n",
       "    }\n",
       "</style>\n",
       "<table border=\"1\" class=\"dataframe\">\n",
       "  <thead>\n",
       "    <tr style=\"text-align: right;\">\n",
       "      <th></th>\n",
       "      <th>Country/Region</th>\n",
       "      <th>Lat</th>\n",
       "      <th>Long</th>\n",
       "      <th>1/22/20</th>\n",
       "      <th>1/23/20</th>\n",
       "      <th>1/24/20</th>\n",
       "      <th>1/25/20</th>\n",
       "      <th>1/26/20</th>\n",
       "      <th>1/27/20</th>\n",
       "      <th>1/28/20</th>\n",
       "      <th>...</th>\n",
       "      <th>3/28/20</th>\n",
       "      <th>3/29/20</th>\n",
       "      <th>3/30/20</th>\n",
       "      <th>3/31/20</th>\n",
       "      <th>4/1/20</th>\n",
       "      <th>4/2/20</th>\n",
       "      <th>4/3/20</th>\n",
       "      <th>4/4/20</th>\n",
       "      <th>4/5/20</th>\n",
       "      <th>Total</th>\n",
       "    </tr>\n",
       "  </thead>\n",
       "  <tbody>\n",
       "    <tr>\n",
       "      <th>0</th>\n",
       "      <td>Afghanistan</td>\n",
       "      <td>33.0000</td>\n",
       "      <td>65.0000</td>\n",
       "      <td>0</td>\n",
       "      <td>0</td>\n",
       "      <td>0</td>\n",
       "      <td>0</td>\n",
       "      <td>0</td>\n",
       "      <td>0</td>\n",
       "      <td>0</td>\n",
       "      <td>...</td>\n",
       "      <td>4</td>\n",
       "      <td>4</td>\n",
       "      <td>4</td>\n",
       "      <td>4</td>\n",
       "      <td>4</td>\n",
       "      <td>6</td>\n",
       "      <td>6</td>\n",
       "      <td>7</td>\n",
       "      <td>7</td>\n",
       "      <td>7</td>\n",
       "    </tr>\n",
       "    <tr>\n",
       "      <th>1</th>\n",
       "      <td>Albania</td>\n",
       "      <td>41.1533</td>\n",
       "      <td>20.1683</td>\n",
       "      <td>0</td>\n",
       "      <td>0</td>\n",
       "      <td>0</td>\n",
       "      <td>0</td>\n",
       "      <td>0</td>\n",
       "      <td>0</td>\n",
       "      <td>0</td>\n",
       "      <td>...</td>\n",
       "      <td>10</td>\n",
       "      <td>10</td>\n",
       "      <td>11</td>\n",
       "      <td>15</td>\n",
       "      <td>15</td>\n",
       "      <td>16</td>\n",
       "      <td>17</td>\n",
       "      <td>20</td>\n",
       "      <td>20</td>\n",
       "      <td>20</td>\n",
       "    </tr>\n",
       "    <tr>\n",
       "      <th>2</th>\n",
       "      <td>Algeria</td>\n",
       "      <td>28.0339</td>\n",
       "      <td>1.6596</td>\n",
       "      <td>0</td>\n",
       "      <td>0</td>\n",
       "      <td>0</td>\n",
       "      <td>0</td>\n",
       "      <td>0</td>\n",
       "      <td>0</td>\n",
       "      <td>0</td>\n",
       "      <td>...</td>\n",
       "      <td>29</td>\n",
       "      <td>31</td>\n",
       "      <td>35</td>\n",
       "      <td>44</td>\n",
       "      <td>58</td>\n",
       "      <td>86</td>\n",
       "      <td>105</td>\n",
       "      <td>130</td>\n",
       "      <td>152</td>\n",
       "      <td>152</td>\n",
       "    </tr>\n",
       "    <tr>\n",
       "      <th>3</th>\n",
       "      <td>Andorra</td>\n",
       "      <td>42.5063</td>\n",
       "      <td>1.5218</td>\n",
       "      <td>0</td>\n",
       "      <td>0</td>\n",
       "      <td>0</td>\n",
       "      <td>0</td>\n",
       "      <td>0</td>\n",
       "      <td>0</td>\n",
       "      <td>0</td>\n",
       "      <td>...</td>\n",
       "      <td>3</td>\n",
       "      <td>6</td>\n",
       "      <td>8</td>\n",
       "      <td>12</td>\n",
       "      <td>14</td>\n",
       "      <td>15</td>\n",
       "      <td>16</td>\n",
       "      <td>17</td>\n",
       "      <td>18</td>\n",
       "      <td>18</td>\n",
       "    </tr>\n",
       "    <tr>\n",
       "      <th>4</th>\n",
       "      <td>Angola</td>\n",
       "      <td>-11.2027</td>\n",
       "      <td>17.8739</td>\n",
       "      <td>0</td>\n",
       "      <td>0</td>\n",
       "      <td>0</td>\n",
       "      <td>0</td>\n",
       "      <td>0</td>\n",
       "      <td>0</td>\n",
       "      <td>0</td>\n",
       "      <td>...</td>\n",
       "      <td>0</td>\n",
       "      <td>2</td>\n",
       "      <td>2</td>\n",
       "      <td>2</td>\n",
       "      <td>2</td>\n",
       "      <td>2</td>\n",
       "      <td>2</td>\n",
       "      <td>2</td>\n",
       "      <td>2</td>\n",
       "      <td>2</td>\n",
       "    </tr>\n",
       "  </tbody>\n",
       "</table>\n",
       "<p>5 rows × 79 columns</p>\n",
       "</div>"
      ],
      "text/plain": [
       "  Country/Region      Lat     Long  1/22/20  1/23/20  1/24/20  1/25/20  \\\n",
       "0    Afghanistan  33.0000  65.0000        0        0        0        0   \n",
       "1        Albania  41.1533  20.1683        0        0        0        0   \n",
       "2        Algeria  28.0339   1.6596        0        0        0        0   \n",
       "3        Andorra  42.5063   1.5218        0        0        0        0   \n",
       "4         Angola -11.2027  17.8739        0        0        0        0   \n",
       "\n",
       "   1/26/20  1/27/20  1/28/20  ...  3/28/20  3/29/20  3/30/20  3/31/20  4/1/20  \\\n",
       "0        0        0        0  ...        4        4        4        4       4   \n",
       "1        0        0        0  ...       10       10       11       15      15   \n",
       "2        0        0        0  ...       29       31       35       44      58   \n",
       "3        0        0        0  ...        3        6        8       12      14   \n",
       "4        0        0        0  ...        0        2        2        2       2   \n",
       "\n",
       "   4/2/20  4/3/20  4/4/20  4/5/20  Total  \n",
       "0       6       6       7       7      7  \n",
       "1      16      17      20      20     20  \n",
       "2      86     105     130     152    152  \n",
       "3      15      16      17      18     18  \n",
       "4       2       2       2       2      2  \n",
       "\n",
       "[5 rows x 79 columns]"
      ]
     },
     "execution_count": 30,
     "metadata": {},
     "output_type": "execute_result"
    }
   ],
   "source": [
    "df_final_dth.head()"
   ]
  },
  {
   "cell_type": "markdown",
   "metadata": {},
   "source": [
    "### Recovered head"
   ]
  },
  {
   "cell_type": "code",
   "execution_count": 31,
   "metadata": {
    "ExecuteTime": {
     "end_time": "2020-04-06T18:23:55.902024Z",
     "start_time": "2020-04-06T18:23:55.850054Z"
    }
   },
   "outputs": [
    {
     "data": {
      "text/html": [
       "<div>\n",
       "<style scoped>\n",
       "    .dataframe tbody tr th:only-of-type {\n",
       "        vertical-align: middle;\n",
       "    }\n",
       "\n",
       "    .dataframe tbody tr th {\n",
       "        vertical-align: top;\n",
       "    }\n",
       "\n",
       "    .dataframe thead th {\n",
       "        text-align: right;\n",
       "    }\n",
       "</style>\n",
       "<table border=\"1\" class=\"dataframe\">\n",
       "  <thead>\n",
       "    <tr style=\"text-align: right;\">\n",
       "      <th></th>\n",
       "      <th>Country/Region</th>\n",
       "      <th>Lat</th>\n",
       "      <th>Long</th>\n",
       "      <th>1/22/20</th>\n",
       "      <th>1/23/20</th>\n",
       "      <th>1/24/20</th>\n",
       "      <th>1/25/20</th>\n",
       "      <th>1/26/20</th>\n",
       "      <th>1/27/20</th>\n",
       "      <th>1/28/20</th>\n",
       "      <th>...</th>\n",
       "      <th>3/28/20</th>\n",
       "      <th>3/29/20</th>\n",
       "      <th>3/30/20</th>\n",
       "      <th>3/31/20</th>\n",
       "      <th>4/1/20</th>\n",
       "      <th>4/2/20</th>\n",
       "      <th>4/3/20</th>\n",
       "      <th>4/4/20</th>\n",
       "      <th>4/5/20</th>\n",
       "      <th>Total</th>\n",
       "    </tr>\n",
       "  </thead>\n",
       "  <tbody>\n",
       "    <tr>\n",
       "      <th>0</th>\n",
       "      <td>Afghanistan</td>\n",
       "      <td>33.0000</td>\n",
       "      <td>65.0000</td>\n",
       "      <td>0</td>\n",
       "      <td>0</td>\n",
       "      <td>0</td>\n",
       "      <td>0</td>\n",
       "      <td>0</td>\n",
       "      <td>0</td>\n",
       "      <td>0</td>\n",
       "      <td>...</td>\n",
       "      <td>2</td>\n",
       "      <td>2</td>\n",
       "      <td>2</td>\n",
       "      <td>5</td>\n",
       "      <td>5</td>\n",
       "      <td>10</td>\n",
       "      <td>10</td>\n",
       "      <td>10</td>\n",
       "      <td>15</td>\n",
       "      <td>15</td>\n",
       "    </tr>\n",
       "    <tr>\n",
       "      <th>1</th>\n",
       "      <td>Albania</td>\n",
       "      <td>41.1533</td>\n",
       "      <td>20.1683</td>\n",
       "      <td>0</td>\n",
       "      <td>0</td>\n",
       "      <td>0</td>\n",
       "      <td>0</td>\n",
       "      <td>0</td>\n",
       "      <td>0</td>\n",
       "      <td>0</td>\n",
       "      <td>...</td>\n",
       "      <td>31</td>\n",
       "      <td>33</td>\n",
       "      <td>44</td>\n",
       "      <td>52</td>\n",
       "      <td>67</td>\n",
       "      <td>76</td>\n",
       "      <td>89</td>\n",
       "      <td>99</td>\n",
       "      <td>104</td>\n",
       "      <td>104</td>\n",
       "    </tr>\n",
       "    <tr>\n",
       "      <th>2</th>\n",
       "      <td>Algeria</td>\n",
       "      <td>28.0339</td>\n",
       "      <td>1.6596</td>\n",
       "      <td>0</td>\n",
       "      <td>0</td>\n",
       "      <td>0</td>\n",
       "      <td>0</td>\n",
       "      <td>0</td>\n",
       "      <td>0</td>\n",
       "      <td>0</td>\n",
       "      <td>...</td>\n",
       "      <td>31</td>\n",
       "      <td>31</td>\n",
       "      <td>37</td>\n",
       "      <td>46</td>\n",
       "      <td>61</td>\n",
       "      <td>61</td>\n",
       "      <td>62</td>\n",
       "      <td>90</td>\n",
       "      <td>90</td>\n",
       "      <td>90</td>\n",
       "    </tr>\n",
       "    <tr>\n",
       "      <th>3</th>\n",
       "      <td>Andorra</td>\n",
       "      <td>42.5063</td>\n",
       "      <td>1.5218</td>\n",
       "      <td>0</td>\n",
       "      <td>0</td>\n",
       "      <td>0</td>\n",
       "      <td>0</td>\n",
       "      <td>0</td>\n",
       "      <td>0</td>\n",
       "      <td>0</td>\n",
       "      <td>...</td>\n",
       "      <td>1</td>\n",
       "      <td>1</td>\n",
       "      <td>10</td>\n",
       "      <td>10</td>\n",
       "      <td>10</td>\n",
       "      <td>10</td>\n",
       "      <td>16</td>\n",
       "      <td>21</td>\n",
       "      <td>26</td>\n",
       "      <td>26</td>\n",
       "    </tr>\n",
       "    <tr>\n",
       "      <th>4</th>\n",
       "      <td>Angola</td>\n",
       "      <td>-11.2027</td>\n",
       "      <td>17.8739</td>\n",
       "      <td>0</td>\n",
       "      <td>0</td>\n",
       "      <td>0</td>\n",
       "      <td>0</td>\n",
       "      <td>0</td>\n",
       "      <td>0</td>\n",
       "      <td>0</td>\n",
       "      <td>...</td>\n",
       "      <td>0</td>\n",
       "      <td>0</td>\n",
       "      <td>0</td>\n",
       "      <td>1</td>\n",
       "      <td>1</td>\n",
       "      <td>1</td>\n",
       "      <td>1</td>\n",
       "      <td>2</td>\n",
       "      <td>2</td>\n",
       "      <td>2</td>\n",
       "    </tr>\n",
       "  </tbody>\n",
       "</table>\n",
       "<p>5 rows × 79 columns</p>\n",
       "</div>"
      ],
      "text/plain": [
       "  Country/Region      Lat     Long  1/22/20  1/23/20  1/24/20  1/25/20  \\\n",
       "0    Afghanistan  33.0000  65.0000        0        0        0        0   \n",
       "1        Albania  41.1533  20.1683        0        0        0        0   \n",
       "2        Algeria  28.0339   1.6596        0        0        0        0   \n",
       "3        Andorra  42.5063   1.5218        0        0        0        0   \n",
       "4         Angola -11.2027  17.8739        0        0        0        0   \n",
       "\n",
       "   1/26/20  1/27/20  1/28/20  ...  3/28/20  3/29/20  3/30/20  3/31/20  4/1/20  \\\n",
       "0        0        0        0  ...        2        2        2        5       5   \n",
       "1        0        0        0  ...       31       33       44       52      67   \n",
       "2        0        0        0  ...       31       31       37       46      61   \n",
       "3        0        0        0  ...        1        1       10       10      10   \n",
       "4        0        0        0  ...        0        0        0        1       1   \n",
       "\n",
       "   4/2/20  4/3/20  4/4/20  4/5/20  Total  \n",
       "0      10      10      10      15     15  \n",
       "1      76      89      99     104    104  \n",
       "2      61      62      90      90     90  \n",
       "3      10      16      21      26     26  \n",
       "4       1       1       2       2      2  \n",
       "\n",
       "[5 rows x 79 columns]"
      ]
     },
     "execution_count": 31,
     "metadata": {},
     "output_type": "execute_result"
    }
   ],
   "source": [
    "df_final_rcvd.head()"
   ]
  },
  {
   "cell_type": "code",
   "execution_count": 32,
   "metadata": {
    "ExecuteTime": {
     "end_time": "2020-04-06T18:23:55.957987Z",
     "start_time": "2020-04-06T18:23:55.905020Z"
    }
   },
   "outputs": [
    {
     "data": {
      "text/plain": [
       "Country/Region    183\n",
       "Lat               176\n",
       "Long              178\n",
       "1/22/20             1\n",
       "1/23/20             1\n",
       "                 ... \n",
       "4/2/20             56\n",
       "4/3/20             60\n",
       "4/4/20             59\n",
       "4/5/20             61\n",
       "Total              67\n",
       "Length: 79, dtype: int64"
      ]
     },
     "execution_count": 32,
     "metadata": {},
     "output_type": "execute_result"
    }
   ],
   "source": [
    "df_final_dth.nunique()"
   ]
  },
  {
   "cell_type": "code",
   "execution_count": 33,
   "metadata": {
    "ExecuteTime": {
     "end_time": "2020-04-06T18:23:55.976975Z",
     "start_time": "2020-04-06T18:23:55.960987Z"
    }
   },
   "outputs": [
    {
     "data": {
      "text/plain": [
       "((183, 79), (183, 79), (183, 79))"
      ]
     },
     "execution_count": 33,
     "metadata": {},
     "output_type": "execute_result"
    }
   ],
   "source": [
    "df_final_cnf.shape, df_final_dth.shape, df_final_rcvd.shape "
   ]
  },
  {
   "cell_type": "markdown",
   "metadata": {},
   "source": [
    "# Folium"
   ]
  },
  {
   "cell_type": "code",
   "execution_count": 34,
   "metadata": {
    "ExecuteTime": {
     "end_time": "2020-04-06T18:23:56.046931Z",
     "start_time": "2020-04-06T18:23:55.979976Z"
    }
   },
   "outputs": [],
   "source": [
    "# define the world map\n",
    "world_map = folium.Map()"
   ]
  },
  {
   "cell_type": "code",
   "execution_count": 35,
   "metadata": {
    "ExecuteTime": {
     "end_time": "2020-04-06T18:23:57.056563Z",
     "start_time": "2020-04-06T18:23:56.048931Z"
    }
   },
   "outputs": [
    {
     "data": {
      "text/html": [
       "<div style=\"width:100%;\"><div style=\"position:relative;width:100%;height:0;padding-bottom:60%;\"><iframe src=\"about:blank\" style=\"position:absolute;width:100%;height:100%;left:0;top:0;border:none !important;\" data-html=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 onload=\"this.contentDocument.open();this.contentDocument.write(atob(this.getAttribute('data-html')));this.contentDocument.close();\" allowfullscreen webkitallowfullscreen mozallowfullscreen></iframe></div></div>"
      ],
      "text/plain": [
       "<folium.folium.Map at 0x2a7e0c123c8>"
      ]
     },
     "execution_count": 35,
     "metadata": {},
     "output_type": "execute_result"
    }
   ],
   "source": [
    "world_map=folium.Map(tiles='Stamen Terrain')\n",
    "incidents = folium.map.FeatureGroup()\n",
    "\n",
    "\n",
    "for cntry in df_final_cnf['Country/Region'].unique():\n",
    "    df=df_final_cnf[df_final_cnf['Country/Region']==cntry]\n",
    "    conf=df['Total']\n",
    "    \n",
    "    incidents.add_child(\n",
    "        folium.CircleMarker(  \n",
    "            [df['Lat'], df['Long']],\n",
    "            radius= int(conf)/3000, \n",
    "            popup= str(cntry).upper() + '\\nConfirmed:' + str(int(conf)) +\n",
    "            '\\nDeaths:' + str(int(df_final_dth[df_final_dth['Country/Region']==cntry]['Total'])) +\n",
    "            '\\nRecovered:' + str(int(df_final_rcvd[df_final_rcvd['Country/Region']==cntry]['Total'])) ,\n",
    "            tooltip = 'Click Here',\n",
    "            color=['red'],\n",
    "            fill=True,\n",
    "            fill_color='red',\n",
    "            fill_opacity=0.7,\n",
    "            legend_name='Covid 19 world wide cases'\n",
    "        )\n",
    "    )\n",
    "#     df_final_cnf['Total'].mean()\n",
    "\n",
    "world_map.add_child(incidents)"
   ]
  },
  {
   "cell_type": "markdown",
   "metadata": {},
   "source": [
    "# Prediction_plotting"
   ]
  },
  {
   "cell_type": "code",
   "execution_count": 36,
   "metadata": {
    "ExecuteTime": {
     "end_time": "2020-04-06T18:23:59.573009Z",
     "start_time": "2020-04-06T18:23:57.060560Z"
    }
   },
   "outputs": [
    {
     "data": {
      "text/plain": [
       "Text(0.5, 0, 'Countries')"
      ]
     },
     "execution_count": 36,
     "metadata": {},
     "output_type": "execute_result"
    },
    {
     "data": {
      "image/png": "[encoded data removed]",
      "text/plain": [
       "<Figure size 1080x576 with 1 Axes>"
      ]
     },
     "metadata": {
      "needs_background": "light"
     },
     "output_type": "display_data"
    }
   ],
   "source": [
    "# option 2: preferred option with more flexibility\n",
    "ax = df_final_cnf.plot(x='Country/Region',y ='Total', kind='bar', figsize=(15, 8))\n",
    "ax.set_title('COVID19 Cases Bar Chart')\n",
    "ax.set_ylabel('Number of peoples ')\n",
    "ax.set_xlabel('Countries')"
   ]
  },
  {
   "cell_type": "markdown",
   "metadata": {},
   "source": [
    "# Scatter Plot "
   ]
  },
  {
   "cell_type": "code",
   "execution_count": 37,
   "metadata": {
    "ExecuteTime": {
     "end_time": "2020-04-06T18:23:59.599991Z",
     "start_time": "2020-04-06T18:23:59.576007Z"
    }
   },
   "outputs": [
    {
     "data": {
      "text/html": [
       "<div>\n",
       "<style scoped>\n",
       "    .dataframe tbody tr th:only-of-type {\n",
       "        vertical-align: middle;\n",
       "    }\n",
       "\n",
       "    .dataframe tbody tr th {\n",
       "        vertical-align: top;\n",
       "    }\n",
       "\n",
       "    .dataframe thead th {\n",
       "        text-align: right;\n",
       "    }\n",
       "</style>\n",
       "<table border=\"1\" class=\"dataframe\">\n",
       "  <thead>\n",
       "    <tr style=\"text-align: right;\">\n",
       "      <th></th>\n",
       "      <th>Country/Region</th>\n",
       "      <th>Lat</th>\n",
       "      <th>Long</th>\n",
       "      <th>1/22/20</th>\n",
       "      <th>1/23/20</th>\n",
       "      <th>1/24/20</th>\n",
       "      <th>1/25/20</th>\n",
       "      <th>1/26/20</th>\n",
       "      <th>1/27/20</th>\n",
       "      <th>1/28/20</th>\n",
       "      <th>...</th>\n",
       "      <th>3/28/20</th>\n",
       "      <th>3/29/20</th>\n",
       "      <th>3/30/20</th>\n",
       "      <th>3/31/20</th>\n",
       "      <th>4/1/20</th>\n",
       "      <th>4/2/20</th>\n",
       "      <th>4/3/20</th>\n",
       "      <th>4/4/20</th>\n",
       "      <th>4/5/20</th>\n",
       "      <th>Total</th>\n",
       "    </tr>\n",
       "  </thead>\n",
       "  <tbody>\n",
       "    <tr>\n",
       "      <th>225</th>\n",
       "      <td>US</td>\n",
       "      <td>37.0902</td>\n",
       "      <td>-95.7129</td>\n",
       "      <td>1</td>\n",
       "      <td>1</td>\n",
       "      <td>2</td>\n",
       "      <td>2</td>\n",
       "      <td>5</td>\n",
       "      <td>5</td>\n",
       "      <td>5</td>\n",
       "      <td>...</td>\n",
       "      <td>121478</td>\n",
       "      <td>140886</td>\n",
       "      <td>161807</td>\n",
       "      <td>188172</td>\n",
       "      <td>213372</td>\n",
       "      <td>243453</td>\n",
       "      <td>275586</td>\n",
       "      <td>308850</td>\n",
       "      <td>337072</td>\n",
       "      <td>337072</td>\n",
       "    </tr>\n",
       "  </tbody>\n",
       "</table>\n",
       "<p>1 rows × 79 columns</p>\n",
       "</div>"
      ],
      "text/plain": [
       "    Country/Region      Lat     Long  1/22/20  1/23/20  1/24/20  1/25/20  \\\n",
       "225             US  37.0902 -95.7129        1        1        2        2   \n",
       "\n",
       "     1/26/20  1/27/20  1/28/20  ...  3/28/20  3/29/20  3/30/20  3/31/20  \\\n",
       "225        5        5        5  ...   121478   140886   161807   188172   \n",
       "\n",
       "     4/1/20  4/2/20  4/3/20  4/4/20  4/5/20   Total  \n",
       "225  213372  243453  275586  308850  337072  337072  \n",
       "\n",
       "[1 rows x 79 columns]"
      ]
     },
     "execution_count": 37,
     "metadata": {},
     "output_type": "execute_result"
    }
   ],
   "source": [
    "df_us = df_final_cnf[df_final_cnf['Country/Region'] == 'US']\n",
    "df_us"
   ]
  },
  {
   "cell_type": "code",
   "execution_count": 38,
   "metadata": {
    "ExecuteTime": {
     "end_time": "2020-04-06T18:23:59.660956Z",
     "start_time": "2020-04-06T18:23:59.602991Z"
    }
   },
   "outputs": [
    {
     "data": {
      "text/html": [
       "<div>\n",
       "<style scoped>\n",
       "    .dataframe tbody tr th:only-of-type {\n",
       "        vertical-align: middle;\n",
       "    }\n",
       "\n",
       "    .dataframe tbody tr th {\n",
       "        vertical-align: top;\n",
       "    }\n",
       "\n",
       "    .dataframe thead th {\n",
       "        text-align: right;\n",
       "    }\n",
       "</style>\n",
       "<table border=\"1\" class=\"dataframe\">\n",
       "  <thead>\n",
       "    <tr style=\"text-align: right;\">\n",
       "      <th></th>\n",
       "      <th>1/22/20</th>\n",
       "      <th>1/23/20</th>\n",
       "      <th>1/24/20</th>\n",
       "      <th>1/25/20</th>\n",
       "      <th>1/26/20</th>\n",
       "      <th>1/27/20</th>\n",
       "      <th>1/28/20</th>\n",
       "      <th>1/29/20</th>\n",
       "      <th>1/30/20</th>\n",
       "      <th>1/31/20</th>\n",
       "      <th>...</th>\n",
       "      <th>3/27/20</th>\n",
       "      <th>3/28/20</th>\n",
       "      <th>3/29/20</th>\n",
       "      <th>3/30/20</th>\n",
       "      <th>3/31/20</th>\n",
       "      <th>4/1/20</th>\n",
       "      <th>4/2/20</th>\n",
       "      <th>4/3/20</th>\n",
       "      <th>4/4/20</th>\n",
       "      <th>4/5/20</th>\n",
       "    </tr>\n",
       "  </thead>\n",
       "  <tbody>\n",
       "    <tr>\n",
       "      <th>225</th>\n",
       "      <td>1</td>\n",
       "      <td>1</td>\n",
       "      <td>2</td>\n",
       "      <td>2</td>\n",
       "      <td>5</td>\n",
       "      <td>5</td>\n",
       "      <td>5</td>\n",
       "      <td>5</td>\n",
       "      <td>5</td>\n",
       "      <td>7</td>\n",
       "      <td>...</td>\n",
       "      <td>101657</td>\n",
       "      <td>121478</td>\n",
       "      <td>140886</td>\n",
       "      <td>161807</td>\n",
       "      <td>188172</td>\n",
       "      <td>213372</td>\n",
       "      <td>243453</td>\n",
       "      <td>275586</td>\n",
       "      <td>308850</td>\n",
       "      <td>337072</td>\n",
       "    </tr>\n",
       "  </tbody>\n",
       "</table>\n",
       "<p>1 rows × 75 columns</p>\n",
       "</div>"
      ],
      "text/plain": [
       "     1/22/20  1/23/20  1/24/20  1/25/20  1/26/20  1/27/20  1/28/20  1/29/20  \\\n",
       "225        1        1        2        2        5        5        5        5   \n",
       "\n",
       "     1/30/20  1/31/20  ...  3/27/20  3/28/20  3/29/20  3/30/20  3/31/20  \\\n",
       "225        5        7  ...   101657   121478   140886   161807   188172   \n",
       "\n",
       "     4/1/20  4/2/20  4/3/20  4/4/20  4/5/20  \n",
       "225  213372  243453  275586  308850  337072  \n",
       "\n",
       "[1 rows x 75 columns]"
      ]
     },
     "execution_count": 38,
     "metadata": {},
     "output_type": "execute_result"
    }
   ],
   "source": [
    "a = df_us.iloc[:,3:]\n",
    "a.drop(['Total'], axis=1, inplace=True)\n",
    "a"
   ]
  },
  {
   "cell_type": "code",
   "execution_count": 39,
   "metadata": {
    "ExecuteTime": {
     "end_time": "2020-04-06T18:23:59.703927Z",
     "start_time": "2020-04-06T18:23:59.663952Z"
    }
   },
   "outputs": [
    {
     "data": {
      "text/html": [
       "<div>\n",
       "<style scoped>\n",
       "    .dataframe tbody tr th:only-of-type {\n",
       "        vertical-align: middle;\n",
       "    }\n",
       "\n",
       "    .dataframe tbody tr th {\n",
       "        vertical-align: top;\n",
       "    }\n",
       "\n",
       "    .dataframe thead th {\n",
       "        text-align: right;\n",
       "    }\n",
       "</style>\n",
       "<table border=\"1\" class=\"dataframe\">\n",
       "  <thead>\n",
       "    <tr style=\"text-align: right;\">\n",
       "      <th></th>\n",
       "      <th>225</th>\n",
       "    </tr>\n",
       "  </thead>\n",
       "  <tbody>\n",
       "    <tr>\n",
       "      <th>1/22/20</th>\n",
       "      <td>1</td>\n",
       "    </tr>\n",
       "    <tr>\n",
       "      <th>1/23/20</th>\n",
       "      <td>1</td>\n",
       "    </tr>\n",
       "    <tr>\n",
       "      <th>1/24/20</th>\n",
       "      <td>2</td>\n",
       "    </tr>\n",
       "    <tr>\n",
       "      <th>1/25/20</th>\n",
       "      <td>2</td>\n",
       "    </tr>\n",
       "    <tr>\n",
       "      <th>1/26/20</th>\n",
       "      <td>5</td>\n",
       "    </tr>\n",
       "    <tr>\n",
       "      <th>...</th>\n",
       "      <td>...</td>\n",
       "    </tr>\n",
       "    <tr>\n",
       "      <th>4/1/20</th>\n",
       "      <td>213372</td>\n",
       "    </tr>\n",
       "    <tr>\n",
       "      <th>4/2/20</th>\n",
       "      <td>243453</td>\n",
       "    </tr>\n",
       "    <tr>\n",
       "      <th>4/3/20</th>\n",
       "      <td>275586</td>\n",
       "    </tr>\n",
       "    <tr>\n",
       "      <th>4/4/20</th>\n",
       "      <td>308850</td>\n",
       "    </tr>\n",
       "    <tr>\n",
       "      <th>4/5/20</th>\n",
       "      <td>337072</td>\n",
       "    </tr>\n",
       "  </tbody>\n",
       "</table>\n",
       "<p>75 rows × 1 columns</p>\n",
       "</div>"
      ],
      "text/plain": [
       "            225\n",
       "1/22/20       1\n",
       "1/23/20       1\n",
       "1/24/20       2\n",
       "1/25/20       2\n",
       "1/26/20       5\n",
       "...         ...\n",
       "4/1/20   213372\n",
       "4/2/20   243453\n",
       "4/3/20   275586\n",
       "4/4/20   308850\n",
       "4/5/20   337072\n",
       "\n",
       "[75 rows x 1 columns]"
      ]
     },
     "execution_count": 39,
     "metadata": {},
     "output_type": "execute_result"
    }
   ],
   "source": [
    "us = a.transpose()\n",
    "us"
   ]
  },
  {
   "cell_type": "code",
   "execution_count": 40,
   "metadata": {
    "ExecuteTime": {
     "end_time": "2020-04-06T18:23:59.743902Z",
     "start_time": "2020-04-06T18:23:59.706927Z"
    }
   },
   "outputs": [
    {
     "data": {
      "text/plain": [
       "Index(['1/22/20', '1/23/20', '1/24/20', '1/25/20', '1/26/20', '1/27/20',\n",
       "       '1/28/20', '1/29/20', '1/30/20', '1/31/20', '2/1/20', '2/2/20',\n",
       "       '2/3/20', '2/4/20', '2/5/20', '2/6/20', '2/7/20', '2/8/20', '2/9/20',\n",
       "       '2/10/20', '2/11/20', '2/12/20', '2/13/20', '2/14/20', '2/15/20',\n",
       "       '2/16/20', '2/17/20', '2/18/20', '2/19/20', '2/20/20', '2/21/20',\n",
       "       '2/22/20', '2/23/20', '2/24/20', '2/25/20', '2/26/20', '2/27/20',\n",
       "       '2/28/20', '2/29/20', '3/1/20', '3/2/20', '3/3/20', '3/4/20', '3/5/20',\n",
       "       '3/6/20', '3/7/20', '3/8/20', '3/9/20', '3/10/20', '3/11/20', '3/12/20',\n",
       "       '3/13/20', '3/14/20', '3/15/20', '3/16/20', '3/17/20', '3/18/20',\n",
       "       '3/19/20', '3/20/20', '3/21/20', '3/22/20', '3/23/20', '3/24/20',\n",
       "       '3/25/20', '3/26/20', '3/27/20', '3/28/20', '3/29/20', '3/30/20',\n",
       "       '3/31/20', '4/1/20', '4/2/20', '4/3/20', '4/4/20', '4/5/20'],\n",
       "      dtype='object')"
      ]
     },
     "execution_count": 40,
     "metadata": {},
     "output_type": "execute_result"
    }
   ],
   "source": [
    "us.index"
   ]
  },
  {
   "cell_type": "code",
   "execution_count": 41,
   "metadata": {
    "ExecuteTime": {
     "end_time": "2020-04-06T18:23:59.796870Z",
     "start_time": "2020-04-06T18:23:59.746901Z"
    }
   },
   "outputs": [
    {
     "data": {
      "text/html": [
       "<div>\n",
       "<style scoped>\n",
       "    .dataframe tbody tr th:only-of-type {\n",
       "        vertical-align: middle;\n",
       "    }\n",
       "\n",
       "    .dataframe tbody tr th {\n",
       "        vertical-align: top;\n",
       "    }\n",
       "\n",
       "    .dataframe thead th {\n",
       "        text-align: right;\n",
       "    }\n",
       "</style>\n",
       "<table border=\"1\" class=\"dataframe\">\n",
       "  <thead>\n",
       "    <tr style=\"text-align: right;\">\n",
       "      <th></th>\n",
       "      <th>index</th>\n",
       "      <th>225</th>\n",
       "    </tr>\n",
       "  </thead>\n",
       "  <tbody>\n",
       "    <tr>\n",
       "      <th>0</th>\n",
       "      <td>1/22/20</td>\n",
       "      <td>1</td>\n",
       "    </tr>\n",
       "    <tr>\n",
       "      <th>1</th>\n",
       "      <td>1/23/20</td>\n",
       "      <td>1</td>\n",
       "    </tr>\n",
       "    <tr>\n",
       "      <th>2</th>\n",
       "      <td>1/24/20</td>\n",
       "      <td>2</td>\n",
       "    </tr>\n",
       "    <tr>\n",
       "      <th>3</th>\n",
       "      <td>1/25/20</td>\n",
       "      <td>2</td>\n",
       "    </tr>\n",
       "    <tr>\n",
       "      <th>4</th>\n",
       "      <td>1/26/20</td>\n",
       "      <td>5</td>\n",
       "    </tr>\n",
       "    <tr>\n",
       "      <th>...</th>\n",
       "      <td>...</td>\n",
       "      <td>...</td>\n",
       "    </tr>\n",
       "    <tr>\n",
       "      <th>70</th>\n",
       "      <td>4/1/20</td>\n",
       "      <td>213372</td>\n",
       "    </tr>\n",
       "    <tr>\n",
       "      <th>71</th>\n",
       "      <td>4/2/20</td>\n",
       "      <td>243453</td>\n",
       "    </tr>\n",
       "    <tr>\n",
       "      <th>72</th>\n",
       "      <td>4/3/20</td>\n",
       "      <td>275586</td>\n",
       "    </tr>\n",
       "    <tr>\n",
       "      <th>73</th>\n",
       "      <td>4/4/20</td>\n",
       "      <td>308850</td>\n",
       "    </tr>\n",
       "    <tr>\n",
       "      <th>74</th>\n",
       "      <td>4/5/20</td>\n",
       "      <td>337072</td>\n",
       "    </tr>\n",
       "  </tbody>\n",
       "</table>\n",
       "<p>75 rows × 2 columns</p>\n",
       "</div>"
      ],
      "text/plain": [
       "      index     225\n",
       "0   1/22/20       1\n",
       "1   1/23/20       1\n",
       "2   1/24/20       2\n",
       "3   1/25/20       2\n",
       "4   1/26/20       5\n",
       "..      ...     ...\n",
       "70   4/1/20  213372\n",
       "71   4/2/20  243453\n",
       "72   4/3/20  275586\n",
       "73   4/4/20  308850\n",
       "74   4/5/20  337072\n",
       "\n",
       "[75 rows x 2 columns]"
      ]
     },
     "execution_count": 41,
     "metadata": {},
     "output_type": "execute_result"
    }
   ],
   "source": [
    "us.reset_index(inplace=True)\n",
    "us"
   ]
  },
  {
   "cell_type": "code",
   "execution_count": 42,
   "metadata": {
    "ExecuteTime": {
     "end_time": "2020-04-06T18:23:59.837845Z",
     "start_time": "2020-04-06T18:23:59.799869Z"
    }
   },
   "outputs": [],
   "source": [
    "# us.columns = ['Dates'] \n",
    "us.rename(columns= {'index' :'Dates' , 225: 'Cases'}, inplace=True)"
   ]
  },
  {
   "cell_type": "code",
   "execution_count": 43,
   "metadata": {
    "ExecuteTime": {
     "end_time": "2020-04-06T18:23:59.889811Z",
     "start_time": "2020-04-06T18:23:59.841842Z"
    }
   },
   "outputs": [
    {
     "data": {
      "text/html": [
       "<div>\n",
       "<style scoped>\n",
       "    .dataframe tbody tr th:only-of-type {\n",
       "        vertical-align: middle;\n",
       "    }\n",
       "\n",
       "    .dataframe tbody tr th {\n",
       "        vertical-align: top;\n",
       "    }\n",
       "\n",
       "    .dataframe thead th {\n",
       "        text-align: right;\n",
       "    }\n",
       "</style>\n",
       "<table border=\"1\" class=\"dataframe\">\n",
       "  <thead>\n",
       "    <tr style=\"text-align: right;\">\n",
       "      <th></th>\n",
       "      <th>Dates</th>\n",
       "      <th>Cases</th>\n",
       "    </tr>\n",
       "  </thead>\n",
       "  <tbody>\n",
       "    <tr>\n",
       "      <th>0</th>\n",
       "      <td>1/22/20</td>\n",
       "      <td>1</td>\n",
       "    </tr>\n",
       "    <tr>\n",
       "      <th>1</th>\n",
       "      <td>1/23/20</td>\n",
       "      <td>1</td>\n",
       "    </tr>\n",
       "    <tr>\n",
       "      <th>2</th>\n",
       "      <td>1/24/20</td>\n",
       "      <td>2</td>\n",
       "    </tr>\n",
       "    <tr>\n",
       "      <th>3</th>\n",
       "      <td>1/25/20</td>\n",
       "      <td>2</td>\n",
       "    </tr>\n",
       "    <tr>\n",
       "      <th>4</th>\n",
       "      <td>1/26/20</td>\n",
       "      <td>5</td>\n",
       "    </tr>\n",
       "    <tr>\n",
       "      <th>...</th>\n",
       "      <td>...</td>\n",
       "      <td>...</td>\n",
       "    </tr>\n",
       "    <tr>\n",
       "      <th>70</th>\n",
       "      <td>4/1/20</td>\n",
       "      <td>213372</td>\n",
       "    </tr>\n",
       "    <tr>\n",
       "      <th>71</th>\n",
       "      <td>4/2/20</td>\n",
       "      <td>243453</td>\n",
       "    </tr>\n",
       "    <tr>\n",
       "      <th>72</th>\n",
       "      <td>4/3/20</td>\n",
       "      <td>275586</td>\n",
       "    </tr>\n",
       "    <tr>\n",
       "      <th>73</th>\n",
       "      <td>4/4/20</td>\n",
       "      <td>308850</td>\n",
       "    </tr>\n",
       "    <tr>\n",
       "      <th>74</th>\n",
       "      <td>4/5/20</td>\n",
       "      <td>337072</td>\n",
       "    </tr>\n",
       "  </tbody>\n",
       "</table>\n",
       "<p>75 rows × 2 columns</p>\n",
       "</div>"
      ],
      "text/plain": [
       "      Dates   Cases\n",
       "0   1/22/20       1\n",
       "1   1/23/20       1\n",
       "2   1/24/20       2\n",
       "3   1/25/20       2\n",
       "4   1/26/20       5\n",
       "..      ...     ...\n",
       "70   4/1/20  213372\n",
       "71   4/2/20  243453\n",
       "72   4/3/20  275586\n",
       "73   4/4/20  308850\n",
       "74   4/5/20  337072\n",
       "\n",
       "[75 rows x 2 columns]"
      ]
     },
     "execution_count": 43,
     "metadata": {},
     "output_type": "execute_result"
    }
   ],
   "source": [
    "us"
   ]
  },
  {
   "cell_type": "code",
   "execution_count": 44,
   "metadata": {
    "ExecuteTime": {
     "end_time": "2020-04-06T18:23:59.929788Z",
     "start_time": "2020-04-06T18:23:59.892812Z"
    }
   },
   "outputs": [
    {
     "name": "stdout",
     "output_type": "stream",
     "text": [
      "<class 'pandas.core.frame.DataFrame'>\n",
      "RangeIndex: 75 entries, 0 to 74\n",
      "Data columns (total 2 columns):\n",
      " #   Column  Non-Null Count  Dtype \n",
      "---  ------  --------------  ----- \n",
      " 0   Dates   75 non-null     object\n",
      " 1   Cases   75 non-null     int64 \n",
      "dtypes: int64(1), object(1)\n",
      "memory usage: 1.3+ KB\n"
     ]
    }
   ],
   "source": [
    "us.info()"
   ]
  },
  {
   "cell_type": "code",
   "execution_count": 45,
   "metadata": {
    "ExecuteTime": {
     "end_time": "2020-04-06T18:23:59.979756Z",
     "start_time": "2020-04-06T18:23:59.932786Z"
    }
   },
   "outputs": [],
   "source": [
    "us['Dates'] = us['Dates'].astype('datetime64[ns]')"
   ]
  },
  {
   "cell_type": "code",
   "execution_count": 46,
   "metadata": {
    "ExecuteTime": {
     "end_time": "2020-04-06T18:24:00.024730Z",
     "start_time": "2020-04-06T18:23:59.981754Z"
    }
   },
   "outputs": [
    {
     "name": "stdout",
     "output_type": "stream",
     "text": [
      "<class 'pandas.core.frame.DataFrame'>\n",
      "RangeIndex: 75 entries, 0 to 74\n",
      "Data columns (total 2 columns):\n",
      " #   Column  Non-Null Count  Dtype         \n",
      "---  ------  --------------  -----         \n",
      " 0   Dates   75 non-null     datetime64[ns]\n",
      " 1   Cases   75 non-null     int64         \n",
      "dtypes: datetime64[ns](1), int64(1)\n",
      "memory usage: 1.3 KB\n"
     ]
    }
   ],
   "source": [
    "#converted the date datatype int datetime64[ns]\n",
    "us.info()"
   ]
  },
  {
   "cell_type": "code",
   "execution_count": 47,
   "metadata": {
    "ExecuteTime": {
     "end_time": "2020-04-06T18:24:00.081695Z",
     "start_time": "2020-04-06T18:24:00.027729Z"
    }
   },
   "outputs": [
    {
     "data": {
      "text/html": [
       "<div>\n",
       "<style scoped>\n",
       "    .dataframe tbody tr th:only-of-type {\n",
       "        vertical-align: middle;\n",
       "    }\n",
       "\n",
       "    .dataframe tbody tr th {\n",
       "        vertical-align: top;\n",
       "    }\n",
       "\n",
       "    .dataframe thead th {\n",
       "        text-align: right;\n",
       "    }\n",
       "</style>\n",
       "<table border=\"1\" class=\"dataframe\">\n",
       "  <thead>\n",
       "    <tr style=\"text-align: right;\">\n",
       "      <th></th>\n",
       "      <th>Dates</th>\n",
       "      <th>Cases</th>\n",
       "    </tr>\n",
       "  </thead>\n",
       "  <tbody>\n",
       "    <tr>\n",
       "      <th>0</th>\n",
       "      <td>2020-01-22</td>\n",
       "      <td>1</td>\n",
       "    </tr>\n",
       "    <tr>\n",
       "      <th>1</th>\n",
       "      <td>2020-01-23</td>\n",
       "      <td>1</td>\n",
       "    </tr>\n",
       "    <tr>\n",
       "      <th>2</th>\n",
       "      <td>2020-01-24</td>\n",
       "      <td>2</td>\n",
       "    </tr>\n",
       "    <tr>\n",
       "      <th>3</th>\n",
       "      <td>2020-01-25</td>\n",
       "      <td>2</td>\n",
       "    </tr>\n",
       "    <tr>\n",
       "      <th>4</th>\n",
       "      <td>2020-01-26</td>\n",
       "      <td>5</td>\n",
       "    </tr>\n",
       "    <tr>\n",
       "      <th>...</th>\n",
       "      <td>...</td>\n",
       "      <td>...</td>\n",
       "    </tr>\n",
       "    <tr>\n",
       "      <th>70</th>\n",
       "      <td>2020-04-01</td>\n",
       "      <td>213372</td>\n",
       "    </tr>\n",
       "    <tr>\n",
       "      <th>71</th>\n",
       "      <td>2020-04-02</td>\n",
       "      <td>243453</td>\n",
       "    </tr>\n",
       "    <tr>\n",
       "      <th>72</th>\n",
       "      <td>2020-04-03</td>\n",
       "      <td>275586</td>\n",
       "    </tr>\n",
       "    <tr>\n",
       "      <th>73</th>\n",
       "      <td>2020-04-04</td>\n",
       "      <td>308850</td>\n",
       "    </tr>\n",
       "    <tr>\n",
       "      <th>74</th>\n",
       "      <td>2020-04-05</td>\n",
       "      <td>337072</td>\n",
       "    </tr>\n",
       "  </tbody>\n",
       "</table>\n",
       "<p>75 rows × 2 columns</p>\n",
       "</div>"
      ],
      "text/plain": [
       "        Dates   Cases\n",
       "0  2020-01-22       1\n",
       "1  2020-01-23       1\n",
       "2  2020-01-24       2\n",
       "3  2020-01-25       2\n",
       "4  2020-01-26       5\n",
       "..        ...     ...\n",
       "70 2020-04-01  213372\n",
       "71 2020-04-02  243453\n",
       "72 2020-04-03  275586\n",
       "73 2020-04-04  308850\n",
       "74 2020-04-05  337072\n",
       "\n",
       "[75 rows x 2 columns]"
      ]
     },
     "execution_count": 47,
     "metadata": {},
     "output_type": "execute_result"
    }
   ],
   "source": [
    "us"
   ]
  },
  {
   "cell_type": "code",
   "execution_count": 48,
   "metadata": {
    "ExecuteTime": {
     "end_time": "2020-04-06T18:24:00.423484Z",
     "start_time": "2020-04-06T18:24:00.084692Z"
    }
   },
   "outputs": [
    {
     "data": {
      "text/plain": [
       "Text(0.5, 0, 'Dates')"
      ]
     },
     "execution_count": 48,
     "metadata": {},
     "output_type": "execute_result"
    },
    {
     "data": {
      "image/png": "[encoded data removed]",
      "text/plain": [
       "<Figure size 720x432 with 1 Axes>"
      ]
     },
     "metadata": {
      "needs_background": "light"
     },
     "output_type": "display_data"
    }
   ],
   "source": [
    "# option 2: preferred option with more flexibility\n",
    "ax = us.plot(x= 'Dates' ,y ='Cases', kind='scatter', figsize=(10, 6))\n",
    "ax.set_title('COVID19 US Cases')\n",
    "ax.set_ylabel('Number of Cases ')\n",
    "ax.set_xlabel('Dates')\n"
   ]
  },
  {
   "cell_type": "markdown",
   "metadata": {
    "ExecuteTime": {
     "end_time": "2020-04-03T17:41:09.579897Z",
     "start_time": "2020-04-03T17:41:09.555907Z"
    }
   },
   "source": [
    "# Linear Regression"
   ]
  },
  {
   "cell_type": "code",
   "execution_count": 49,
   "metadata": {
    "ExecuteTime": {
     "end_time": "2020-04-06T18:24:00.439473Z",
     "start_time": "2020-04-06T18:24:00.426481Z"
    }
   },
   "outputs": [
    {
     "data": {
      "text/html": [
       "<div>\n",
       "<style scoped>\n",
       "    .dataframe tbody tr th:only-of-type {\n",
       "        vertical-align: middle;\n",
       "    }\n",
       "\n",
       "    .dataframe tbody tr th {\n",
       "        vertical-align: top;\n",
       "    }\n",
       "\n",
       "    .dataframe thead th {\n",
       "        text-align: right;\n",
       "    }\n",
       "</style>\n",
       "<table border=\"1\" class=\"dataframe\">\n",
       "  <thead>\n",
       "    <tr style=\"text-align: right;\">\n",
       "      <th></th>\n",
       "      <th>Dates</th>\n",
       "      <th>Cases</th>\n",
       "    </tr>\n",
       "  </thead>\n",
       "  <tbody>\n",
       "    <tr>\n",
       "      <th>70</th>\n",
       "      <td>2020-04-01</td>\n",
       "      <td>213372</td>\n",
       "    </tr>\n",
       "    <tr>\n",
       "      <th>71</th>\n",
       "      <td>2020-04-02</td>\n",
       "      <td>243453</td>\n",
       "    </tr>\n",
       "    <tr>\n",
       "      <th>72</th>\n",
       "      <td>2020-04-03</td>\n",
       "      <td>275586</td>\n",
       "    </tr>\n",
       "    <tr>\n",
       "      <th>73</th>\n",
       "      <td>2020-04-04</td>\n",
       "      <td>308850</td>\n",
       "    </tr>\n",
       "    <tr>\n",
       "      <th>74</th>\n",
       "      <td>2020-04-05</td>\n",
       "      <td>337072</td>\n",
       "    </tr>\n",
       "  </tbody>\n",
       "</table>\n",
       "</div>"
      ],
      "text/plain": [
       "        Dates   Cases\n",
       "70 2020-04-01  213372\n",
       "71 2020-04-02  243453\n",
       "72 2020-04-03  275586\n",
       "73 2020-04-04  308850\n",
       "74 2020-04-05  337072"
      ]
     },
     "execution_count": 49,
     "metadata": {},
     "output_type": "execute_result"
    }
   ],
   "source": [
    "us.tail()"
   ]
  },
  {
   "cell_type": "code",
   "execution_count": 50,
   "metadata": {
    "ExecuteTime": {
     "end_time": "2020-04-06T18:24:00.483446Z",
     "start_time": "2020-04-06T18:24:00.442472Z"
    },
    "scrolled": true
   },
   "outputs": [
    {
     "data": {
      "text/html": [
       "<div>\n",
       "<style scoped>\n",
       "    .dataframe tbody tr th:only-of-type {\n",
       "        vertical-align: middle;\n",
       "    }\n",
       "\n",
       "    .dataframe tbody tr th {\n",
       "        vertical-align: top;\n",
       "    }\n",
       "\n",
       "    .dataframe thead th {\n",
       "        text-align: right;\n",
       "    }\n",
       "</style>\n",
       "<table border=\"1\" class=\"dataframe\">\n",
       "  <thead>\n",
       "    <tr style=\"text-align: right;\">\n",
       "      <th></th>\n",
       "      <th>Dates</th>\n",
       "      <th>Cases</th>\n",
       "    </tr>\n",
       "  </thead>\n",
       "  <tbody>\n",
       "    <tr>\n",
       "      <th>0</th>\n",
       "      <td>2020-01-22</td>\n",
       "      <td>1</td>\n",
       "    </tr>\n",
       "    <tr>\n",
       "      <th>1</th>\n",
       "      <td>2020-01-23</td>\n",
       "      <td>1</td>\n",
       "    </tr>\n",
       "    <tr>\n",
       "      <th>2</th>\n",
       "      <td>2020-01-24</td>\n",
       "      <td>2</td>\n",
       "    </tr>\n",
       "    <tr>\n",
       "      <th>3</th>\n",
       "      <td>2020-01-25</td>\n",
       "      <td>2</td>\n",
       "    </tr>\n",
       "    <tr>\n",
       "      <th>4</th>\n",
       "      <td>2020-01-26</td>\n",
       "      <td>5</td>\n",
       "    </tr>\n",
       "    <tr>\n",
       "      <th>5</th>\n",
       "      <td>2020-01-27</td>\n",
       "      <td>5</td>\n",
       "    </tr>\n",
       "    <tr>\n",
       "      <th>6</th>\n",
       "      <td>2020-01-28</td>\n",
       "      <td>5</td>\n",
       "    </tr>\n",
       "    <tr>\n",
       "      <th>7</th>\n",
       "      <td>2020-01-29</td>\n",
       "      <td>5</td>\n",
       "    </tr>\n",
       "    <tr>\n",
       "      <th>8</th>\n",
       "      <td>2020-01-30</td>\n",
       "      <td>5</td>\n",
       "    </tr>\n",
       "    <tr>\n",
       "      <th>9</th>\n",
       "      <td>2020-01-31</td>\n",
       "      <td>7</td>\n",
       "    </tr>\n",
       "    <tr>\n",
       "      <th>10</th>\n",
       "      <td>2020-02-01</td>\n",
       "      <td>8</td>\n",
       "    </tr>\n",
       "    <tr>\n",
       "      <th>11</th>\n",
       "      <td>2020-02-02</td>\n",
       "      <td>8</td>\n",
       "    </tr>\n",
       "    <tr>\n",
       "      <th>12</th>\n",
       "      <td>2020-02-03</td>\n",
       "      <td>11</td>\n",
       "    </tr>\n",
       "    <tr>\n",
       "      <th>13</th>\n",
       "      <td>2020-02-04</td>\n",
       "      <td>11</td>\n",
       "    </tr>\n",
       "    <tr>\n",
       "      <th>14</th>\n",
       "      <td>2020-02-05</td>\n",
       "      <td>11</td>\n",
       "    </tr>\n",
       "  </tbody>\n",
       "</table>\n",
       "</div>"
      ],
      "text/plain": [
       "        Dates  Cases\n",
       "0  2020-01-22      1\n",
       "1  2020-01-23      1\n",
       "2  2020-01-24      2\n",
       "3  2020-01-25      2\n",
       "4  2020-01-26      5\n",
       "5  2020-01-27      5\n",
       "6  2020-01-28      5\n",
       "7  2020-01-29      5\n",
       "8  2020-01-30      5\n",
       "9  2020-01-31      7\n",
       "10 2020-02-01      8\n",
       "11 2020-02-02      8\n",
       "12 2020-02-03     11\n",
       "13 2020-02-04     11\n",
       "14 2020-02-05     11"
      ]
     },
     "execution_count": 50,
     "metadata": {},
     "output_type": "execute_result"
    }
   ],
   "source": [
    "us.head(15)"
   ]
  },
  {
   "cell_type": "code",
   "execution_count": 51,
   "metadata": {
    "ExecuteTime": {
     "end_time": "2020-04-06T18:24:00.528419Z",
     "start_time": "2020-04-06T18:24:00.486444Z"
    }
   },
   "outputs": [
    {
     "data": {
      "text/plain": [
       "LinearRegression(copy_X=True, fit_intercept=True, n_jobs=None, normalize=False)"
      ]
     },
     "execution_count": 51,
     "metadata": {},
     "output_type": "execute_result"
    }
   ],
   "source": [
    "lm = LinearRegression()\n",
    "lm"
   ]
  },
  {
   "cell_type": "code",
   "execution_count": 52,
   "metadata": {
    "ExecuteTime": {
     "end_time": "2020-04-06T18:24:00.567394Z",
     "start_time": "2020-04-06T18:24:00.531417Z"
    }
   },
   "outputs": [],
   "source": [
    "X = us.loc[0:4,'Cases']"
   ]
  },
  {
   "cell_type": "code",
   "execution_count": 53,
   "metadata": {
    "ExecuteTime": {
     "end_time": "2020-04-06T18:24:00.611368Z",
     "start_time": "2020-04-06T18:24:00.570392Z"
    }
   },
   "outputs": [
    {
     "data": {
      "text/plain": [
       "0    1\n",
       "1    1\n",
       "2    2\n",
       "3    2\n",
       "4    5\n",
       "Name: Cases, dtype: int64"
      ]
     },
     "execution_count": 53,
     "metadata": {},
     "output_type": "execute_result"
    }
   ],
   "source": [
    "X"
   ]
  },
  {
   "cell_type": "code",
   "execution_count": 54,
   "metadata": {
    "ExecuteTime": {
     "end_time": "2020-04-06T18:24:00.649347Z",
     "start_time": "2020-04-06T18:24:00.614365Z"
    }
   },
   "outputs": [],
   "source": [
    "X = np.array(X)"
   ]
  },
  {
   "cell_type": "code",
   "execution_count": 55,
   "metadata": {
    "ExecuteTime": {
     "end_time": "2020-04-06T18:24:00.689317Z",
     "start_time": "2020-04-06T18:24:00.652342Z"
    }
   },
   "outputs": [],
   "source": [
    "X = X.reshape(-1, 1)"
   ]
  },
  {
   "cell_type": "code",
   "execution_count": 56,
   "metadata": {
    "ExecuteTime": {
     "end_time": "2020-04-06T18:24:00.731294Z",
     "start_time": "2020-04-06T18:24:00.692317Z"
    },
    "run_control": {
     "marked": true
    },
    "scrolled": true
   },
   "outputs": [
    {
     "data": {
      "text/plain": [
       "array([[1],\n",
       "       [1],\n",
       "       [2],\n",
       "       [2],\n",
       "       [5]], dtype=int64)"
      ]
     },
     "execution_count": 56,
     "metadata": {},
     "output_type": "execute_result"
    }
   ],
   "source": [
    "X"
   ]
  },
  {
   "cell_type": "code",
   "execution_count": 57,
   "metadata": {
    "ExecuteTime": {
     "end_time": "2020-04-06T18:24:00.775266Z",
     "start_time": "2020-04-06T18:24:00.734292Z"
    }
   },
   "outputs": [
    {
     "data": {
      "text/plain": [
       "(5, 1)"
      ]
     },
     "execution_count": 57,
     "metadata": {},
     "output_type": "execute_result"
    }
   ],
   "source": [
    "X.shape"
   ]
  },
  {
   "cell_type": "code",
   "execution_count": 58,
   "metadata": {
    "ExecuteTime": {
     "end_time": "2020-04-06T18:24:00.818243Z",
     "start_time": "2020-04-06T18:24:00.778265Z"
    }
   },
   "outputs": [],
   "source": [
    "Y = us.loc[1:5,'Cases']"
   ]
  },
  {
   "cell_type": "code",
   "execution_count": 59,
   "metadata": {
    "ExecuteTime": {
     "end_time": "2020-04-06T18:24:00.860213Z",
     "start_time": "2020-04-06T18:24:00.822238Z"
    }
   },
   "outputs": [
    {
     "data": {
      "text/plain": [
       "1    1\n",
       "2    2\n",
       "3    2\n",
       "4    5\n",
       "5    5\n",
       "Name: Cases, dtype: int64"
      ]
     },
     "execution_count": 59,
     "metadata": {},
     "output_type": "execute_result"
    }
   ],
   "source": [
    "Y"
   ]
  },
  {
   "cell_type": "code",
   "execution_count": 60,
   "metadata": {
    "ExecuteTime": {
     "end_time": "2020-04-06T18:24:00.897191Z",
     "start_time": "2020-04-06T18:24:00.863212Z"
    }
   },
   "outputs": [],
   "source": [
    "Y = np.array(Y)"
   ]
  },
  {
   "cell_type": "code",
   "execution_count": 61,
   "metadata": {
    "ExecuteTime": {
     "end_time": "2020-04-06T18:24:00.935168Z",
     "start_time": "2020-04-06T18:24:00.900189Z"
    },
    "scrolled": true
   },
   "outputs": [],
   "source": [
    "Y = Y.reshape(-1, 1)"
   ]
  },
  {
   "cell_type": "code",
   "execution_count": 62,
   "metadata": {
    "ExecuteTime": {
     "end_time": "2020-04-06T18:24:00.982140Z",
     "start_time": "2020-04-06T18:24:00.938165Z"
    },
    "scrolled": true
   },
   "outputs": [
    {
     "data": {
      "text/plain": [
       "array([[1],\n",
       "       [2],\n",
       "       [2],\n",
       "       [5],\n",
       "       [5]], dtype=int64)"
      ]
     },
     "execution_count": 62,
     "metadata": {},
     "output_type": "execute_result"
    }
   ],
   "source": [
    "Y"
   ]
  },
  {
   "cell_type": "code",
   "execution_count": 63,
   "metadata": {
    "ExecuteTime": {
     "end_time": "2020-04-06T18:24:01.024112Z",
     "start_time": "2020-04-06T18:24:00.985136Z"
    }
   },
   "outputs": [
    {
     "data": {
      "text/plain": [
       "(5, 1)"
      ]
     },
     "execution_count": 63,
     "metadata": {},
     "output_type": "execute_result"
    }
   ],
   "source": [
    "Y.shape"
   ]
  },
  {
   "cell_type": "code",
   "execution_count": 64,
   "metadata": {
    "ExecuteTime": {
     "end_time": "2020-04-06T18:24:01.073081Z",
     "start_time": "2020-04-06T18:24:01.027110Z"
    }
   },
   "outputs": [
    {
     "data": {
      "text/plain": [
       "LinearRegression(copy_X=True, fit_intercept=True, n_jobs=None, normalize=False)"
      ]
     },
     "execution_count": 64,
     "metadata": {},
     "output_type": "execute_result"
    }
   ],
   "source": [
    "lm.fit(X,Y)"
   ]
  },
  {
   "cell_type": "code",
   "execution_count": 65,
   "metadata": {
    "ExecuteTime": {
     "end_time": "2020-04-06T18:24:01.112058Z",
     "start_time": "2020-04-06T18:24:01.076080Z"
    }
   },
   "outputs": [
    {
     "data": {
      "text/plain": [
       "array([2.83333333])"
      ]
     },
     "execution_count": 65,
     "metadata": {},
     "output_type": "execute_result"
    }
   ],
   "source": [
    "yhat = lm.predict(X)\n",
    "yhat[2]"
   ]
  },
  {
   "cell_type": "code",
   "execution_count": 66,
   "metadata": {
    "ExecuteTime": {
     "end_time": "2020-04-06T18:24:01.151033Z",
     "start_time": "2020-04-06T18:24:01.115056Z"
    }
   },
   "outputs": [
    {
     "name": "stdout",
     "output_type": "stream",
     "text": [
      "[1.16666667] [[0.83333333]]\n"
     ]
    }
   ],
   "source": [
    "print(lm.intercept_ , lm.coef_ )"
   ]
  },
  {
   "cell_type": "markdown",
   "metadata": {
    "ExecuteTime": {
     "end_time": "2020-04-05T19:51:27.866973Z",
     "start_time": "2020-04-05T19:51:27.854978Z"
    }
   },
   "source": [
    "## Example Lr"
   ]
  },
  {
   "cell_type": "code",
   "execution_count": 97,
   "metadata": {
    "ExecuteTime": {
     "end_time": "2020-04-06T18:32:46.453007Z",
     "start_time": "2020-04-06T18:32:46.445010Z"
    }
   },
   "outputs": [],
   "source": [
    "xs = np.array([0, 1, 1, 3, 4 ], dtype=int)\n",
    "ys = np.array([1, 1, 3, 4, 7], dtype= int) "
   ]
  },
  {
   "cell_type": "code",
   "execution_count": 98,
   "metadata": {
    "ExecuteTime": {
     "end_time": "2020-04-06T18:32:48.376436Z",
     "start_time": "2020-04-06T18:32:48.368437Z"
    }
   },
   "outputs": [],
   "source": [
    "xs = xs.reshape(-1, 1)"
   ]
  },
  {
   "cell_type": "code",
   "execution_count": 99,
   "metadata": {
    "ExecuteTime": {
     "end_time": "2020-04-06T18:32:50.107921Z",
     "start_time": "2020-04-06T18:32:50.095927Z"
    }
   },
   "outputs": [
    {
     "data": {
      "text/plain": [
       "array([[0],\n",
       "       [1],\n",
       "       [1],\n",
       "       [3],\n",
       "       [4]])"
      ]
     },
     "execution_count": 99,
     "metadata": {},
     "output_type": "execute_result"
    }
   ],
   "source": [
    "xs"
   ]
  },
  {
   "cell_type": "code",
   "execution_count": 100,
   "metadata": {
    "ExecuteTime": {
     "end_time": "2020-04-06T18:32:51.735439Z",
     "start_time": "2020-04-06T18:32:51.723442Z"
    }
   },
   "outputs": [
    {
     "data": {
      "text/plain": [
       "(5, 1)"
      ]
     },
     "execution_count": 100,
     "metadata": {},
     "output_type": "execute_result"
    }
   ],
   "source": [
    "xs.shape"
   ]
  },
  {
   "cell_type": "code",
   "execution_count": 101,
   "metadata": {
    "ExecuteTime": {
     "end_time": "2020-04-06T18:32:53.425222Z",
     "start_time": "2020-04-06T18:32:53.417228Z"
    }
   },
   "outputs": [],
   "source": [
    "ys = ys.reshape(-1, 1)"
   ]
  },
  {
   "cell_type": "code",
   "execution_count": 102,
   "metadata": {
    "ExecuteTime": {
     "end_time": "2020-04-06T18:32:55.108723Z",
     "start_time": "2020-04-06T18:32:55.096728Z"
    }
   },
   "outputs": [
    {
     "data": {
      "text/plain": [
       "array([[1],\n",
       "       [1],\n",
       "       [3],\n",
       "       [4],\n",
       "       [7]])"
      ]
     },
     "execution_count": 102,
     "metadata": {},
     "output_type": "execute_result"
    }
   ],
   "source": [
    "ys"
   ]
  },
  {
   "cell_type": "code",
   "execution_count": 103,
   "metadata": {
    "ExecuteTime": {
     "end_time": "2020-04-06T18:32:56.800221Z",
     "start_time": "2020-04-06T18:32:56.788225Z"
    }
   },
   "outputs": [
    {
     "data": {
      "text/plain": [
       "(5, 1)"
      ]
     },
     "execution_count": 103,
     "metadata": {},
     "output_type": "execute_result"
    }
   ],
   "source": [
    "ys.shape"
   ]
  },
  {
   "cell_type": "code",
   "execution_count": 104,
   "metadata": {
    "ExecuteTime": {
     "end_time": "2020-04-06T18:32:58.455731Z",
     "start_time": "2020-04-06T18:32:58.443735Z"
    }
   },
   "outputs": [
    {
     "data": {
      "text/plain": [
       "LinearRegression(copy_X=True, fit_intercept=True, n_jobs=None, normalize=False)"
      ]
     },
     "execution_count": 104,
     "metadata": {},
     "output_type": "execute_result"
    }
   ],
   "source": [
    "lm.fit(xs, ys)"
   ]
  },
  {
   "cell_type": "code",
   "execution_count": 106,
   "metadata": {
    "ExecuteTime": {
     "end_time": "2020-04-06T18:33:11.449735Z",
     "start_time": "2020-04-06T18:33:11.441740Z"
    }
   },
   "outputs": [
    {
     "data": {
      "text/plain": [
       "array([2.07407407])"
      ]
     },
     "execution_count": 106,
     "metadata": {},
     "output_type": "execute_result"
    }
   ],
   "source": [
    "y_e = lm.predict(xs)\n",
    "y_e[1]"
   ]
  },
  {
   "cell_type": "markdown",
   "metadata": {},
   "source": [
    "## Example Lr 2"
   ]
  },
  {
   "cell_type": "code",
   "execution_count": 117,
   "metadata": {
    "ExecuteTime": {
     "end_time": "2020-04-06T19:25:05.744731Z",
     "start_time": "2020-04-06T19:25:05.728736Z"
    }
   },
   "outputs": [
    {
     "name": "stdout",
     "output_type": "stream",
     "text": [
      "[5.]\n",
      "[-1.]\n",
      "[[2.]]\n",
      "/n The Equation of Prediction is:[-1.]X[[2.]]\n"
     ]
    }
   ],
   "source": [
    "es = np.array([-1, 0, 2, 3 ], dtype=int)\n",
    "fs = np.array([-3, -1, 3, 5], dtype= int) \n",
    "es = es.reshape(-1, 1)\n",
    "fs = fs.reshape(-1, 1)\n",
    "lm.fit(es, fs)\n",
    "p = lm.predict(es)\n",
    "print(p[3])\n",
    "\n",
    "print(lm.intercept_)\n",
    "print(lm.coef_)\n",
    "\n",
    "print('/n The Equation of Prediction is:' + str(lm.intercept_) + str('X') + str(lm.coef_))"
   ]
  },
  {
   "cell_type": "code",
   "execution_count": null,
   "metadata": {},
   "outputs": [],
   "source": []
  },
  {
   "cell_type": "code",
   "execution_count": null,
   "metadata": {},
   "outputs": [],
   "source": []
  },
  {
   "cell_type": "code",
   "execution_count": null,
   "metadata": {},
   "outputs": [],
   "source": []
  },
  {
   "cell_type": "markdown",
   "metadata": {},
   "source": [
    "# Tensor Flow_Prediction"
   ]
  },
  {
   "cell_type": "code",
   "execution_count": 827,
   "metadata": {
    "ExecuteTime": {
     "end_time": "2020-04-06T17:47:53.816829Z",
     "start_time": "2020-04-06T17:47:53.754866Z"
    }
   },
   "outputs": [
    {
     "ename": "ModuleNotFoundError",
     "evalue": "No module named 'tensorflow'",
     "output_type": "error",
     "traceback": [
      "\u001b[1;31m---------------------------------------------------------------------------\u001b[0m",
      "\u001b[1;31mModuleNotFoundError\u001b[0m                       Traceback (most recent call last)",
      "\u001b[1;32m<ipython-input-827-08a5955865cc>\u001b[0m in \u001b[0;36m<module>\u001b[1;34m\u001b[0m\n\u001b[1;32m----> 1\u001b[1;33m \u001b[1;32mimport\u001b[0m \u001b[0mtensorflow\u001b[0m \u001b[1;32mas\u001b[0m \u001b[0mtf\u001b[0m\u001b[1;33m\u001b[0m\u001b[1;33m\u001b[0m\u001b[0m\n\u001b[0m\u001b[0;32m      2\u001b[0m \u001b[1;32mimport\u001b[0m \u001b[0mnumpy\u001b[0m \u001b[1;32mas\u001b[0m \u001b[0mnp\u001b[0m\u001b[1;33m\u001b[0m\u001b[1;33m\u001b[0m\u001b[0m\n\u001b[0;32m      3\u001b[0m \u001b[1;32mfrom\u001b[0m \u001b[0mtensorflow\u001b[0m \u001b[1;32mimport\u001b[0m \u001b[0mkeras\u001b[0m\u001b[1;33m\u001b[0m\u001b[1;33m\u001b[0m\u001b[0m\n\u001b[0;32m      4\u001b[0m \u001b[0mmodel\u001b[0m \u001b[1;33m=\u001b[0m \u001b[0mtf\u001b[0m\u001b[1;33m.\u001b[0m\u001b[0mkeras\u001b[0m\u001b[1;33m.\u001b[0m\u001b[0mSequential\u001b[0m\u001b[1;33m(\u001b[0m\u001b[1;33m[\u001b[0m\u001b[0mkeras\u001b[0m\u001b[1;33m.\u001b[0m\u001b[0mlayers\u001b[0m\u001b[1;33m.\u001b[0m\u001b[0mDense\u001b[0m\u001b[1;33m(\u001b[0m\u001b[0munits\u001b[0m\u001b[1;33m=\u001b[0m\u001b[1;36m1\u001b[0m\u001b[1;33m,\u001b[0m \u001b[0minput_shape\u001b[0m\u001b[1;33m=\u001b[0m\u001b[1;33m[\u001b[0m\u001b[1;36m1\u001b[0m\u001b[1;33m]\u001b[0m\u001b[1;33m)\u001b[0m\u001b[1;33m]\u001b[0m\u001b[1;33m)\u001b[0m\u001b[1;33m\u001b[0m\u001b[1;33m\u001b[0m\u001b[0m\n\u001b[0;32m      5\u001b[0m \u001b[0mmodel\u001b[0m\u001b[1;33m.\u001b[0m\u001b[0mcompile\u001b[0m\u001b[1;33m(\u001b[0m\u001b[0moptimizer\u001b[0m\u001b[1;33m=\u001b[0m\u001b[1;34m'sgd'\u001b[0m\u001b[1;33m,\u001b[0m \u001b[0mloss\u001b[0m\u001b[1;33m=\u001b[0m\u001b[1;34m'mean_squared_error'\u001b[0m\u001b[1;33m)\u001b[0m\u001b[1;33m\u001b[0m\u001b[1;33m\u001b[0m\u001b[0m\n",
      "\u001b[1;31mModuleNotFoundError\u001b[0m: No module named 'tensorflow'"
     ]
    }
   ],
   "source": [
    "import tensorflow as tf\n",
    "import numpy as np\n",
    "from tensorflow import keras\n",
    "model = tf.keras.Sequential([keras.layers.Dense(units=1, input_shape=[1])])\n",
    "model.compile(optimizer='sgd', loss='mean_squared_error')\n",
    "xs = np.array([1.0, 2.0, 3.0, 4.0, 5.0, 6.0], dtype=float)\n",
    "ys = np.array([1.0, 1.5, 2.0, 2.5, 3.0, 3.5], dtype=float)\n",
    "model.fit(xs, ys, epochs=1000)\n",
    "print(model.predict([7.0]))"
   ]
  },
  {
   "cell_type": "code",
   "execution_count": null,
   "metadata": {},
   "outputs": [],
   "source": []
  },
  {
   "cell_type": "code",
   "execution_count": null,
   "metadata": {},
   "outputs": [],
   "source": []
  },
  {
   "cell_type": "code",
   "execution_count": null,
   "metadata": {},
   "outputs": [],
   "source": []
  },
  {
   "cell_type": "code",
   "execution_count": null,
   "metadata": {},
   "outputs": [],
   "source": []
  },
  {
   "cell_type": "code",
   "execution_count": null,
   "metadata": {},
   "outputs": [],
   "source": []
  },
  {
   "cell_type": "code",
   "execution_count": null,
   "metadata": {},
   "outputs": [],
   "source": []
  },
  {
   "cell_type": "code",
   "execution_count": null,
   "metadata": {},
   "outputs": [],
   "source": []
  },
  {
   "cell_type": "code",
   "execution_count": null,
   "metadata": {},
   "outputs": [],
   "source": []
  },
  {
   "cell_type": "code",
   "execution_count": null,
   "metadata": {},
   "outputs": [],
   "source": []
  },
  {
   "cell_type": "code",
   "execution_count": null,
   "metadata": {},
   "outputs": [],
   "source": []
  },
  {
   "cell_type": "code",
   "execution_count": null,
   "metadata": {},
   "outputs": [],
   "source": []
  },
  {
   "cell_type": "code",
   "execution_count": null,
   "metadata": {},
   "outputs": [],
   "source": []
  },
  {
   "cell_type": "markdown",
   "metadata": {},
   "source": [
    "# Extra Approaches"
   ]
  },
  {
   "cell_type": "code",
   "execution_count": null,
   "metadata": {},
   "outputs": [],
   "source": [
    "# # instantiate a feature group for the incidents in the dataframe\n",
    "# world_map=folium.Map()\n",
    "# incidents = folium.map.FeatureGroup()\n",
    "\n",
    "\n",
    "# for lat, lng in zip(df_final_cnf.Lat, df_final_cnf.Long):\n",
    "\n",
    "#     cntry=df_final_cnf[(df_final_cnf.Lat==lat) & (df_final_cnf.Long==lng)]['Country/Region']\n",
    "#     conf=int(df_final_cnf[(df_final_cnf.Lat==lat) & (df_final_cnf.Long==lng)]['Total'])\n",
    "#     dth=int(df_final_dth[(df_final_dth.Lat==lat) & (df_final_dth.Long==lng)]['Total'])\n",
    "#     rcd=int(df_final_rcvd[(df_final_rcvd.Lat==lat) & (df_final_rcvd.Long==lng)]['Total'])\n",
    "\n",
    "#     incidents.add_child(\n",
    "#         folium.CircleMarker(\n",
    "#             [lat, lng],\n",
    "#             radius= conf/3000, # define how big you want the circle markers to be\n",
    "#             popup= 'Country:' + str(cntry.values) + '\\nConfirmed:' + str(conf) + '\\nDeaths:' + str(dth) + '\\nRecovered:' + str(rcd),\n",
    "#             tooltip = 'Click Here',\n",
    "#             color='#3186cc',\n",
    "#             fill=True,\n",
    "#             fill_color='#3186cc',\n",
    "#             fill_opacity=0.5\n",
    "#         )\n",
    "#     )\n",
    "\n",
    "# # # add incidents to map\n",
    "# world_map.add_child(incidents)"
   ]
  },
  {
   "cell_type": "code",
   "execution_count": null,
   "metadata": {},
   "outputs": [],
   "source": [
    "\n",
    "# for lat, lng in zip(df_final_cnf.Lat, df_final_cnf.Long):\n",
    "    \n",
    "#     cntry=df_final_cnf[(df_final_cnf.Lat==lat) & (df_final_cnf.Long==lng)]['Country/Region'].values\n",
    "#     conf=df_final_cnf[(df_final_cnf.Lat==lat) & (df_final_cnf.Long==lng)]['Total']\n",
    "#     print(cntry, conf.shape)\n",
    "# #     print(cntry[21:])"
   ]
  },
  {
   "cell_type": "code",
   "execution_count": null,
   "metadata": {},
   "outputs": [],
   "source": [
    "# if you want to take the sum of dates then use this command \n",
    "# df_cnf['Total'] = df_cnf.loc[:,'1/22/20':'3/14/20'].sum(axis=1) \n",
    "\n",
    "# df_cnf[\"Total\"] = df_cnf.loc[:, '3/14/20']"
   ]
  },
  {
   "cell_type": "code",
   "execution_count": 59,
   "metadata": {
    "ExecuteTime": {
     "end_time": "2020-04-03T04:36:13.202960Z",
     "start_time": "2020-04-03T04:36:13.198965Z"
    }
   },
   "outputs": [],
   "source": [
    "# a = df_slc.groupby(['Country/Region','Lat', 'Long'], as_index=False).mean()\n",
    "# a.tail(10)\n",
    "\n",
    "# df_slc.loc[:,'Lat':'Long'].mean(axis=0)"
   ]
  },
  {
   "cell_type": "code",
   "execution_count": null,
   "metadata": {},
   "outputs": [],
   "source": [
    "# df_slc = df_cnf[['Country/Region','Lat', 'Long','3/10/20','3/11/20','3/12/20','3/13/20','3/14/20']].iloc[:,:]"
   ]
  },
  {
   "cell_type": "code",
   "execution_count": null,
   "metadata": {},
   "outputs": [],
   "source": [
    "# if you want to pick only one row of country against multiple same rows \n",
    "# df_final[df_final[\"Country/Region\"]== 'Australia'].head(1)"
   ]
  },
  {
   "cell_type": "code",
   "execution_count": null,
   "metadata": {},
   "outputs": [],
   "source": [
    "# for lat, lng, in zip(df_final_cnf.Lat, df_final_cnf.Long):\n",
    "\n",
    "#     cntry=df_final_cnf[(df_final_cnf.Lat==lat) & (df_final_cnf.Long==lng)]['Country/Region']\n",
    "#     print(cntry.values)"
   ]
  },
  {
   "cell_type": "code",
   "execution_count": null,
   "metadata": {},
   "outputs": [],
   "source": [
    "# print(df_final_cnf.index)"
   ]
  },
  {
   "cell_type": "code",
   "execution_count": null,
   "metadata": {},
   "outputs": [],
   "source": [
    "# for lat, lng, in zip(df_final_cnf.Lat, df_final_cnf.Long):\n",
    "\n",
    "#     cntry=df_final_cnf[(df_final_cnf.Lat==lat) & (df_final_cnf.Long==lng)]['Country/Region']\n",
    "#     print(cntry.values)"
   ]
  },
  {
   "cell_type": "code",
   "execution_count": null,
   "metadata": {},
   "outputs": [],
   "source": [
    "\n",
    "# # df.columns.get_loc(\"pear\")\n",
    "# df_final_cnf['Country/Region'].values[]"
   ]
  },
  {
   "cell_type": "code",
   "execution_count": null,
   "metadata": {},
   "outputs": [],
   "source": [
    "# df_us.columns.values[3:].plot(figsize=(15, 8), color='darkblue')\n",
    "# title('COVID19 Cases Bar Chart')\n",
    "# ylabel('Number of peoples ')\n",
    "# xlabel('Countries')"
   ]
  },
  {
   "cell_type": "code",
   "execution_count": null,
   "metadata": {},
   "outputs": [],
   "source": [
    "# df_us.columns.values[3:]"
   ]
  },
  {
   "cell_type": "code",
   "execution_count": null,
   "metadata": {},
   "outputs": [],
   "source": [
    "# df_us.columns.names"
   ]
  },
  {
   "cell_type": "code",
   "execution_count": 385,
   "metadata": {
    "ExecuteTime": {
     "end_time": "2020-04-05T15:08:03.902159Z",
     "start_time": "2020-04-05T15:08:03.894164Z"
    }
   },
   "outputs": [],
   "source": [
    "# a.columns = list(map(datetime64[ns, a.columns))"
   ]
  },
  {
   "cell_type": "code",
   "execution_count": 642,
   "metadata": {
    "ExecuteTime": {
     "end_time": "2020-04-06T16:28:25.308110Z",
     "start_time": "2020-04-06T16:28:25.304114Z"
    }
   },
   "outputs": [],
   "source": [
    "# fit = np.polyfit(x_seq, Y, 1)\n",
    "# fit_fn = np.poly1d(fit)\n",
    "# print('Slope = ', fit[0], \", \",\"Intercept = \", fit[1])\n",
    "# print(fit_fn)"
   ]
  },
  {
   "cell_type": "code",
   "execution_count": null,
   "metadata": {},
   "outputs": [],
   "source": []
  },
  {
   "cell_type": "code",
   "execution_count": null,
   "metadata": {},
   "outputs": [],
   "source": []
  },
  {
   "cell_type": "code",
   "execution_count": null,
   "metadata": {},
   "outputs": [],
   "source": []
  },
  {
   "cell_type": "code",
   "execution_count": null,
   "metadata": {},
   "outputs": [],
   "source": []
  },
  {
   "cell_type": "code",
   "execution_count": null,
   "metadata": {},
   "outputs": [],
   "source": []
  },
  {
   "cell_type": "code",
   "execution_count": null,
   "metadata": {},
   "outputs": [],
   "source": []
  }
 ],
 "metadata": {
  "hide_input": false,
  "kernelspec": {
   "display_name": "Python 3",
   "language": "python",
   "name": "python3"
  },
  "language_info": {
   "codemirror_mode": {
    "name": "ipython",
    "version": 3
   },
   "file_extension": ".py",
   "mimetype": "text/x-python",
   "name": "python",
   "nbconvert_exporter": "python",
   "pygments_lexer": "ipython3",
   "version": "3.7.6"
  },
  "toc": {
   "base_numbering": 1,
   "nav_menu": {},
   "number_sections": true,
   "sideBar": true,
   "skip_h1_title": false,
   "title_cell": "Table of Contents",
   "title_sidebar": "Contents",
   "toc_cell": false,
   "toc_position": {
    "height": "calc(100% - 180px)",
    "left": "10px",
    "top": "150px",
    "width": "218.188px"
   },
   "toc_section_display": true,
   "toc_window_display": true
  },
  "varInspector": {
   "cols": {
    "lenName": 16,
    "lenType": 16,
    "lenVar": 40
   },
   "kernels_config": {
    "python": {
     "delete_cmd_postfix": "",
     "delete_cmd_prefix": "del ",
     "library": "var_list.py",
     "varRefreshCmd": "print(var_dic_list())"
    },
    "r": {
     "delete_cmd_postfix": ") ",
     "delete_cmd_prefix": "rm(",
     "library": "var_list.r",
     "varRefreshCmd": "cat(var_dic_list()) "
    }
   },
   "types_to_exclude": [
    "module",
    "function",
    "builtin_function_or_method",
    "instance",
    "_Feature"
   ],
   "window_display": false
  }
 },
 "nbformat": 4,
 "nbformat_minor": 4
}
