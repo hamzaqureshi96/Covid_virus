{
 "cells": [
  {
   "cell_type": "markdown",
   "metadata": {},
   "source": [
    "# Setup \n",
    "**This Notebook is composed of python programme to Display Corona Virus Plot**  \n"
   ]
  },
  {
   "cell_type": "code",
   "execution_count": 2,
   "metadata": {
    "ExecuteTime": {
     "end_time": "2020-03-29T14:16:40.069343Z",
     "start_time": "2020-03-29T14:16:38.580030Z"
    }
   },
   "outputs": [],
   "source": [
    "# Impoting the Required Libraries \n",
    "import pandas as pd\n",
    "import numpy as np\n",
    "\n",
    "# we are using the inline backend\n",
    "%matplotlib inline \n",
    "import matplotlib as mpl\n",
    "import matplotlib.pyplot as plt"
   ]
  },
  {
   "cell_type": "markdown",
   "metadata": {},
   "source": [
    "# Data Importing "
   ]
  },
  {
   "cell_type": "code",
   "execution_count": 3,
   "metadata": {
    "ExecuteTime": {
     "end_time": "2020-03-29T14:16:40.104322Z",
     "start_time": "2020-03-29T14:16:40.072341Z"
    }
   },
   "outputs": [],
   "source": [
    "path = r\"C:\\Users\\H241677\\Desktop\\ML\\corona\\data\\Novel data set\\covid_19_data.csv\"\n",
    "df_covid = pd.read_csv(path)"
   ]
  },
  {
   "cell_type": "markdown",
   "metadata": {},
   "source": [
    "## Data Frame Display"
   ]
  },
  {
   "cell_type": "code",
   "execution_count": 4,
   "metadata": {
    "ExecuteTime": {
     "end_time": "2020-03-29T14:16:40.192773Z",
     "start_time": "2020-03-29T14:16:40.107319Z"
    }
   },
   "outputs": [
    {
     "data": {
      "text/html": [
       "<div>\n",
       "<style scoped>\n",
       "    .dataframe tbody tr th:only-of-type {\n",
       "        vertical-align: middle;\n",
       "    }\n",
       "\n",
       "    .dataframe tbody tr th {\n",
       "        vertical-align: top;\n",
       "    }\n",
       "\n",
       "    .dataframe thead th {\n",
       "        text-align: right;\n",
       "    }\n",
       "</style>\n",
       "<table border=\"1\" class=\"dataframe\">\n",
       "  <thead>\n",
       "    <tr style=\"text-align: right;\">\n",
       "      <th></th>\n",
       "      <th>SNo</th>\n",
       "      <th>ObservationDate</th>\n",
       "      <th>Province/State</th>\n",
       "      <th>Country/Region</th>\n",
       "      <th>Last Update</th>\n",
       "      <th>Confirmed</th>\n",
       "      <th>Deaths</th>\n",
       "      <th>Recovered</th>\n",
       "    </tr>\n",
       "  </thead>\n",
       "  <tbody>\n",
       "    <tr>\n",
       "      <th>0</th>\n",
       "      <td>1</td>\n",
       "      <td>01/22/2020</td>\n",
       "      <td>Anhui</td>\n",
       "      <td>Mainland China</td>\n",
       "      <td>1/22/2020 17:00</td>\n",
       "      <td>1.0</td>\n",
       "      <td>0.0</td>\n",
       "      <td>0.0</td>\n",
       "    </tr>\n",
       "    <tr>\n",
       "      <th>1</th>\n",
       "      <td>2</td>\n",
       "      <td>01/22/2020</td>\n",
       "      <td>Beijing</td>\n",
       "      <td>Mainland China</td>\n",
       "      <td>1/22/2020 17:00</td>\n",
       "      <td>14.0</td>\n",
       "      <td>0.0</td>\n",
       "      <td>0.0</td>\n",
       "    </tr>\n",
       "    <tr>\n",
       "      <th>2</th>\n",
       "      <td>3</td>\n",
       "      <td>01/22/2020</td>\n",
       "      <td>Chongqing</td>\n",
       "      <td>Mainland China</td>\n",
       "      <td>1/22/2020 17:00</td>\n",
       "      <td>6.0</td>\n",
       "      <td>0.0</td>\n",
       "      <td>0.0</td>\n",
       "    </tr>\n",
       "    <tr>\n",
       "      <th>3</th>\n",
       "      <td>4</td>\n",
       "      <td>01/22/2020</td>\n",
       "      <td>Fujian</td>\n",
       "      <td>Mainland China</td>\n",
       "      <td>1/22/2020 17:00</td>\n",
       "      <td>1.0</td>\n",
       "      <td>0.0</td>\n",
       "      <td>0.0</td>\n",
       "    </tr>\n",
       "    <tr>\n",
       "      <th>4</th>\n",
       "      <td>5</td>\n",
       "      <td>01/22/2020</td>\n",
       "      <td>Gansu</td>\n",
       "      <td>Mainland China</td>\n",
       "      <td>1/22/2020 17:00</td>\n",
       "      <td>0.0</td>\n",
       "      <td>0.0</td>\n",
       "      <td>0.0</td>\n",
       "    </tr>\n",
       "  </tbody>\n",
       "</table>\n",
       "</div>"
      ],
      "text/plain": [
       "   SNo ObservationDate Province/State  Country/Region      Last Update  \\\n",
       "0    1      01/22/2020          Anhui  Mainland China  1/22/2020 17:00   \n",
       "1    2      01/22/2020        Beijing  Mainland China  1/22/2020 17:00   \n",
       "2    3      01/22/2020      Chongqing  Mainland China  1/22/2020 17:00   \n",
       "3    4      01/22/2020         Fujian  Mainland China  1/22/2020 17:00   \n",
       "4    5      01/22/2020          Gansu  Mainland China  1/22/2020 17:00   \n",
       "\n",
       "   Confirmed  Deaths  Recovered  \n",
       "0        1.0     0.0        0.0  \n",
       "1       14.0     0.0        0.0  \n",
       "2        6.0     0.0        0.0  \n",
       "3        1.0     0.0        0.0  \n",
       "4        0.0     0.0        0.0  "
      ]
     },
     "execution_count": 4,
     "metadata": {},
     "output_type": "execute_result"
    }
   ],
   "source": [
    "df_covid.head()"
   ]
  },
  {
   "cell_type": "code",
   "execution_count": 5,
   "metadata": {
    "ExecuteTime": {
     "end_time": "2020-03-29T14:16:40.257732Z",
     "start_time": "2020-03-29T14:16:40.196768Z"
    }
   },
   "outputs": [
    {
     "data": {
      "text/html": [
       "<div>\n",
       "<style scoped>\n",
       "    .dataframe tbody tr th:only-of-type {\n",
       "        vertical-align: middle;\n",
       "    }\n",
       "\n",
       "    .dataframe tbody tr th {\n",
       "        vertical-align: top;\n",
       "    }\n",
       "\n",
       "    .dataframe thead th {\n",
       "        text-align: right;\n",
       "    }\n",
       "</style>\n",
       "<table border=\"1\" class=\"dataframe\">\n",
       "  <thead>\n",
       "    <tr style=\"text-align: right;\">\n",
       "      <th></th>\n",
       "      <th>SNo</th>\n",
       "      <th>ObservationDate</th>\n",
       "      <th>Province/State</th>\n",
       "      <th>Country/Region</th>\n",
       "      <th>Last Update</th>\n",
       "      <th>Confirmed</th>\n",
       "      <th>Deaths</th>\n",
       "      <th>Recovered</th>\n",
       "    </tr>\n",
       "  </thead>\n",
       "  <tbody>\n",
       "    <tr>\n",
       "      <th>6157</th>\n",
       "      <td>6158</td>\n",
       "      <td>03/16/2020</td>\n",
       "      <td>Cayman Islands</td>\n",
       "      <td>UK</td>\n",
       "      <td>2020-03-16T14:53:04</td>\n",
       "      <td>1.0</td>\n",
       "      <td>1.0</td>\n",
       "      <td>0.0</td>\n",
       "    </tr>\n",
       "    <tr>\n",
       "      <th>6158</th>\n",
       "      <td>6159</td>\n",
       "      <td>03/16/2020</td>\n",
       "      <td>Gibraltar</td>\n",
       "      <td>UK</td>\n",
       "      <td>2020-03-14T16:33:03</td>\n",
       "      <td>1.0</td>\n",
       "      <td>0.0</td>\n",
       "      <td>1.0</td>\n",
       "    </tr>\n",
       "    <tr>\n",
       "      <th>6159</th>\n",
       "      <td>6160</td>\n",
       "      <td>03/16/2020</td>\n",
       "      <td>Diamond Princess cruise ship</td>\n",
       "      <td>Australia</td>\n",
       "      <td>2020-03-14T02:33:04</td>\n",
       "      <td>0.0</td>\n",
       "      <td>0.0</td>\n",
       "      <td>0.0</td>\n",
       "    </tr>\n",
       "    <tr>\n",
       "      <th>6160</th>\n",
       "      <td>6161</td>\n",
       "      <td>03/16/2020</td>\n",
       "      <td>West Virginia</td>\n",
       "      <td>US</td>\n",
       "      <td>2020-03-10T02:33:04</td>\n",
       "      <td>0.0</td>\n",
       "      <td>0.0</td>\n",
       "      <td>0.0</td>\n",
       "    </tr>\n",
       "    <tr>\n",
       "      <th>6161</th>\n",
       "      <td>6162</td>\n",
       "      <td>03/16/2020</td>\n",
       "      <td>NaN</td>\n",
       "      <td>occupied Palestinian territory</td>\n",
       "      <td>2020-03-11T20:53:02</td>\n",
       "      <td>0.0</td>\n",
       "      <td>0.0</td>\n",
       "      <td>0.0</td>\n",
       "    </tr>\n",
       "  </tbody>\n",
       "</table>\n",
       "</div>"
      ],
      "text/plain": [
       "       SNo ObservationDate                Province/State  \\\n",
       "6157  6158      03/16/2020                Cayman Islands   \n",
       "6158  6159      03/16/2020                     Gibraltar   \n",
       "6159  6160      03/16/2020  Diamond Princess cruise ship   \n",
       "6160  6161      03/16/2020                 West Virginia   \n",
       "6161  6162      03/16/2020                           NaN   \n",
       "\n",
       "                      Country/Region          Last Update  Confirmed  Deaths  \\\n",
       "6157                              UK  2020-03-16T14:53:04        1.0     1.0   \n",
       "6158                              UK  2020-03-14T16:33:03        1.0     0.0   \n",
       "6159                       Australia  2020-03-14T02:33:04        0.0     0.0   \n",
       "6160                              US  2020-03-10T02:33:04        0.0     0.0   \n",
       "6161  occupied Palestinian territory  2020-03-11T20:53:02        0.0     0.0   \n",
       "\n",
       "      Recovered  \n",
       "6157        0.0  \n",
       "6158        1.0  \n",
       "6159        0.0  \n",
       "6160        0.0  \n",
       "6161        0.0  "
      ]
     },
     "execution_count": 5,
     "metadata": {},
     "output_type": "execute_result"
    }
   ],
   "source": [
    "df_covid.tail()"
   ]
  },
  {
   "cell_type": "markdown",
   "metadata": {},
   "source": [
    "## Data Cleaning "
   ]
  },
  {
   "cell_type": "code",
   "execution_count": 6,
   "metadata": {
    "ExecuteTime": {
     "end_time": "2020-03-29T14:16:40.294708Z",
     "start_time": "2020-03-29T14:16:40.261728Z"
    }
   },
   "outputs": [],
   "source": [
    "df_covid.drop(['SNo','Province/State','Last Update'], axis=1, inplace=True)"
   ]
  },
  {
   "cell_type": "code",
   "execution_count": 7,
   "metadata": {
    "ExecuteTime": {
     "end_time": "2020-03-29T14:16:40.350674Z",
     "start_time": "2020-03-29T14:16:40.298706Z"
    }
   },
   "outputs": [
    {
     "data": {
      "text/html": [
       "<div>\n",
       "<style scoped>\n",
       "    .dataframe tbody tr th:only-of-type {\n",
       "        vertical-align: middle;\n",
       "    }\n",
       "\n",
       "    .dataframe tbody tr th {\n",
       "        vertical-align: top;\n",
       "    }\n",
       "\n",
       "    .dataframe thead th {\n",
       "        text-align: right;\n",
       "    }\n",
       "</style>\n",
       "<table border=\"1\" class=\"dataframe\">\n",
       "  <thead>\n",
       "    <tr style=\"text-align: right;\">\n",
       "      <th></th>\n",
       "      <th>ObservationDate</th>\n",
       "      <th>Country/Region</th>\n",
       "      <th>Confirmed</th>\n",
       "      <th>Deaths</th>\n",
       "      <th>Recovered</th>\n",
       "    </tr>\n",
       "  </thead>\n",
       "  <tbody>\n",
       "    <tr>\n",
       "      <th>0</th>\n",
       "      <td>01/22/2020</td>\n",
       "      <td>Mainland China</td>\n",
       "      <td>1.0</td>\n",
       "      <td>0.0</td>\n",
       "      <td>0.0</td>\n",
       "    </tr>\n",
       "    <tr>\n",
       "      <th>1</th>\n",
       "      <td>01/22/2020</td>\n",
       "      <td>Mainland China</td>\n",
       "      <td>14.0</td>\n",
       "      <td>0.0</td>\n",
       "      <td>0.0</td>\n",
       "    </tr>\n",
       "    <tr>\n",
       "      <th>2</th>\n",
       "      <td>01/22/2020</td>\n",
       "      <td>Mainland China</td>\n",
       "      <td>6.0</td>\n",
       "      <td>0.0</td>\n",
       "      <td>0.0</td>\n",
       "    </tr>\n",
       "    <tr>\n",
       "      <th>3</th>\n",
       "      <td>01/22/2020</td>\n",
       "      <td>Mainland China</td>\n",
       "      <td>1.0</td>\n",
       "      <td>0.0</td>\n",
       "      <td>0.0</td>\n",
       "    </tr>\n",
       "    <tr>\n",
       "      <th>4</th>\n",
       "      <td>01/22/2020</td>\n",
       "      <td>Mainland China</td>\n",
       "      <td>0.0</td>\n",
       "      <td>0.0</td>\n",
       "      <td>0.0</td>\n",
       "    </tr>\n",
       "    <tr>\n",
       "      <th>5</th>\n",
       "      <td>01/22/2020</td>\n",
       "      <td>Mainland China</td>\n",
       "      <td>26.0</td>\n",
       "      <td>0.0</td>\n",
       "      <td>0.0</td>\n",
       "    </tr>\n",
       "    <tr>\n",
       "      <th>6</th>\n",
       "      <td>01/22/2020</td>\n",
       "      <td>Mainland China</td>\n",
       "      <td>2.0</td>\n",
       "      <td>0.0</td>\n",
       "      <td>0.0</td>\n",
       "    </tr>\n",
       "    <tr>\n",
       "      <th>7</th>\n",
       "      <td>01/22/2020</td>\n",
       "      <td>Mainland China</td>\n",
       "      <td>1.0</td>\n",
       "      <td>0.0</td>\n",
       "      <td>0.0</td>\n",
       "    </tr>\n",
       "    <tr>\n",
       "      <th>8</th>\n",
       "      <td>01/22/2020</td>\n",
       "      <td>Mainland China</td>\n",
       "      <td>4.0</td>\n",
       "      <td>0.0</td>\n",
       "      <td>0.0</td>\n",
       "    </tr>\n",
       "    <tr>\n",
       "      <th>9</th>\n",
       "      <td>01/22/2020</td>\n",
       "      <td>Mainland China</td>\n",
       "      <td>1.0</td>\n",
       "      <td>0.0</td>\n",
       "      <td>0.0</td>\n",
       "    </tr>\n",
       "  </tbody>\n",
       "</table>\n",
       "</div>"
      ],
      "text/plain": [
       "  ObservationDate  Country/Region  Confirmed  Deaths  Recovered\n",
       "0      01/22/2020  Mainland China        1.0     0.0        0.0\n",
       "1      01/22/2020  Mainland China       14.0     0.0        0.0\n",
       "2      01/22/2020  Mainland China        6.0     0.0        0.0\n",
       "3      01/22/2020  Mainland China        1.0     0.0        0.0\n",
       "4      01/22/2020  Mainland China        0.0     0.0        0.0\n",
       "5      01/22/2020  Mainland China       26.0     0.0        0.0\n",
       "6      01/22/2020  Mainland China        2.0     0.0        0.0\n",
       "7      01/22/2020  Mainland China        1.0     0.0        0.0\n",
       "8      01/22/2020  Mainland China        4.0     0.0        0.0\n",
       "9      01/22/2020  Mainland China        1.0     0.0        0.0"
      ]
     },
     "execution_count": 7,
     "metadata": {},
     "output_type": "execute_result"
    }
   ],
   "source": [
    "## Required Data Set\n",
    "df_covid.head(10)"
   ]
  },
  {
   "cell_type": "markdown",
   "metadata": {},
   "source": [
    "# DataFrame Basic Insights "
   ]
  },
  {
   "cell_type": "code",
   "execution_count": 8,
   "metadata": {
    "ExecuteTime": {
     "end_time": "2020-03-29T14:16:40.404640Z",
     "start_time": "2020-03-29T14:16:40.353672Z"
    }
   },
   "outputs": [
    {
     "name": "stdout",
     "output_type": "stream",
     "text": [
      "The Shape of the data frame is Below: (6162, 5)\n",
      "\n",
      "The Columns of Data Frame are: Index(['ObservationDate', 'Country/Region', 'Confirmed', 'Deaths',\n",
      "       'Recovered'],\n",
      "      dtype='object')\n",
      "\n",
      "The datatypes of columns are: ObservationDate     object\n",
      "Country/Region      object\n",
      "Confirmed          float64\n",
      "Deaths             float64\n",
      "Recovered          float64\n",
      "dtype: object\n",
      "\n",
      "The indexs of Data frame: RangeIndex(start=0, stop=6162, step=1)\n",
      "\n"
     ]
    }
   ],
   "source": [
    "print(\"The Shape of the data frame is Below:\", df_covid.shape)\n",
    "print()\n",
    "print(\"The Columns of Data Frame are:\", df_covid.columns)\n",
    "print()\n",
    "print(\"The datatypes of columns are:\", df_covid.dtypes)\n",
    "print()\n",
    "print(\"The indexs of Data frame:\", df_covid.index)\n",
    "print()"
   ]
  },
  {
   "cell_type": "code",
   "execution_count": 9,
   "metadata": {
    "ExecuteTime": {
     "end_time": "2020-03-29T14:16:40.678841Z",
     "start_time": "2020-03-29T14:16:40.409636Z"
    }
   },
   "outputs": [
    {
     "data": {
      "text/plain": [
       "Mainland China         1703\n",
       "US                     1274\n",
       "Australia               269\n",
       "Canada                  186\n",
       "France                   75\n",
       "                       ... \n",
       "Somalia                   1\n",
       "Liberia                   1\n",
       "Benin                     1\n",
       "Greenland                 1\n",
       "Republic of Ireland       1\n",
       "Name: Country/Region, Length: 171, dtype: int64"
      ]
     },
     "execution_count": 9,
     "metadata": {},
     "output_type": "execute_result"
    }
   ],
   "source": [
    "df_covid['Country/Region'].value_counts()"
   ]
  },
  {
   "cell_type": "code",
   "execution_count": 10,
   "metadata": {
    "ExecuteTime": {
     "end_time": "2020-03-29T14:16:40.734808Z",
     "start_time": "2020-03-29T14:16:40.682840Z"
    }
   },
   "outputs": [
    {
     "name": "stdout",
     "output_type": "stream",
     "text": [
      "<class 'pandas.core.frame.DataFrame'>\n",
      "RangeIndex: 6162 entries, 0 to 6161\n",
      "Data columns (total 5 columns):\n",
      " #   Column           Non-Null Count  Dtype  \n",
      "---  ------           --------------  -----  \n",
      " 0   ObservationDate  6162 non-null   object \n",
      " 1   Country/Region   6162 non-null   object \n",
      " 2   Confirmed        6162 non-null   float64\n",
      " 3   Deaths           6162 non-null   float64\n",
      " 4   Recovered        6162 non-null   float64\n",
      "dtypes: float64(3), object(2)\n",
      "memory usage: 240.8+ KB\n"
     ]
    }
   ],
   "source": [
    "df_covid.info()"
   ]
  },
  {
   "cell_type": "code",
   "execution_count": 11,
   "metadata": {
    "ExecuteTime": {
     "end_time": "2020-03-29T14:16:40.779781Z",
     "start_time": "2020-03-29T14:16:40.737805Z"
    }
   },
   "outputs": [
    {
     "data": {
      "text/plain": [
       "Confirmed    3629156.0\n",
       "Deaths        116833.0\n",
       "Recovered    1357313.0\n",
       "dtype: float64"
      ]
     },
     "execution_count": 11,
     "metadata": {},
     "output_type": "execute_result"
    }
   ],
   "source": [
    "df_covid[['Confirmed','Deaths','Recovered']].sum()"
   ]
  },
  {
   "cell_type": "markdown",
   "metadata": {},
   "source": [
    "# DataFrame Indexing"
   ]
  },
  {
   "cell_type": "code",
   "execution_count": 12,
   "metadata": {
    "ExecuteTime": {
     "end_time": "2020-03-29T14:16:40.841742Z",
     "start_time": "2020-03-29T14:16:40.782777Z"
    }
   },
   "outputs": [
    {
     "data": {
      "text/html": [
       "<div>\n",
       "<style scoped>\n",
       "    .dataframe tbody tr th:only-of-type {\n",
       "        vertical-align: middle;\n",
       "    }\n",
       "\n",
       "    .dataframe tbody tr th {\n",
       "        vertical-align: top;\n",
       "    }\n",
       "\n",
       "    .dataframe thead th {\n",
       "        text-align: right;\n",
       "    }\n",
       "</style>\n",
       "<table border=\"1\" class=\"dataframe\">\n",
       "  <thead>\n",
       "    <tr style=\"text-align: right;\">\n",
       "      <th></th>\n",
       "      <th>Country/Region</th>\n",
       "      <th>Confirmed</th>\n",
       "      <th>Deaths</th>\n",
       "      <th>Recovered</th>\n",
       "    </tr>\n",
       "    <tr>\n",
       "      <th>ObservationDate</th>\n",
       "      <th></th>\n",
       "      <th></th>\n",
       "      <th></th>\n",
       "      <th></th>\n",
       "    </tr>\n",
       "  </thead>\n",
       "  <tbody>\n",
       "    <tr>\n",
       "      <th>01/22/2020</th>\n",
       "      <td>Mainland China</td>\n",
       "      <td>1.0</td>\n",
       "      <td>0.0</td>\n",
       "      <td>0.0</td>\n",
       "    </tr>\n",
       "    <tr>\n",
       "      <th>01/22/2020</th>\n",
       "      <td>Mainland China</td>\n",
       "      <td>14.0</td>\n",
       "      <td>0.0</td>\n",
       "      <td>0.0</td>\n",
       "    </tr>\n",
       "    <tr>\n",
       "      <th>01/22/2020</th>\n",
       "      <td>Mainland China</td>\n",
       "      <td>6.0</td>\n",
       "      <td>0.0</td>\n",
       "      <td>0.0</td>\n",
       "    </tr>\n",
       "    <tr>\n",
       "      <th>01/22/2020</th>\n",
       "      <td>Mainland China</td>\n",
       "      <td>1.0</td>\n",
       "      <td>0.0</td>\n",
       "      <td>0.0</td>\n",
       "    </tr>\n",
       "    <tr>\n",
       "      <th>01/22/2020</th>\n",
       "      <td>Mainland China</td>\n",
       "      <td>0.0</td>\n",
       "      <td>0.0</td>\n",
       "      <td>0.0</td>\n",
       "    </tr>\n",
       "  </tbody>\n",
       "</table>\n",
       "</div>"
      ],
      "text/plain": [
       "                 Country/Region  Confirmed  Deaths  Recovered\n",
       "ObservationDate                                              \n",
       "01/22/2020       Mainland China        1.0     0.0        0.0\n",
       "01/22/2020       Mainland China       14.0     0.0        0.0\n",
       "01/22/2020       Mainland China        6.0     0.0        0.0\n",
       "01/22/2020       Mainland China        1.0     0.0        0.0\n",
       "01/22/2020       Mainland China        0.0     0.0        0.0"
      ]
     },
     "execution_count": 12,
     "metadata": {},
     "output_type": "execute_result"
    }
   ],
   "source": [
    "# df_rst = df_covid.reset_index(drop=False)\n",
    "# df_covid= df_covid.set_index('ObservationDate', drop=False)\n",
    "df_covid= df_covid.set_index('ObservationDate', drop=True)\n",
    "df_covid.head()"
   ]
  },
  {
   "cell_type": "markdown",
   "metadata": {},
   "source": [
    "# Data Grouping "
   ]
  },
  {
   "cell_type": "code",
   "execution_count": 13,
   "metadata": {
    "ExecuteTime": {
     "end_time": "2020-03-29T14:16:40.925688Z",
     "start_time": "2020-03-29T14:16:40.844739Z"
    },
    "scrolled": true
   },
   "outputs": [
    {
     "data": {
      "text/html": [
       "<div>\n",
       "<style scoped>\n",
       "    .dataframe tbody tr th:only-of-type {\n",
       "        vertical-align: middle;\n",
       "    }\n",
       "\n",
       "    .dataframe tbody tr th {\n",
       "        vertical-align: top;\n",
       "    }\n",
       "\n",
       "    .dataframe thead th {\n",
       "        text-align: right;\n",
       "    }\n",
       "</style>\n",
       "<table border=\"1\" class=\"dataframe\">\n",
       "  <thead>\n",
       "    <tr style=\"text-align: right;\">\n",
       "      <th></th>\n",
       "      <th></th>\n",
       "      <th>Confirmed</th>\n",
       "      <th>Deaths</th>\n",
       "      <th>Recovered</th>\n",
       "    </tr>\n",
       "    <tr>\n",
       "      <th>Country/Region</th>\n",
       "      <th>ObservationDate</th>\n",
       "      <th></th>\n",
       "      <th></th>\n",
       "      <th></th>\n",
       "    </tr>\n",
       "  </thead>\n",
       "  <tbody>\n",
       "    <tr>\n",
       "      <th>Azerbaijan</th>\n",
       "      <th>02/28/2020</th>\n",
       "      <td>1.0</td>\n",
       "      <td>0.0</td>\n",
       "      <td>0.0</td>\n",
       "    </tr>\n",
       "    <tr>\n",
       "      <th>('St. Martin',)</th>\n",
       "      <th>03/10/2020</th>\n",
       "      <td>2.0</td>\n",
       "      <td>0.0</td>\n",
       "      <td>0.0</td>\n",
       "    </tr>\n",
       "    <tr>\n",
       "      <th rowspan=\"22\" valign=\"top\">Afghanistan</th>\n",
       "      <th>02/24/2020</th>\n",
       "      <td>1.0</td>\n",
       "      <td>0.0</td>\n",
       "      <td>0.0</td>\n",
       "    </tr>\n",
       "    <tr>\n",
       "      <th>02/25/2020</th>\n",
       "      <td>1.0</td>\n",
       "      <td>0.0</td>\n",
       "      <td>0.0</td>\n",
       "    </tr>\n",
       "    <tr>\n",
       "      <th>02/26/2020</th>\n",
       "      <td>1.0</td>\n",
       "      <td>0.0</td>\n",
       "      <td>0.0</td>\n",
       "    </tr>\n",
       "    <tr>\n",
       "      <th>02/27/2020</th>\n",
       "      <td>1.0</td>\n",
       "      <td>0.0</td>\n",
       "      <td>0.0</td>\n",
       "    </tr>\n",
       "    <tr>\n",
       "      <th>02/28/2020</th>\n",
       "      <td>1.0</td>\n",
       "      <td>0.0</td>\n",
       "      <td>0.0</td>\n",
       "    </tr>\n",
       "    <tr>\n",
       "      <th>02/29/2020</th>\n",
       "      <td>1.0</td>\n",
       "      <td>0.0</td>\n",
       "      <td>0.0</td>\n",
       "    </tr>\n",
       "    <tr>\n",
       "      <th>03/01/2020</th>\n",
       "      <td>1.0</td>\n",
       "      <td>0.0</td>\n",
       "      <td>0.0</td>\n",
       "    </tr>\n",
       "    <tr>\n",
       "      <th>03/02/2020</th>\n",
       "      <td>1.0</td>\n",
       "      <td>0.0</td>\n",
       "      <td>0.0</td>\n",
       "    </tr>\n",
       "    <tr>\n",
       "      <th>03/03/2020</th>\n",
       "      <td>1.0</td>\n",
       "      <td>0.0</td>\n",
       "      <td>0.0</td>\n",
       "    </tr>\n",
       "    <tr>\n",
       "      <th>03/04/2020</th>\n",
       "      <td>1.0</td>\n",
       "      <td>0.0</td>\n",
       "      <td>0.0</td>\n",
       "    </tr>\n",
       "    <tr>\n",
       "      <th>03/05/2020</th>\n",
       "      <td>1.0</td>\n",
       "      <td>0.0</td>\n",
       "      <td>0.0</td>\n",
       "    </tr>\n",
       "    <tr>\n",
       "      <th>03/06/2020</th>\n",
       "      <td>1.0</td>\n",
       "      <td>0.0</td>\n",
       "      <td>0.0</td>\n",
       "    </tr>\n",
       "    <tr>\n",
       "      <th>03/07/2020</th>\n",
       "      <td>1.0</td>\n",
       "      <td>0.0</td>\n",
       "      <td>0.0</td>\n",
       "    </tr>\n",
       "    <tr>\n",
       "      <th>03/08/2020</th>\n",
       "      <td>4.0</td>\n",
       "      <td>0.0</td>\n",
       "      <td>0.0</td>\n",
       "    </tr>\n",
       "    <tr>\n",
       "      <th>03/09/2020</th>\n",
       "      <td>4.0</td>\n",
       "      <td>0.0</td>\n",
       "      <td>0.0</td>\n",
       "    </tr>\n",
       "    <tr>\n",
       "      <th>03/10/2020</th>\n",
       "      <td>5.0</td>\n",
       "      <td>0.0</td>\n",
       "      <td>0.0</td>\n",
       "    </tr>\n",
       "    <tr>\n",
       "      <th>03/11/2020</th>\n",
       "      <td>7.0</td>\n",
       "      <td>0.0</td>\n",
       "      <td>0.0</td>\n",
       "    </tr>\n",
       "    <tr>\n",
       "      <th>03/12/2020</th>\n",
       "      <td>7.0</td>\n",
       "      <td>0.0</td>\n",
       "      <td>0.0</td>\n",
       "    </tr>\n",
       "    <tr>\n",
       "      <th>03/13/2020</th>\n",
       "      <td>7.0</td>\n",
       "      <td>0.0</td>\n",
       "      <td>0.0</td>\n",
       "    </tr>\n",
       "    <tr>\n",
       "      <th>03/14/2020</th>\n",
       "      <td>11.0</td>\n",
       "      <td>0.0</td>\n",
       "      <td>0.0</td>\n",
       "    </tr>\n",
       "    <tr>\n",
       "      <th>03/15/2020</th>\n",
       "      <td>16.0</td>\n",
       "      <td>0.0</td>\n",
       "      <td>0.0</td>\n",
       "    </tr>\n",
       "    <tr>\n",
       "      <th>03/16/2020</th>\n",
       "      <td>21.0</td>\n",
       "      <td>0.0</td>\n",
       "      <td>1.0</td>\n",
       "    </tr>\n",
       "    <tr>\n",
       "      <th rowspan=\"8\" valign=\"top\">Albania</th>\n",
       "      <th>03/09/2020</th>\n",
       "      <td>2.0</td>\n",
       "      <td>0.0</td>\n",
       "      <td>0.0</td>\n",
       "    </tr>\n",
       "    <tr>\n",
       "      <th>03/10/2020</th>\n",
       "      <td>10.0</td>\n",
       "      <td>0.0</td>\n",
       "      <td>0.0</td>\n",
       "    </tr>\n",
       "    <tr>\n",
       "      <th>03/11/2020</th>\n",
       "      <td>12.0</td>\n",
       "      <td>1.0</td>\n",
       "      <td>0.0</td>\n",
       "    </tr>\n",
       "    <tr>\n",
       "      <th>03/12/2020</th>\n",
       "      <td>23.0</td>\n",
       "      <td>1.0</td>\n",
       "      <td>0.0</td>\n",
       "    </tr>\n",
       "    <tr>\n",
       "      <th>03/13/2020</th>\n",
       "      <td>33.0</td>\n",
       "      <td>1.0</td>\n",
       "      <td>0.0</td>\n",
       "    </tr>\n",
       "    <tr>\n",
       "      <th>03/14/2020</th>\n",
       "      <td>38.0</td>\n",
       "      <td>1.0</td>\n",
       "      <td>0.0</td>\n",
       "    </tr>\n",
       "    <tr>\n",
       "      <th>03/15/2020</th>\n",
       "      <td>42.0</td>\n",
       "      <td>1.0</td>\n",
       "      <td>0.0</td>\n",
       "    </tr>\n",
       "    <tr>\n",
       "      <th>03/16/2020</th>\n",
       "      <td>51.0</td>\n",
       "      <td>1.0</td>\n",
       "      <td>0.0</td>\n",
       "    </tr>\n",
       "    <tr>\n",
       "      <th rowspan=\"18\" valign=\"top\">Algeria</th>\n",
       "      <th>02/25/2020</th>\n",
       "      <td>1.0</td>\n",
       "      <td>0.0</td>\n",
       "      <td>0.0</td>\n",
       "    </tr>\n",
       "    <tr>\n",
       "      <th>02/26/2020</th>\n",
       "      <td>1.0</td>\n",
       "      <td>0.0</td>\n",
       "      <td>0.0</td>\n",
       "    </tr>\n",
       "    <tr>\n",
       "      <th>02/27/2020</th>\n",
       "      <td>1.0</td>\n",
       "      <td>0.0</td>\n",
       "      <td>0.0</td>\n",
       "    </tr>\n",
       "    <tr>\n",
       "      <th>02/28/2020</th>\n",
       "      <td>1.0</td>\n",
       "      <td>0.0</td>\n",
       "      <td>0.0</td>\n",
       "    </tr>\n",
       "    <tr>\n",
       "      <th>02/29/2020</th>\n",
       "      <td>1.0</td>\n",
       "      <td>0.0</td>\n",
       "      <td>0.0</td>\n",
       "    </tr>\n",
       "    <tr>\n",
       "      <th>03/01/2020</th>\n",
       "      <td>1.0</td>\n",
       "      <td>0.0</td>\n",
       "      <td>0.0</td>\n",
       "    </tr>\n",
       "    <tr>\n",
       "      <th>03/02/2020</th>\n",
       "      <td>3.0</td>\n",
       "      <td>0.0</td>\n",
       "      <td>0.0</td>\n",
       "    </tr>\n",
       "    <tr>\n",
       "      <th>03/03/2020</th>\n",
       "      <td>5.0</td>\n",
       "      <td>0.0</td>\n",
       "      <td>0.0</td>\n",
       "    </tr>\n",
       "    <tr>\n",
       "      <th>03/04/2020</th>\n",
       "      <td>12.0</td>\n",
       "      <td>0.0</td>\n",
       "      <td>0.0</td>\n",
       "    </tr>\n",
       "    <tr>\n",
       "      <th>03/05/2020</th>\n",
       "      <td>12.0</td>\n",
       "      <td>0.0</td>\n",
       "      <td>0.0</td>\n",
       "    </tr>\n",
       "    <tr>\n",
       "      <th>03/06/2020</th>\n",
       "      <td>17.0</td>\n",
       "      <td>0.0</td>\n",
       "      <td>0.0</td>\n",
       "    </tr>\n",
       "    <tr>\n",
       "      <th>03/07/2020</th>\n",
       "      <td>17.0</td>\n",
       "      <td>0.0</td>\n",
       "      <td>0.0</td>\n",
       "    </tr>\n",
       "    <tr>\n",
       "      <th>03/08/2020</th>\n",
       "      <td>19.0</td>\n",
       "      <td>0.0</td>\n",
       "      <td>0.0</td>\n",
       "    </tr>\n",
       "    <tr>\n",
       "      <th>03/09/2020</th>\n",
       "      <td>20.0</td>\n",
       "      <td>0.0</td>\n",
       "      <td>0.0</td>\n",
       "    </tr>\n",
       "    <tr>\n",
       "      <th>03/10/2020</th>\n",
       "      <td>20.0</td>\n",
       "      <td>0.0</td>\n",
       "      <td>0.0</td>\n",
       "    </tr>\n",
       "    <tr>\n",
       "      <th>03/11/2020</th>\n",
       "      <td>20.0</td>\n",
       "      <td>0.0</td>\n",
       "      <td>0.0</td>\n",
       "    </tr>\n",
       "    <tr>\n",
       "      <th>03/12/2020</th>\n",
       "      <td>24.0</td>\n",
       "      <td>1.0</td>\n",
       "      <td>8.0</td>\n",
       "    </tr>\n",
       "    <tr>\n",
       "      <th>03/13/2020</th>\n",
       "      <td>26.0</td>\n",
       "      <td>2.0</td>\n",
       "      <td>8.0</td>\n",
       "    </tr>\n",
       "  </tbody>\n",
       "</table>\n",
       "</div>"
      ],
      "text/plain": [
       "                                 Confirmed  Deaths  Recovered\n",
       "Country/Region  ObservationDate                              \n",
       " Azerbaijan     02/28/2020             1.0     0.0        0.0\n",
       "('St. Martin',) 03/10/2020             2.0     0.0        0.0\n",
       "Afghanistan     02/24/2020             1.0     0.0        0.0\n",
       "                02/25/2020             1.0     0.0        0.0\n",
       "                02/26/2020             1.0     0.0        0.0\n",
       "                02/27/2020             1.0     0.0        0.0\n",
       "                02/28/2020             1.0     0.0        0.0\n",
       "                02/29/2020             1.0     0.0        0.0\n",
       "                03/01/2020             1.0     0.0        0.0\n",
       "                03/02/2020             1.0     0.0        0.0\n",
       "                03/03/2020             1.0     0.0        0.0\n",
       "                03/04/2020             1.0     0.0        0.0\n",
       "                03/05/2020             1.0     0.0        0.0\n",
       "                03/06/2020             1.0     0.0        0.0\n",
       "                03/07/2020             1.0     0.0        0.0\n",
       "                03/08/2020             4.0     0.0        0.0\n",
       "                03/09/2020             4.0     0.0        0.0\n",
       "                03/10/2020             5.0     0.0        0.0\n",
       "                03/11/2020             7.0     0.0        0.0\n",
       "                03/12/2020             7.0     0.0        0.0\n",
       "                03/13/2020             7.0     0.0        0.0\n",
       "                03/14/2020            11.0     0.0        0.0\n",
       "                03/15/2020            16.0     0.0        0.0\n",
       "                03/16/2020            21.0     0.0        1.0\n",
       "Albania         03/09/2020             2.0     0.0        0.0\n",
       "                03/10/2020            10.0     0.0        0.0\n",
       "                03/11/2020            12.0     1.0        0.0\n",
       "                03/12/2020            23.0     1.0        0.0\n",
       "                03/13/2020            33.0     1.0        0.0\n",
       "                03/14/2020            38.0     1.0        0.0\n",
       "                03/15/2020            42.0     1.0        0.0\n",
       "                03/16/2020            51.0     1.0        0.0\n",
       "Algeria         02/25/2020             1.0     0.0        0.0\n",
       "                02/26/2020             1.0     0.0        0.0\n",
       "                02/27/2020             1.0     0.0        0.0\n",
       "                02/28/2020             1.0     0.0        0.0\n",
       "                02/29/2020             1.0     0.0        0.0\n",
       "                03/01/2020             1.0     0.0        0.0\n",
       "                03/02/2020             3.0     0.0        0.0\n",
       "                03/03/2020             5.0     0.0        0.0\n",
       "                03/04/2020            12.0     0.0        0.0\n",
       "                03/05/2020            12.0     0.0        0.0\n",
       "                03/06/2020            17.0     0.0        0.0\n",
       "                03/07/2020            17.0     0.0        0.0\n",
       "                03/08/2020            19.0     0.0        0.0\n",
       "                03/09/2020            20.0     0.0        0.0\n",
       "                03/10/2020            20.0     0.0        0.0\n",
       "                03/11/2020            20.0     0.0        0.0\n",
       "                03/12/2020            24.0     1.0        8.0\n",
       "                03/13/2020            26.0     2.0        8.0"
      ]
     },
     "execution_count": 13,
     "metadata": {},
     "output_type": "execute_result"
    }
   ],
   "source": [
    "df_grp = df_covid.groupby(['Country/Region','ObservationDate']).sum()\n",
    "df_grp.head(50)"
   ]
  },
  {
   "cell_type": "code",
   "execution_count": 14,
   "metadata": {
    "ExecuteTime": {
     "end_time": "2020-03-29T14:16:41.082590Z",
     "start_time": "2020-03-29T14:16:40.928687Z"
    }
   },
   "outputs": [
    {
     "data": {
      "text/plain": [
       "[(' Azerbaijan', '02/28/2020'),\n",
       " (\"('St. Martin',)\", '03/10/2020'),\n",
       " ('Afghanistan', '02/24/2020'),\n",
       " ('Afghanistan', '02/25/2020'),\n",
       " ('Afghanistan', '02/26/2020'),\n",
       " ('Afghanistan', '02/27/2020'),\n",
       " ('Afghanistan', '02/28/2020'),\n",
       " ('Afghanistan', '02/29/2020'),\n",
       " ('Afghanistan', '03/01/2020'),\n",
       " ('Afghanistan', '03/02/2020'),\n",
       " ('Afghanistan', '03/03/2020'),\n",
       " ('Afghanistan', '03/04/2020'),\n",
       " ('Afghanistan', '03/05/2020'),\n",
       " ('Afghanistan', '03/06/2020'),\n",
       " ('Afghanistan', '03/07/2020'),\n",
       " ('Afghanistan', '03/08/2020'),\n",
       " ('Afghanistan', '03/09/2020'),\n",
       " ('Afghanistan', '03/10/2020'),\n",
       " ('Afghanistan', '03/11/2020'),\n",
       " ('Afghanistan', '03/12/2020'),\n",
       " ('Afghanistan', '03/13/2020'),\n",
       " ('Afghanistan', '03/14/2020'),\n",
       " ('Afghanistan', '03/15/2020'),\n",
       " ('Afghanistan', '03/16/2020'),\n",
       " ('Albania', '03/09/2020'),\n",
       " ('Albania', '03/10/2020'),\n",
       " ('Albania', '03/11/2020'),\n",
       " ('Albania', '03/12/2020'),\n",
       " ('Albania', '03/13/2020'),\n",
       " ('Albania', '03/14/2020'),\n",
       " ('Albania', '03/15/2020'),\n",
       " ('Albania', '03/16/2020'),\n",
       " ('Algeria', '02/25/2020'),\n",
       " ('Algeria', '02/26/2020'),\n",
       " ('Algeria', '02/27/2020'),\n",
       " ('Algeria', '02/28/2020'),\n",
       " ('Algeria', '02/29/2020'),\n",
       " ('Algeria', '03/01/2020'),\n",
       " ('Algeria', '03/02/2020'),\n",
       " ('Algeria', '03/03/2020'),\n",
       " ('Algeria', '03/04/2020'),\n",
       " ('Algeria', '03/05/2020'),\n",
       " ('Algeria', '03/06/2020'),\n",
       " ('Algeria', '03/07/2020'),\n",
       " ('Algeria', '03/08/2020'),\n",
       " ('Algeria', '03/09/2020'),\n",
       " ('Algeria', '03/10/2020'),\n",
       " ('Algeria', '03/11/2020'),\n",
       " ('Algeria', '03/12/2020'),\n",
       " ('Algeria', '03/13/2020'),\n",
       " ('Algeria', '03/14/2020'),\n",
       " ('Algeria', '03/15/2020'),\n",
       " ('Algeria', '03/16/2020'),\n",
       " ('Andorra', '03/02/2020'),\n",
       " ('Andorra', '03/03/2020'),\n",
       " ('Andorra', '03/04/2020'),\n",
       " ('Andorra', '03/05/2020'),\n",
       " ('Andorra', '03/06/2020'),\n",
       " ('Andorra', '03/07/2020'),\n",
       " ('Andorra', '03/08/2020'),\n",
       " ('Andorra', '03/09/2020'),\n",
       " ('Andorra', '03/10/2020'),\n",
       " ('Andorra', '03/11/2020'),\n",
       " ('Andorra', '03/12/2020'),\n",
       " ('Andorra', '03/13/2020'),\n",
       " ('Andorra', '03/14/2020'),\n",
       " ('Andorra', '03/15/2020'),\n",
       " ('Andorra', '03/16/2020'),\n",
       " ('Antigua and Barbuda', '03/13/2020'),\n",
       " ('Antigua and Barbuda', '03/14/2020'),\n",
       " ('Antigua and Barbuda', '03/15/2020'),\n",
       " ('Antigua and Barbuda', '03/16/2020'),\n",
       " ('Argentina', '03/03/2020'),\n",
       " ('Argentina', '03/04/2020'),\n",
       " ('Argentina', '03/05/2020'),\n",
       " ('Argentina', '03/06/2020'),\n",
       " ('Argentina', '03/07/2020'),\n",
       " ('Argentina', '03/08/2020'),\n",
       " ('Argentina', '03/09/2020'),\n",
       " ('Argentina', '03/10/2020'),\n",
       " ('Argentina', '03/11/2020'),\n",
       " ('Argentina', '03/12/2020'),\n",
       " ('Argentina', '03/13/2020'),\n",
       " ('Argentina', '03/14/2020'),\n",
       " ('Argentina', '03/15/2020'),\n",
       " ('Argentina', '03/16/2020'),\n",
       " ('Armenia', '03/01/2020'),\n",
       " ('Armenia', '03/02/2020'),\n",
       " ('Armenia', '03/03/2020'),\n",
       " ('Armenia', '03/04/2020'),\n",
       " ('Armenia', '03/05/2020'),\n",
       " ('Armenia', '03/06/2020'),\n",
       " ('Armenia', '03/07/2020'),\n",
       " ('Armenia', '03/08/2020'),\n",
       " ('Armenia', '03/09/2020'),\n",
       " ('Armenia', '03/10/2020'),\n",
       " ('Armenia', '03/11/2020'),\n",
       " ('Armenia', '03/12/2020'),\n",
       " ('Armenia', '03/13/2020'),\n",
       " ('Armenia', '03/14/2020'),\n",
       " ('Armenia', '03/15/2020'),\n",
       " ('Armenia', '03/16/2020'),\n",
       " ('Aruba', '03/13/2020'),\n",
       " ('Aruba', '03/14/2020'),\n",
       " ('Aruba', '03/15/2020'),\n",
       " ('Aruba', '03/16/2020'),\n",
       " ('Australia', '01/23/2020'),\n",
       " ('Australia', '01/25/2020'),\n",
       " ('Australia', '01/26/2020'),\n",
       " ('Australia', '01/27/2020'),\n",
       " ('Australia', '01/28/2020'),\n",
       " ('Australia', '01/29/2020'),\n",
       " ('Australia', '01/30/2020'),\n",
       " ('Australia', '01/31/2020'),\n",
       " ('Australia', '02/01/2020'),\n",
       " ('Australia', '02/02/2020'),\n",
       " ('Australia', '02/03/2020'),\n",
       " ('Australia', '02/04/2020'),\n",
       " ('Australia', '02/05/2020'),\n",
       " ('Australia', '02/06/2020'),\n",
       " ('Australia', '02/07/2020'),\n",
       " ('Australia', '02/08/2020'),\n",
       " ('Australia', '02/09/2020'),\n",
       " ('Australia', '02/10/2020'),\n",
       " ('Australia', '02/11/2020'),\n",
       " ('Australia', '02/12/2020'),\n",
       " ('Australia', '02/13/2020'),\n",
       " ('Australia', '02/14/2020'),\n",
       " ('Australia', '02/15/2020'),\n",
       " ('Australia', '02/16/2020'),\n",
       " ('Australia', '02/17/2020'),\n",
       " ('Australia', '02/18/2020'),\n",
       " ('Australia', '02/19/2020'),\n",
       " ('Australia', '02/20/2020'),\n",
       " ('Australia', '02/21/2020'),\n",
       " ('Australia', '02/22/2020'),\n",
       " ('Australia', '02/23/2020'),\n",
       " ('Australia', '02/24/2020'),\n",
       " ('Australia', '02/25/2020'),\n",
       " ('Australia', '02/26/2020'),\n",
       " ('Australia', '02/27/2020'),\n",
       " ('Australia', '02/28/2020'),\n",
       " ('Australia', '02/29/2020'),\n",
       " ('Australia', '03/01/2020'),\n",
       " ('Australia', '03/02/2020'),\n",
       " ('Australia', '03/03/2020'),\n",
       " ('Australia', '03/04/2020'),\n",
       " ('Australia', '03/05/2020'),\n",
       " ('Australia', '03/06/2020'),\n",
       " ('Australia', '03/07/2020'),\n",
       " ('Australia', '03/08/2020'),\n",
       " ('Australia', '03/09/2020'),\n",
       " ('Australia', '03/10/2020'),\n",
       " ('Australia', '03/11/2020'),\n",
       " ('Australia', '03/12/2020'),\n",
       " ('Australia', '03/13/2020'),\n",
       " ('Australia', '03/14/2020'),\n",
       " ('Australia', '03/15/2020'),\n",
       " ('Australia', '03/16/2020'),\n",
       " ('Austria', '02/25/2020'),\n",
       " ('Austria', '02/26/2020'),\n",
       " ('Austria', '02/27/2020'),\n",
       " ('Austria', '02/28/2020'),\n",
       " ('Austria', '02/29/2020'),\n",
       " ('Austria', '03/01/2020'),\n",
       " ('Austria', '03/02/2020'),\n",
       " ('Austria', '03/03/2020'),\n",
       " ('Austria', '03/04/2020'),\n",
       " ('Austria', '03/05/2020'),\n",
       " ('Austria', '03/06/2020'),\n",
       " ('Austria', '03/07/2020'),\n",
       " ('Austria', '03/08/2020'),\n",
       " ('Austria', '03/09/2020'),\n",
       " ('Austria', '03/10/2020'),\n",
       " ('Austria', '03/11/2020'),\n",
       " ('Austria', '03/12/2020'),\n",
       " ('Austria', '03/13/2020'),\n",
       " ('Austria', '03/14/2020'),\n",
       " ('Austria', '03/15/2020'),\n",
       " ('Austria', '03/16/2020'),\n",
       " ('Azerbaijan', '03/01/2020'),\n",
       " ('Azerbaijan', '03/02/2020'),\n",
       " ('Azerbaijan', '03/03/2020'),\n",
       " ('Azerbaijan', '03/04/2020'),\n",
       " ('Azerbaijan', '03/05/2020'),\n",
       " ('Azerbaijan', '03/06/2020'),\n",
       " ('Azerbaijan', '03/07/2020'),\n",
       " ('Azerbaijan', '03/08/2020'),\n",
       " ('Azerbaijan', '03/09/2020'),\n",
       " ('Azerbaijan', '03/10/2020'),\n",
       " ('Azerbaijan', '03/11/2020'),\n",
       " ('Azerbaijan', '03/12/2020'),\n",
       " ('Azerbaijan', '03/13/2020'),\n",
       " ('Azerbaijan', '03/14/2020'),\n",
       " ('Azerbaijan', '03/15/2020'),\n",
       " ('Azerbaijan', '03/16/2020'),\n",
       " ('Bahrain', '02/24/2020'),\n",
       " ('Bahrain', '02/25/2020'),\n",
       " ('Bahrain', '02/26/2020'),\n",
       " ('Bahrain', '02/27/2020'),\n",
       " ('Bahrain', '02/28/2020'),\n",
       " ('Bahrain', '02/29/2020'),\n",
       " ('Bahrain', '03/01/2020'),\n",
       " ('Bahrain', '03/02/2020'),\n",
       " ('Bahrain', '03/03/2020'),\n",
       " ('Bahrain', '03/04/2020'),\n",
       " ('Bahrain', '03/05/2020'),\n",
       " ('Bahrain', '03/06/2020'),\n",
       " ('Bahrain', '03/07/2020'),\n",
       " ('Bahrain', '03/08/2020'),\n",
       " ('Bahrain', '03/09/2020'),\n",
       " ('Bahrain', '03/10/2020'),\n",
       " ('Bahrain', '03/11/2020'),\n",
       " ('Bahrain', '03/12/2020'),\n",
       " ('Bahrain', '03/13/2020'),\n",
       " ('Bahrain', '03/14/2020'),\n",
       " ('Bahrain', '03/15/2020'),\n",
       " ('Bahrain', '03/16/2020'),\n",
       " ('Bangladesh', '03/08/2020'),\n",
       " ('Bangladesh', '03/09/2020'),\n",
       " ('Bangladesh', '03/10/2020'),\n",
       " ('Bangladesh', '03/11/2020'),\n",
       " ('Bangladesh', '03/12/2020'),\n",
       " ('Bangladesh', '03/13/2020'),\n",
       " ('Bangladesh', '03/14/2020'),\n",
       " ('Bangladesh', '03/15/2020'),\n",
       " ('Bangladesh', '03/16/2020'),\n",
       " ('Belarus', '02/28/2020'),\n",
       " ('Belarus', '02/29/2020'),\n",
       " ('Belarus', '03/01/2020'),\n",
       " ('Belarus', '03/02/2020'),\n",
       " ('Belarus', '03/03/2020'),\n",
       " ('Belarus', '03/04/2020'),\n",
       " ('Belarus', '03/05/2020'),\n",
       " ('Belarus', '03/06/2020'),\n",
       " ('Belarus', '03/07/2020'),\n",
       " ('Belarus', '03/08/2020'),\n",
       " ('Belarus', '03/09/2020'),\n",
       " ('Belarus', '03/10/2020'),\n",
       " ('Belarus', '03/11/2020'),\n",
       " ('Belarus', '03/12/2020'),\n",
       " ('Belarus', '03/13/2020'),\n",
       " ('Belarus', '03/14/2020'),\n",
       " ('Belarus', '03/15/2020'),\n",
       " ('Belarus', '03/16/2020'),\n",
       " ('Belgium', '02/04/2020'),\n",
       " ('Belgium', '02/05/2020'),\n",
       " ('Belgium', '02/06/2020'),\n",
       " ('Belgium', '02/07/2020'),\n",
       " ('Belgium', '02/08/2020'),\n",
       " ('Belgium', '02/09/2020'),\n",
       " ('Belgium', '02/10/2020'),\n",
       " ('Belgium', '02/11/2020'),\n",
       " ('Belgium', '02/12/2020'),\n",
       " ('Belgium', '02/13/2020'),\n",
       " ('Belgium', '02/14/2020'),\n",
       " ('Belgium', '02/15/2020'),\n",
       " ('Belgium', '02/16/2020'),\n",
       " ('Belgium', '02/17/2020'),\n",
       " ('Belgium', '02/18/2020'),\n",
       " ('Belgium', '02/19/2020'),\n",
       " ('Belgium', '02/20/2020'),\n",
       " ('Belgium', '02/21/2020'),\n",
       " ('Belgium', '02/22/2020'),\n",
       " ('Belgium', '02/23/2020'),\n",
       " ('Belgium', '02/24/2020'),\n",
       " ('Belgium', '02/25/2020'),\n",
       " ('Belgium', '02/26/2020'),\n",
       " ('Belgium', '02/27/2020'),\n",
       " ('Belgium', '02/28/2020'),\n",
       " ('Belgium', '02/29/2020'),\n",
       " ('Belgium', '03/01/2020'),\n",
       " ('Belgium', '03/02/2020'),\n",
       " ('Belgium', '03/03/2020'),\n",
       " ('Belgium', '03/04/2020'),\n",
       " ('Belgium', '03/05/2020'),\n",
       " ('Belgium', '03/06/2020'),\n",
       " ('Belgium', '03/07/2020'),\n",
       " ('Belgium', '03/08/2020'),\n",
       " ('Belgium', '03/09/2020'),\n",
       " ('Belgium', '03/10/2020'),\n",
       " ('Belgium', '03/11/2020'),\n",
       " ('Belgium', '03/12/2020'),\n",
       " ('Belgium', '03/13/2020'),\n",
       " ('Belgium', '03/14/2020'),\n",
       " ('Belgium', '03/15/2020'),\n",
       " ('Belgium', '03/16/2020'),\n",
       " ('Benin', '03/16/2020'),\n",
       " ('Bhutan', '03/06/2020'),\n",
       " ('Bhutan', '03/07/2020'),\n",
       " ('Bhutan', '03/08/2020'),\n",
       " ('Bhutan', '03/09/2020'),\n",
       " ('Bhutan', '03/10/2020'),\n",
       " ('Bhutan', '03/11/2020'),\n",
       " ('Bhutan', '03/12/2020'),\n",
       " ('Bhutan', '03/13/2020'),\n",
       " ('Bhutan', '03/14/2020'),\n",
       " ('Bhutan', '03/15/2020'),\n",
       " ('Bhutan', '03/16/2020'),\n",
       " ('Bolivia', '03/11/2020'),\n",
       " ('Bolivia', '03/12/2020'),\n",
       " ('Bolivia', '03/13/2020'),\n",
       " ('Bolivia', '03/14/2020'),\n",
       " ('Bolivia', '03/15/2020'),\n",
       " ('Bolivia', '03/16/2020'),\n",
       " ('Bosnia and Herzegovina', '03/05/2020'),\n",
       " ('Bosnia and Herzegovina', '03/06/2020'),\n",
       " ('Bosnia and Herzegovina', '03/07/2020'),\n",
       " ('Bosnia and Herzegovina', '03/08/2020'),\n",
       " ('Bosnia and Herzegovina', '03/09/2020'),\n",
       " ('Bosnia and Herzegovina', '03/10/2020'),\n",
       " ('Bosnia and Herzegovina', '03/11/2020'),\n",
       " ('Bosnia and Herzegovina', '03/12/2020'),\n",
       " ('Bosnia and Herzegovina', '03/13/2020'),\n",
       " ('Bosnia and Herzegovina', '03/14/2020'),\n",
       " ('Bosnia and Herzegovina', '03/15/2020'),\n",
       " ('Bosnia and Herzegovina', '03/16/2020'),\n",
       " ('Brazil', '01/23/2020'),\n",
       " ('Brazil', '02/26/2020'),\n",
       " ('Brazil', '02/27/2020'),\n",
       " ('Brazil', '02/28/2020'),\n",
       " ('Brazil', '02/29/2020'),\n",
       " ('Brazil', '03/01/2020'),\n",
       " ('Brazil', '03/02/2020'),\n",
       " ('Brazil', '03/03/2020'),\n",
       " ('Brazil', '03/04/2020'),\n",
       " ('Brazil', '03/05/2020'),\n",
       " ('Brazil', '03/06/2020'),\n",
       " ('Brazil', '03/07/2020'),\n",
       " ('Brazil', '03/08/2020'),\n",
       " ('Brazil', '03/09/2020'),\n",
       " ('Brazil', '03/10/2020'),\n",
       " ('Brazil', '03/11/2020'),\n",
       " ('Brazil', '03/12/2020'),\n",
       " ('Brazil', '03/13/2020'),\n",
       " ('Brazil', '03/14/2020'),\n",
       " ('Brazil', '03/15/2020'),\n",
       " ('Brazil', '03/16/2020'),\n",
       " ('Brunei', '03/09/2020'),\n",
       " ('Brunei', '03/10/2020'),\n",
       " ('Brunei', '03/11/2020'),\n",
       " ('Brunei', '03/12/2020'),\n",
       " ('Brunei', '03/13/2020'),\n",
       " ('Brunei', '03/14/2020'),\n",
       " ('Brunei', '03/15/2020'),\n",
       " ('Brunei', '03/16/2020'),\n",
       " ('Bulgaria', '03/08/2020'),\n",
       " ('Bulgaria', '03/09/2020'),\n",
       " ('Bulgaria', '03/10/2020'),\n",
       " ('Bulgaria', '03/11/2020'),\n",
       " ('Bulgaria', '03/12/2020'),\n",
       " ('Bulgaria', '03/13/2020'),\n",
       " ('Bulgaria', '03/14/2020'),\n",
       " ('Bulgaria', '03/15/2020'),\n",
       " ('Bulgaria', '03/16/2020'),\n",
       " ('Burkina Faso', '03/10/2020'),\n",
       " ('Burkina Faso', '03/11/2020'),\n",
       " ('Burkina Faso', '03/12/2020'),\n",
       " ('Burkina Faso', '03/13/2020'),\n",
       " ('Burkina Faso', '03/14/2020'),\n",
       " ('Burkina Faso', '03/15/2020'),\n",
       " ('Burkina Faso', '03/16/2020'),\n",
       " ('Cambodia', '01/27/2020'),\n",
       " ('Cambodia', '01/28/2020'),\n",
       " ('Cambodia', '01/29/2020'),\n",
       " ('Cambodia', '01/30/2020'),\n",
       " ('Cambodia', '01/31/2020'),\n",
       " ('Cambodia', '02/01/2020'),\n",
       " ('Cambodia', '02/02/2020'),\n",
       " ('Cambodia', '02/03/2020'),\n",
       " ('Cambodia', '02/04/2020'),\n",
       " ('Cambodia', '02/05/2020'),\n",
       " ('Cambodia', '02/06/2020'),\n",
       " ('Cambodia', '02/07/2020'),\n",
       " ('Cambodia', '02/08/2020'),\n",
       " ('Cambodia', '02/09/2020'),\n",
       " ('Cambodia', '02/10/2020'),\n",
       " ('Cambodia', '02/11/2020'),\n",
       " ('Cambodia', '02/12/2020'),\n",
       " ('Cambodia', '02/13/2020'),\n",
       " ('Cambodia', '02/14/2020'),\n",
       " ('Cambodia', '02/15/2020'),\n",
       " ('Cambodia', '02/16/2020'),\n",
       " ('Cambodia', '02/17/2020'),\n",
       " ('Cambodia', '02/18/2020'),\n",
       " ('Cambodia', '02/19/2020'),\n",
       " ('Cambodia', '02/20/2020'),\n",
       " ('Cambodia', '02/21/2020'),\n",
       " ('Cambodia', '02/22/2020'),\n",
       " ('Cambodia', '02/23/2020'),\n",
       " ('Cambodia', '02/24/2020'),\n",
       " ('Cambodia', '02/25/2020'),\n",
       " ('Cambodia', '02/26/2020'),\n",
       " ('Cambodia', '02/27/2020'),\n",
       " ('Cambodia', '02/28/2020'),\n",
       " ('Cambodia', '02/29/2020'),\n",
       " ('Cambodia', '03/01/2020'),\n",
       " ('Cambodia', '03/02/2020'),\n",
       " ('Cambodia', '03/03/2020'),\n",
       " ('Cambodia', '03/04/2020'),\n",
       " ('Cambodia', '03/05/2020'),\n",
       " ('Cambodia', '03/06/2020'),\n",
       " ('Cambodia', '03/07/2020'),\n",
       " ('Cambodia', '03/08/2020'),\n",
       " ('Cambodia', '03/09/2020'),\n",
       " ('Cambodia', '03/10/2020'),\n",
       " ('Cambodia', '03/11/2020'),\n",
       " ('Cambodia', '03/12/2020'),\n",
       " ('Cambodia', '03/13/2020'),\n",
       " ('Cambodia', '03/14/2020'),\n",
       " ('Cambodia', '03/15/2020'),\n",
       " ('Cambodia', '03/16/2020'),\n",
       " ('Cameroon', '03/06/2020'),\n",
       " ('Cameroon', '03/07/2020'),\n",
       " ('Cameroon', '03/08/2020'),\n",
       " ('Cameroon', '03/09/2020'),\n",
       " ('Cameroon', '03/10/2020'),\n",
       " ('Cameroon', '03/11/2020'),\n",
       " ('Cameroon', '03/12/2020'),\n",
       " ('Cameroon', '03/13/2020'),\n",
       " ('Cameroon', '03/14/2020'),\n",
       " ('Cameroon', '03/15/2020'),\n",
       " ('Cameroon', '03/16/2020'),\n",
       " ('Canada', '01/26/2020'),\n",
       " ('Canada', '01/27/2020'),\n",
       " ('Canada', '01/28/2020'),\n",
       " ('Canada', '01/29/2020'),\n",
       " ('Canada', '01/30/2020'),\n",
       " ('Canada', '01/31/2020'),\n",
       " ('Canada', '02/01/2020'),\n",
       " ('Canada', '02/02/2020'),\n",
       " ('Canada', '02/03/2020'),\n",
       " ('Canada', '02/04/2020'),\n",
       " ('Canada', '02/05/2020'),\n",
       " ('Canada', '02/06/2020'),\n",
       " ('Canada', '02/07/2020'),\n",
       " ('Canada', '02/08/2020'),\n",
       " ('Canada', '02/09/2020'),\n",
       " ('Canada', '02/10/2020'),\n",
       " ('Canada', '02/11/2020'),\n",
       " ('Canada', '02/12/2020'),\n",
       " ('Canada', '02/13/2020'),\n",
       " ('Canada', '02/14/2020'),\n",
       " ('Canada', '02/15/2020'),\n",
       " ('Canada', '02/16/2020'),\n",
       " ('Canada', '02/17/2020'),\n",
       " ('Canada', '02/18/2020'),\n",
       " ('Canada', '02/19/2020'),\n",
       " ('Canada', '02/20/2020'),\n",
       " ('Canada', '02/21/2020'),\n",
       " ('Canada', '02/22/2020'),\n",
       " ('Canada', '02/23/2020'),\n",
       " ('Canada', '02/24/2020'),\n",
       " ('Canada', '02/25/2020'),\n",
       " ('Canada', '02/26/2020'),\n",
       " ('Canada', '02/27/2020'),\n",
       " ('Canada', '02/28/2020'),\n",
       " ('Canada', '02/29/2020'),\n",
       " ('Canada', '03/01/2020'),\n",
       " ('Canada', '03/02/2020'),\n",
       " ('Canada', '03/03/2020'),\n",
       " ('Canada', '03/04/2020'),\n",
       " ('Canada', '03/05/2020'),\n",
       " ('Canada', '03/06/2020'),\n",
       " ('Canada', '03/07/2020'),\n",
       " ('Canada', '03/08/2020'),\n",
       " ('Canada', '03/09/2020'),\n",
       " ('Canada', '03/10/2020'),\n",
       " ('Canada', '03/11/2020'),\n",
       " ('Canada', '03/12/2020'),\n",
       " ('Canada', '03/13/2020'),\n",
       " ('Canada', '03/14/2020'),\n",
       " ('Canada', '03/15/2020'),\n",
       " ('Canada', '03/16/2020'),\n",
       " ('Cayman Islands', '03/13/2020'),\n",
       " ('Cayman Islands', '03/14/2020'),\n",
       " ('Cayman Islands', '03/15/2020'),\n",
       " ('Central African Republic', '03/15/2020'),\n",
       " ('Central African Republic', '03/16/2020'),\n",
       " ('Channel Islands', '03/10/2020'),\n",
       " ('Chile', '03/03/2020'),\n",
       " ('Chile', '03/04/2020'),\n",
       " ('Chile', '03/05/2020'),\n",
       " ('Chile', '03/06/2020'),\n",
       " ('Chile', '03/07/2020'),\n",
       " ('Chile', '03/08/2020'),\n",
       " ('Chile', '03/09/2020'),\n",
       " ('Chile', '03/10/2020'),\n",
       " ('Chile', '03/11/2020'),\n",
       " ('Chile', '03/12/2020'),\n",
       " ('Chile', '03/13/2020'),\n",
       " ('Chile', '03/14/2020'),\n",
       " ('Chile', '03/15/2020'),\n",
       " ('Chile', '03/16/2020'),\n",
       " ('Colombia', '01/23/2020'),\n",
       " ('Colombia', '03/06/2020'),\n",
       " ('Colombia', '03/07/2020'),\n",
       " ('Colombia', '03/08/2020'),\n",
       " ('Colombia', '03/09/2020'),\n",
       " ('Colombia', '03/10/2020'),\n",
       " ('Colombia', '03/11/2020'),\n",
       " ('Colombia', '03/12/2020'),\n",
       " ('Colombia', '03/13/2020'),\n",
       " ('Colombia', '03/14/2020'),\n",
       " ('Colombia', '03/15/2020'),\n",
       " ('Colombia', '03/16/2020'),\n",
       " ('Congo (Brazzaville)', '03/15/2020'),\n",
       " ('Congo (Brazzaville)', '03/16/2020'),\n",
       " ('Congo (Kinshasa)', '03/11/2020'),\n",
       " ('Congo (Kinshasa)', '03/12/2020'),\n",
       " ('Congo (Kinshasa)', '03/13/2020'),\n",
       " ('Congo (Kinshasa)', '03/14/2020'),\n",
       " ('Congo (Kinshasa)', '03/15/2020'),\n",
       " ('Congo (Kinshasa)', '03/16/2020'),\n",
       " ('Costa Rica', '03/06/2020'),\n",
       " ('Costa Rica', '03/07/2020'),\n",
       " ('Costa Rica', '03/08/2020'),\n",
       " ('Costa Rica', '03/09/2020'),\n",
       " ('Costa Rica', '03/10/2020'),\n",
       " ('Costa Rica', '03/11/2020'),\n",
       " ('Costa Rica', '03/12/2020'),\n",
       " ('Costa Rica', '03/13/2020'),\n",
       " ('Costa Rica', '03/14/2020'),\n",
       " ('Costa Rica', '03/15/2020'),\n",
       " ('Costa Rica', '03/16/2020'),\n",
       " ('Croatia', '02/25/2020'),\n",
       " ('Croatia', '02/26/2020'),\n",
       " ('Croatia', '02/27/2020'),\n",
       " ('Croatia', '02/28/2020'),\n",
       " ('Croatia', '02/29/2020'),\n",
       " ('Croatia', '03/01/2020'),\n",
       " ('Croatia', '03/02/2020'),\n",
       " ('Croatia', '03/03/2020'),\n",
       " ('Croatia', '03/04/2020'),\n",
       " ('Croatia', '03/05/2020'),\n",
       " ('Croatia', '03/06/2020'),\n",
       " ('Croatia', '03/07/2020'),\n",
       " ('Croatia', '03/08/2020'),\n",
       " ('Croatia', '03/09/2020'),\n",
       " ('Croatia', '03/10/2020'),\n",
       " ('Croatia', '03/11/2020'),\n",
       " ('Croatia', '03/12/2020'),\n",
       " ('Croatia', '03/13/2020'),\n",
       " ('Croatia', '03/14/2020'),\n",
       " ('Croatia', '03/15/2020'),\n",
       " ('Croatia', '03/16/2020'),\n",
       " ('Cuba', '03/12/2020'),\n",
       " ('Cuba', '03/13/2020'),\n",
       " ('Cuba', '03/14/2020'),\n",
       " ('Cuba', '03/15/2020'),\n",
       " ('Cuba', '03/16/2020'),\n",
       " ('Curacao', '03/14/2020'),\n",
       " ('Curacao', '03/15/2020'),\n",
       " ('Cyprus', '03/09/2020'),\n",
       " ('Cyprus', '03/10/2020'),\n",
       " ('Cyprus', '03/11/2020'),\n",
       " ('Cyprus', '03/12/2020'),\n",
       " ('Cyprus', '03/13/2020'),\n",
       " ('Cyprus', '03/14/2020'),\n",
       " ('Cyprus', '03/15/2020'),\n",
       " ('Cyprus', '03/16/2020'),\n",
       " ('Czech Republic', '03/01/2020'),\n",
       " ('Czech Republic', '03/02/2020'),\n",
       " ('Czech Republic', '03/03/2020'),\n",
       " ('Czech Republic', '03/04/2020'),\n",
       " ('Czech Republic', '03/05/2020'),\n",
       " ('Czech Republic', '03/06/2020'),\n",
       " ('Czech Republic', '03/07/2020'),\n",
       " ('Czech Republic', '03/08/2020'),\n",
       " ('Czech Republic', '03/09/2020'),\n",
       " ('Czech Republic', '03/10/2020'),\n",
       " ('Czech Republic', '03/11/2020'),\n",
       " ('Czech Republic', '03/12/2020'),\n",
       " ('Czech Republic', '03/13/2020'),\n",
       " ('Czech Republic', '03/14/2020'),\n",
       " ('Czech Republic', '03/15/2020'),\n",
       " ('Czech Republic', '03/16/2020'),\n",
       " ('Denmark', '02/27/2020'),\n",
       " ('Denmark', '02/28/2020'),\n",
       " ('Denmark', '02/29/2020'),\n",
       " ('Denmark', '03/01/2020'),\n",
       " ('Denmark', '03/02/2020'),\n",
       " ('Denmark', '03/03/2020'),\n",
       " ('Denmark', '03/04/2020'),\n",
       " ('Denmark', '03/05/2020'),\n",
       " ('Denmark', '03/06/2020'),\n",
       " ('Denmark', '03/07/2020'),\n",
       " ('Denmark', '03/08/2020'),\n",
       " ('Denmark', '03/09/2020'),\n",
       " ('Denmark', '03/10/2020'),\n",
       " ('Denmark', '03/11/2020'),\n",
       " ('Denmark', '03/12/2020'),\n",
       " ('Denmark', '03/13/2020'),\n",
       " ('Denmark', '03/14/2020'),\n",
       " ('Denmark', '03/15/2020'),\n",
       " ('Denmark', '03/16/2020'),\n",
       " ('Dominican Republic', '03/01/2020'),\n",
       " ('Dominican Republic', '03/02/2020'),\n",
       " ('Dominican Republic', '03/03/2020'),\n",
       " ('Dominican Republic', '03/04/2020'),\n",
       " ('Dominican Republic', '03/05/2020'),\n",
       " ('Dominican Republic', '03/06/2020'),\n",
       " ('Dominican Republic', '03/07/2020'),\n",
       " ('Dominican Republic', '03/08/2020'),\n",
       " ('Dominican Republic', '03/09/2020'),\n",
       " ('Dominican Republic', '03/10/2020'),\n",
       " ('Dominican Republic', '03/11/2020'),\n",
       " ('Dominican Republic', '03/12/2020'),\n",
       " ('Dominican Republic', '03/13/2020'),\n",
       " ('Dominican Republic', '03/14/2020'),\n",
       " ('Dominican Republic', '03/15/2020'),\n",
       " ('Dominican Republic', '03/16/2020'),\n",
       " ('Ecuador', '03/01/2020'),\n",
       " ('Ecuador', '03/02/2020'),\n",
       " ('Ecuador', '03/03/2020'),\n",
       " ('Ecuador', '03/04/2020'),\n",
       " ('Ecuador', '03/05/2020'),\n",
       " ('Ecuador', '03/06/2020'),\n",
       " ('Ecuador', '03/07/2020'),\n",
       " ('Ecuador', '03/08/2020'),\n",
       " ('Ecuador', '03/09/2020'),\n",
       " ('Ecuador', '03/10/2020'),\n",
       " ('Ecuador', '03/11/2020'),\n",
       " ('Ecuador', '03/12/2020'),\n",
       " ('Ecuador', '03/13/2020'),\n",
       " ('Ecuador', '03/14/2020'),\n",
       " ('Ecuador', '03/15/2020'),\n",
       " ('Ecuador', '03/16/2020'),\n",
       " ('Egypt', '02/14/2020'),\n",
       " ('Egypt', '02/15/2020'),\n",
       " ('Egypt', '02/16/2020'),\n",
       " ('Egypt', '02/17/2020'),\n",
       " ('Egypt', '02/18/2020'),\n",
       " ('Egypt', '02/19/2020'),\n",
       " ('Egypt', '02/20/2020'),\n",
       " ('Egypt', '02/21/2020'),\n",
       " ('Egypt', '02/22/2020'),\n",
       " ('Egypt', '02/23/2020'),\n",
       " ('Egypt', '02/24/2020'),\n",
       " ('Egypt', '02/25/2020'),\n",
       " ('Egypt', '02/26/2020'),\n",
       " ('Egypt', '02/27/2020'),\n",
       " ('Egypt', '02/28/2020'),\n",
       " ('Egypt', '02/29/2020'),\n",
       " ('Egypt', '03/01/2020'),\n",
       " ('Egypt', '03/02/2020'),\n",
       " ('Egypt', '03/03/2020'),\n",
       " ('Egypt', '03/04/2020'),\n",
       " ('Egypt', '03/05/2020'),\n",
       " ('Egypt', '03/06/2020'),\n",
       " ('Egypt', '03/07/2020'),\n",
       " ('Egypt', '03/08/2020'),\n",
       " ('Egypt', '03/09/2020'),\n",
       " ('Egypt', '03/10/2020'),\n",
       " ('Egypt', '03/11/2020'),\n",
       " ('Egypt', '03/12/2020'),\n",
       " ('Egypt', '03/13/2020'),\n",
       " ('Egypt', '03/14/2020'),\n",
       " ('Egypt', '03/15/2020'),\n",
       " ('Egypt', '03/16/2020'),\n",
       " ('Equatorial Guinea', '03/15/2020'),\n",
       " ('Equatorial Guinea', '03/16/2020'),\n",
       " ('Estonia', '02/27/2020'),\n",
       " ('Estonia', '02/28/2020'),\n",
       " ('Estonia', '02/29/2020'),\n",
       " ('Estonia', '03/01/2020'),\n",
       " ('Estonia', '03/02/2020'),\n",
       " ('Estonia', '03/03/2020'),\n",
       " ('Estonia', '03/04/2020'),\n",
       " ('Estonia', '03/05/2020'),\n",
       " ('Estonia', '03/06/2020'),\n",
       " ('Estonia', '03/07/2020'),\n",
       " ('Estonia', '03/08/2020'),\n",
       " ('Estonia', '03/09/2020'),\n",
       " ('Estonia', '03/10/2020'),\n",
       " ('Estonia', '03/11/2020'),\n",
       " ('Estonia', '03/12/2020'),\n",
       " ('Estonia', '03/13/2020'),\n",
       " ('Estonia', '03/14/2020'),\n",
       " ('Estonia', '03/15/2020'),\n",
       " ('Estonia', '03/16/2020'),\n",
       " ('Eswatini', '03/14/2020'),\n",
       " ('Eswatini', '03/15/2020'),\n",
       " ('Eswatini', '03/16/2020'),\n",
       " ('Ethiopia', '03/13/2020'),\n",
       " ('Ethiopia', '03/14/2020'),\n",
       " ('Ethiopia', '03/15/2020'),\n",
       " ('Ethiopia', '03/16/2020'),\n",
       " ('Faroe Islands', '03/04/2020'),\n",
       " ('Faroe Islands', '03/05/2020'),\n",
       " ('Faroe Islands', '03/06/2020'),\n",
       " ('Faroe Islands', '03/07/2020'),\n",
       " ('Faroe Islands', '03/08/2020'),\n",
       " ('Faroe Islands', '03/09/2020'),\n",
       " ('Faroe Islands', '03/10/2020'),\n",
       " ('Finland', '01/29/2020'),\n",
       " ('Finland', '01/30/2020'),\n",
       " ('Finland', '01/31/2020'),\n",
       " ('Finland', '02/01/2020'),\n",
       " ('Finland', '02/02/2020'),\n",
       " ('Finland', '02/03/2020'),\n",
       " ('Finland', '02/04/2020'),\n",
       " ('Finland', '02/05/2020'),\n",
       " ('Finland', '02/06/2020'),\n",
       " ('Finland', '02/07/2020'),\n",
       " ('Finland', '02/08/2020'),\n",
       " ('Finland', '02/09/2020'),\n",
       " ('Finland', '02/10/2020'),\n",
       " ('Finland', '02/11/2020'),\n",
       " ('Finland', '02/12/2020'),\n",
       " ('Finland', '02/13/2020'),\n",
       " ('Finland', '02/14/2020'),\n",
       " ('Finland', '02/15/2020'),\n",
       " ('Finland', '02/16/2020'),\n",
       " ('Finland', '02/17/2020'),\n",
       " ('Finland', '02/18/2020'),\n",
       " ('Finland', '02/19/2020'),\n",
       " ('Finland', '02/20/2020'),\n",
       " ('Finland', '02/21/2020'),\n",
       " ('Finland', '02/22/2020'),\n",
       " ('Finland', '02/23/2020'),\n",
       " ('Finland', '02/24/2020'),\n",
       " ('Finland', '02/25/2020'),\n",
       " ('Finland', '02/26/2020'),\n",
       " ('Finland', '02/27/2020'),\n",
       " ('Finland', '02/28/2020'),\n",
       " ('Finland', '02/29/2020'),\n",
       " ('Finland', '03/01/2020'),\n",
       " ('Finland', '03/02/2020'),\n",
       " ('Finland', '03/03/2020'),\n",
       " ('Finland', '03/04/2020'),\n",
       " ('Finland', '03/05/2020'),\n",
       " ('Finland', '03/06/2020'),\n",
       " ('Finland', '03/07/2020'),\n",
       " ('Finland', '03/08/2020'),\n",
       " ('Finland', '03/09/2020'),\n",
       " ('Finland', '03/10/2020'),\n",
       " ('Finland', '03/11/2020'),\n",
       " ('Finland', '03/12/2020'),\n",
       " ('Finland', '03/13/2020'),\n",
       " ('Finland', '03/14/2020'),\n",
       " ('Finland', '03/15/2020'),\n",
       " ('Finland', '03/16/2020'),\n",
       " ('France', '01/24/2020'),\n",
       " ('France', '01/25/2020'),\n",
       " ('France', '01/26/2020'),\n",
       " ('France', '01/27/2020'),\n",
       " ('France', '01/28/2020'),\n",
       " ('France', '01/29/2020'),\n",
       " ('France', '01/30/2020'),\n",
       " ('France', '01/31/2020'),\n",
       " ('France', '02/01/2020'),\n",
       " ('France', '02/02/2020'),\n",
       " ('France', '02/03/2020'),\n",
       " ('France', '02/04/2020'),\n",
       " ('France', '02/05/2020'),\n",
       " ('France', '02/06/2020'),\n",
       " ('France', '02/07/2020'),\n",
       " ('France', '02/08/2020'),\n",
       " ('France', '02/09/2020'),\n",
       " ('France', '02/10/2020'),\n",
       " ('France', '02/11/2020'),\n",
       " ('France', '02/12/2020'),\n",
       " ('France', '02/13/2020'),\n",
       " ('France', '02/14/2020'),\n",
       " ('France', '02/15/2020'),\n",
       " ('France', '02/16/2020'),\n",
       " ('France', '02/17/2020'),\n",
       " ('France', '02/18/2020'),\n",
       " ('France', '02/19/2020'),\n",
       " ('France', '02/20/2020'),\n",
       " ('France', '02/21/2020'),\n",
       " ('France', '02/22/2020'),\n",
       " ('France', '02/23/2020'),\n",
       " ('France', '02/24/2020'),\n",
       " ('France', '02/25/2020'),\n",
       " ('France', '02/26/2020'),\n",
       " ('France', '02/27/2020'),\n",
       " ('France', '02/28/2020'),\n",
       " ('France', '02/29/2020'),\n",
       " ('France', '03/01/2020'),\n",
       " ('France', '03/02/2020'),\n",
       " ('France', '03/03/2020'),\n",
       " ('France', '03/04/2020'),\n",
       " ('France', '03/05/2020'),\n",
       " ('France', '03/06/2020'),\n",
       " ('France', '03/07/2020'),\n",
       " ('France', '03/08/2020'),\n",
       " ('France', '03/09/2020'),\n",
       " ('France', '03/10/2020'),\n",
       " ('France', '03/11/2020'),\n",
       " ('France', '03/12/2020'),\n",
       " ('France', '03/13/2020'),\n",
       " ('France', '03/14/2020'),\n",
       " ('France', '03/15/2020'),\n",
       " ('France', '03/16/2020'),\n",
       " ('French Guiana', '03/07/2020'),\n",
       " ('French Guiana', '03/08/2020'),\n",
       " ('French Guiana', '03/09/2020'),\n",
       " ('French Guiana', '03/10/2020'),\n",
       " ('French Guiana', '03/11/2020'),\n",
       " ('French Guiana', '03/12/2020'),\n",
       " ('French Guiana', '03/13/2020'),\n",
       " ('French Guiana', '03/14/2020'),\n",
       " ('French Guiana', '03/16/2020'),\n",
       " ('Gabon', '03/14/2020'),\n",
       " ('Gabon', '03/15/2020'),\n",
       " ('Gabon', '03/16/2020'),\n",
       " ('Georgia', '02/26/2020'),\n",
       " ('Georgia', '02/27/2020'),\n",
       " ('Georgia', '02/28/2020'),\n",
       " ('Georgia', '02/29/2020'),\n",
       " ('Georgia', '03/01/2020'),\n",
       " ('Georgia', '03/02/2020'),\n",
       " ('Georgia', '03/03/2020'),\n",
       " ('Georgia', '03/04/2020'),\n",
       " ('Georgia', '03/05/2020'),\n",
       " ('Georgia', '03/06/2020'),\n",
       " ('Georgia', '03/07/2020'),\n",
       " ('Georgia', '03/08/2020'),\n",
       " ('Georgia', '03/09/2020'),\n",
       " ('Georgia', '03/10/2020'),\n",
       " ('Georgia', '03/11/2020'),\n",
       " ('Georgia', '03/12/2020'),\n",
       " ('Georgia', '03/13/2020'),\n",
       " ('Georgia', '03/14/2020'),\n",
       " ('Georgia', '03/15/2020'),\n",
       " ('Georgia', '03/16/2020'),\n",
       " ('Germany', '01/28/2020'),\n",
       " ('Germany', '01/29/2020'),\n",
       " ('Germany', '01/30/2020'),\n",
       " ('Germany', '01/31/2020'),\n",
       " ('Germany', '02/01/2020'),\n",
       " ('Germany', '02/02/2020'),\n",
       " ('Germany', '02/03/2020'),\n",
       " ('Germany', '02/04/2020'),\n",
       " ('Germany', '02/05/2020'),\n",
       " ('Germany', '02/06/2020'),\n",
       " ('Germany', '02/07/2020'),\n",
       " ('Germany', '02/08/2020'),\n",
       " ('Germany', '02/09/2020'),\n",
       " ('Germany', '02/10/2020'),\n",
       " ('Germany', '02/11/2020'),\n",
       " ('Germany', '02/12/2020'),\n",
       " ('Germany', '02/13/2020'),\n",
       " ('Germany', '02/14/2020'),\n",
       " ('Germany', '02/15/2020'),\n",
       " ('Germany', '02/16/2020'),\n",
       " ('Germany', '02/17/2020'),\n",
       " ('Germany', '02/18/2020'),\n",
       " ('Germany', '02/19/2020'),\n",
       " ('Germany', '02/20/2020'),\n",
       " ('Germany', '02/21/2020'),\n",
       " ('Germany', '02/22/2020'),\n",
       " ('Germany', '02/23/2020'),\n",
       " ('Germany', '02/24/2020'),\n",
       " ('Germany', '02/25/2020'),\n",
       " ('Germany', '02/26/2020'),\n",
       " ('Germany', '02/27/2020'),\n",
       " ('Germany', '02/28/2020'),\n",
       " ('Germany', '02/29/2020'),\n",
       " ('Germany', '03/01/2020'),\n",
       " ('Germany', '03/02/2020'),\n",
       " ('Germany', '03/03/2020'),\n",
       " ('Germany', '03/04/2020'),\n",
       " ('Germany', '03/05/2020'),\n",
       " ('Germany', '03/06/2020'),\n",
       " ('Germany', '03/07/2020'),\n",
       " ('Germany', '03/08/2020'),\n",
       " ('Germany', '03/09/2020'),\n",
       " ('Germany', '03/10/2020'),\n",
       " ('Germany', '03/11/2020'),\n",
       " ('Germany', '03/12/2020'),\n",
       " ('Germany', '03/13/2020'),\n",
       " ('Germany', '03/14/2020'),\n",
       " ('Germany', '03/15/2020'),\n",
       " ('Germany', '03/16/2020'),\n",
       " ('Ghana', '03/14/2020'),\n",
       " ('Ghana', '03/15/2020'),\n",
       " ('Ghana', '03/16/2020'),\n",
       " ('Gibraltar', '03/04/2020'),\n",
       " ('Gibraltar', '03/05/2020'),\n",
       " ('Gibraltar', '03/06/2020'),\n",
       " ('Gibraltar', '03/07/2020'),\n",
       " ('Gibraltar', '03/08/2020'),\n",
       " ('Gibraltar', '03/09/2020'),\n",
       " ('Gibraltar', '03/10/2020'),\n",
       " ('Greece', '02/26/2020'),\n",
       " ('Greece', '02/27/2020'),\n",
       " ('Greece', '02/28/2020'),\n",
       " ('Greece', '02/29/2020'),\n",
       " ('Greece', '03/01/2020'),\n",
       " ('Greece', '03/02/2020'),\n",
       " ('Greece', '03/03/2020'),\n",
       " ('Greece', '03/04/2020'),\n",
       " ('Greece', '03/05/2020'),\n",
       " ('Greece', '03/06/2020'),\n",
       " ('Greece', '03/07/2020'),\n",
       " ('Greece', '03/08/2020'),\n",
       " ('Greece', '03/09/2020'),\n",
       " ('Greece', '03/10/2020'),\n",
       " ('Greece', '03/11/2020'),\n",
       " ('Greece', '03/12/2020'),\n",
       " ('Greece', '03/13/2020'),\n",
       " ('Greece', '03/14/2020'),\n",
       " ('Greece', '03/15/2020'),\n",
       " ('Greece', '03/16/2020'),\n",
       " ('Greenland', '03/16/2020'),\n",
       " ('Guadeloupe', '03/13/2020'),\n",
       " ('Guadeloupe', '03/14/2020'),\n",
       " ('Guadeloupe', '03/15/2020'),\n",
       " ('Guadeloupe', '03/16/2020'),\n",
       " ('Guam', '03/16/2020'),\n",
       " ('Guatemala', '03/14/2020'),\n",
       " ('Guatemala', '03/15/2020'),\n",
       " ('Guatemala', '03/16/2020'),\n",
       " ('Guernsey', '03/14/2020'),\n",
       " ('Guernsey', '03/15/2020'),\n",
       " ('Guernsey', '03/16/2020'),\n",
       " ('Guinea', '03/13/2020'),\n",
       " ('Guinea', '03/14/2020'),\n",
       " ('Guinea', '03/15/2020'),\n",
       " ('Guinea', '03/16/2020'),\n",
       " ('Guyana', '03/12/2020'),\n",
       " ('Guyana', '03/13/2020'),\n",
       " ('Guyana', '03/14/2020'),\n",
       " ('Guyana', '03/15/2020'),\n",
       " ('Guyana', '03/16/2020'),\n",
       " ('Holy See', '03/10/2020'),\n",
       " ('Holy See', '03/11/2020'),\n",
       " ('Holy See', '03/12/2020'),\n",
       " ('Holy See', '03/13/2020'),\n",
       " ('Holy See', '03/14/2020'),\n",
       " ('Holy See', '03/15/2020'),\n",
       " ('Holy See', '03/16/2020'),\n",
       " ('Honduras', '03/11/2020'),\n",
       " ('Honduras', '03/12/2020'),\n",
       " ('Honduras', '03/13/2020'),\n",
       " ('Honduras', '03/14/2020'),\n",
       " ('Honduras', '03/15/2020'),\n",
       " ('Honduras', '03/16/2020'),\n",
       " ('Hong Kong', '01/22/2020'),\n",
       " ('Hong Kong', '01/23/2020'),\n",
       " ('Hong Kong', '01/24/2020'),\n",
       " ('Hong Kong', '01/25/2020'),\n",
       " ('Hong Kong', '01/26/2020'),\n",
       " ('Hong Kong', '01/27/2020'),\n",
       " ('Hong Kong', '01/28/2020'),\n",
       " ('Hong Kong', '01/29/2020'),\n",
       " ('Hong Kong', '01/30/2020'),\n",
       " ('Hong Kong', '01/31/2020'),\n",
       " ('Hong Kong', '02/01/2020'),\n",
       " ('Hong Kong', '02/02/2020'),\n",
       " ('Hong Kong', '02/03/2020'),\n",
       " ('Hong Kong', '02/04/2020'),\n",
       " ('Hong Kong', '02/05/2020'),\n",
       " ('Hong Kong', '02/06/2020'),\n",
       " ('Hong Kong', '02/07/2020'),\n",
       " ('Hong Kong', '02/08/2020'),\n",
       " ('Hong Kong', '02/09/2020'),\n",
       " ('Hong Kong', '02/10/2020'),\n",
       " ('Hong Kong', '02/11/2020'),\n",
       " ('Hong Kong', '02/12/2020'),\n",
       " ('Hong Kong', '02/13/2020'),\n",
       " ('Hong Kong', '02/14/2020'),\n",
       " ('Hong Kong', '02/15/2020'),\n",
       " ('Hong Kong', '02/16/2020'),\n",
       " ('Hong Kong', '02/17/2020'),\n",
       " ('Hong Kong', '02/18/2020'),\n",
       " ('Hong Kong', '02/19/2020'),\n",
       " ('Hong Kong', '02/20/2020'),\n",
       " ('Hong Kong', '02/21/2020'),\n",
       " ('Hong Kong', '02/22/2020'),\n",
       " ('Hong Kong', '02/23/2020'),\n",
       " ('Hong Kong', '02/24/2020'),\n",
       " ('Hong Kong', '02/25/2020'),\n",
       " ('Hong Kong', '02/26/2020'),\n",
       " ('Hong Kong', '02/27/2020'),\n",
       " ('Hong Kong', '02/28/2020'),\n",
       " ('Hong Kong', '02/29/2020'),\n",
       " ('Hong Kong', '03/01/2020'),\n",
       " ('Hong Kong', '03/02/2020'),\n",
       " ('Hong Kong', '03/03/2020'),\n",
       " ('Hong Kong', '03/04/2020'),\n",
       " ('Hong Kong', '03/05/2020'),\n",
       " ('Hong Kong', '03/06/2020'),\n",
       " ('Hong Kong', '03/07/2020'),\n",
       " ('Hong Kong', '03/08/2020'),\n",
       " ('Hong Kong', '03/09/2020'),\n",
       " ('Hong Kong', '03/10/2020'),\n",
       " ('Hong Kong', '03/11/2020'),\n",
       " ('Hong Kong', '03/12/2020'),\n",
       " ('Hong Kong', '03/13/2020'),\n",
       " ('Hong Kong', '03/14/2020'),\n",
       " ('Hong Kong', '03/15/2020'),\n",
       " ('Hong Kong', '03/16/2020'),\n",
       " ('Hungary', '03/04/2020'),\n",
       " ('Hungary', '03/05/2020'),\n",
       " ('Hungary', '03/06/2020'),\n",
       " ('Hungary', '03/07/2020'),\n",
       " ...]"
      ]
     },
     "execution_count": 14,
     "metadata": {},
     "output_type": "execute_result"
    }
   ],
   "source": [
    "# df_grp.sort_values('')\n",
    "df_grp.index.unique().tolist()"
   ]
  },
  {
   "cell_type": "code",
   "execution_count": 15,
   "metadata": {
    "ExecuteTime": {
     "end_time": "2020-03-29T14:16:41.093584Z",
     "start_time": "2020-03-29T14:16:41.086589Z"
    }
   },
   "outputs": [
    {
     "data": {
      "text/plain": [
       "(' Azerbaijan', '02/28/2020')"
      ]
     },
     "execution_count": 15,
     "metadata": {},
     "output_type": "execute_result"
    }
   ],
   "source": [
    "# Multi indexing\n",
    "df_grp.index[0]"
   ]
  },
  {
   "cell_type": "code",
   "execution_count": 16,
   "metadata": {
    "ExecuteTime": {
     "end_time": "2020-03-29T14:16:41.142555Z",
     "start_time": "2020-03-29T14:16:41.096583Z"
    }
   },
   "outputs": [],
   "source": [
    "#df_covid[['Confirmed']].max()\n",
    "#df_grp['Confirmed'].max()\n",
    "# df_covid.groupby(['Country/Region',]).max()"
   ]
  },
  {
   "cell_type": "markdown",
   "metadata": {
    "ExecuteTime": {
     "end_time": "2020-03-23T13:11:07.266373Z",
     "start_time": "2020-03-23T13:11:07.242387Z"
    }
   },
   "source": [
    "# DataFrame Slicing"
   ]
  },
  {
   "cell_type": "markdown",
   "metadata": {},
   "source": [
    "## Commulative DF"
   ]
  },
  {
   "cell_type": "markdown",
   "metadata": {},
   "source": [
    "### China "
   ]
  },
  {
   "cell_type": "code",
   "execution_count": 17,
   "metadata": {
    "ExecuteTime": {
     "end_time": "2020-03-29T14:16:41.197520Z",
     "start_time": "2020-03-29T14:16:41.145554Z"
    }
   },
   "outputs": [
    {
     "data": {
      "text/html": [
       "<div>\n",
       "<style scoped>\n",
       "    .dataframe tbody tr th:only-of-type {\n",
       "        vertical-align: middle;\n",
       "    }\n",
       "\n",
       "    .dataframe tbody tr th {\n",
       "        vertical-align: top;\n",
       "    }\n",
       "\n",
       "    .dataframe thead th {\n",
       "        text-align: right;\n",
       "    }\n",
       "</style>\n",
       "<table border=\"1\" class=\"dataframe\">\n",
       "  <thead>\n",
       "    <tr style=\"text-align: right;\">\n",
       "      <th></th>\n",
       "      <th>Confirmed</th>\n",
       "      <th>Deaths</th>\n",
       "      <th>Recovered</th>\n",
       "    </tr>\n",
       "    <tr>\n",
       "      <th>ObservationDate</th>\n",
       "      <th></th>\n",
       "      <th></th>\n",
       "      <th></th>\n",
       "    </tr>\n",
       "  </thead>\n",
       "  <tbody>\n",
       "    <tr>\n",
       "      <th>01/22/2020</th>\n",
       "      <td>547.0</td>\n",
       "      <td>17.0</td>\n",
       "      <td>28.0</td>\n",
       "    </tr>\n",
       "    <tr>\n",
       "      <th>01/23/2020</th>\n",
       "      <td>639.0</td>\n",
       "      <td>18.0</td>\n",
       "      <td>30.0</td>\n",
       "    </tr>\n",
       "    <tr>\n",
       "      <th>01/24/2020</th>\n",
       "      <td>916.0</td>\n",
       "      <td>26.0</td>\n",
       "      <td>36.0</td>\n",
       "    </tr>\n",
       "    <tr>\n",
       "      <th>01/25/2020</th>\n",
       "      <td>1399.0</td>\n",
       "      <td>42.0</td>\n",
       "      <td>39.0</td>\n",
       "    </tr>\n",
       "    <tr>\n",
       "      <th>01/26/2020</th>\n",
       "      <td>2062.0</td>\n",
       "      <td>56.0</td>\n",
       "      <td>49.0</td>\n",
       "    </tr>\n",
       "  </tbody>\n",
       "</table>\n",
       "</div>"
      ],
      "text/plain": [
       "                 Confirmed  Deaths  Recovered\n",
       "ObservationDate                              \n",
       "01/22/2020           547.0    17.0       28.0\n",
       "01/23/2020           639.0    18.0       30.0\n",
       "01/24/2020           916.0    26.0       36.0\n",
       "01/25/2020          1399.0    42.0       39.0\n",
       "01/26/2020          2062.0    56.0       49.0"
      ]
     },
     "execution_count": 17,
     "metadata": {},
     "output_type": "execute_result"
    }
   ],
   "source": [
    "df_china = df_grp.loc['Mainland China',:]\n",
    "df_china.head()"
   ]
  },
  {
   "cell_type": "code",
   "execution_count": 18,
   "metadata": {
    "ExecuteTime": {
     "end_time": "2020-03-29T14:16:41.242494Z",
     "start_time": "2020-03-29T14:16:41.200518Z"
    }
   },
   "outputs": [
    {
     "data": {
      "text/plain": [
       "Confirmed    2958465.0\n",
       "Deaths         96559.0\n",
       "Recovered    1288455.0\n",
       "dtype: float64"
      ]
     },
     "execution_count": 18,
     "metadata": {},
     "output_type": "execute_result"
    }
   ],
   "source": [
    "df_grp.loc['Mainland China',:].sum()"
   ]
  },
  {
   "cell_type": "markdown",
   "metadata": {},
   "source": [
    "### Italy"
   ]
  },
  {
   "cell_type": "code",
   "execution_count": 19,
   "metadata": {
    "ExecuteTime": {
     "end_time": "2020-03-29T14:16:41.303455Z",
     "start_time": "2020-03-29T14:16:41.245492Z"
    }
   },
   "outputs": [
    {
     "data": {
      "text/html": [
       "<div>\n",
       "<style scoped>\n",
       "    .dataframe tbody tr th:only-of-type {\n",
       "        vertical-align: middle;\n",
       "    }\n",
       "\n",
       "    .dataframe tbody tr th {\n",
       "        vertical-align: top;\n",
       "    }\n",
       "\n",
       "    .dataframe thead th {\n",
       "        text-align: right;\n",
       "    }\n",
       "</style>\n",
       "<table border=\"1\" class=\"dataframe\">\n",
       "  <thead>\n",
       "    <tr style=\"text-align: right;\">\n",
       "      <th></th>\n",
       "      <th>Confirmed</th>\n",
       "      <th>Deaths</th>\n",
       "      <th>Recovered</th>\n",
       "    </tr>\n",
       "    <tr>\n",
       "      <th>ObservationDate</th>\n",
       "      <th></th>\n",
       "      <th></th>\n",
       "      <th></th>\n",
       "    </tr>\n",
       "  </thead>\n",
       "  <tbody>\n",
       "    <tr>\n",
       "      <th>01/31/2020</th>\n",
       "      <td>2.0</td>\n",
       "      <td>0.0</td>\n",
       "      <td>0.0</td>\n",
       "    </tr>\n",
       "    <tr>\n",
       "      <th>02/01/2020</th>\n",
       "      <td>2.0</td>\n",
       "      <td>0.0</td>\n",
       "      <td>0.0</td>\n",
       "    </tr>\n",
       "    <tr>\n",
       "      <th>02/02/2020</th>\n",
       "      <td>2.0</td>\n",
       "      <td>0.0</td>\n",
       "      <td>0.0</td>\n",
       "    </tr>\n",
       "    <tr>\n",
       "      <th>02/03/2020</th>\n",
       "      <td>2.0</td>\n",
       "      <td>0.0</td>\n",
       "      <td>0.0</td>\n",
       "    </tr>\n",
       "    <tr>\n",
       "      <th>02/04/2020</th>\n",
       "      <td>2.0</td>\n",
       "      <td>0.0</td>\n",
       "      <td>0.0</td>\n",
       "    </tr>\n",
       "  </tbody>\n",
       "</table>\n",
       "</div>"
      ],
      "text/plain": [
       "                 Confirmed  Deaths  Recovered\n",
       "ObservationDate                              \n",
       "01/31/2020             2.0     0.0        0.0\n",
       "02/01/2020             2.0     0.0        0.0\n",
       "02/02/2020             2.0     0.0        0.0\n",
       "02/03/2020             2.0     0.0        0.0\n",
       "02/04/2020             2.0     0.0        0.0"
      ]
     },
     "execution_count": 19,
     "metadata": {},
     "output_type": "execute_result"
    }
   ],
   "source": [
    "df_italy= df_grp.loc['Italy',:]\n",
    "df_italy.head()"
   ]
  },
  {
   "cell_type": "code",
   "execution_count": 20,
   "metadata": {
    "ExecuteTime": {
     "end_time": "2020-03-29T14:16:41.438372Z",
     "start_time": "2020-03-29T14:16:41.307453Z"
    }
   },
   "outputs": [
    {
     "name": "stdout",
     "output_type": "stream",
     "text": [
      "Confirmed    170830.0\n",
      "Deaths        10740.0\n",
      "Recovered     14988.0\n",
      "dtype: float64\n"
     ]
    }
   ],
   "source": [
    "print(df_grp.loc['Italy',:].sum() )"
   ]
  },
  {
   "cell_type": "markdown",
   "metadata": {},
   "source": [
    "### Iran"
   ]
  },
  {
   "cell_type": "code",
   "execution_count": 21,
   "metadata": {
    "ExecuteTime": {
     "end_time": "2020-03-29T14:16:41.490614Z",
     "start_time": "2020-03-29T14:16:41.441371Z"
    }
   },
   "outputs": [
    {
     "data": {
      "text/html": [
       "<div>\n",
       "<style scoped>\n",
       "    .dataframe tbody tr th:only-of-type {\n",
       "        vertical-align: middle;\n",
       "    }\n",
       "\n",
       "    .dataframe tbody tr th {\n",
       "        vertical-align: top;\n",
       "    }\n",
       "\n",
       "    .dataframe thead th {\n",
       "        text-align: right;\n",
       "    }\n",
       "</style>\n",
       "<table border=\"1\" class=\"dataframe\">\n",
       "  <thead>\n",
       "    <tr style=\"text-align: right;\">\n",
       "      <th></th>\n",
       "      <th>Confirmed</th>\n",
       "      <th>Deaths</th>\n",
       "      <th>Recovered</th>\n",
       "    </tr>\n",
       "    <tr>\n",
       "      <th>ObservationDate</th>\n",
       "      <th></th>\n",
       "      <th></th>\n",
       "      <th></th>\n",
       "    </tr>\n",
       "  </thead>\n",
       "  <tbody>\n",
       "    <tr>\n",
       "      <th>02/19/2020</th>\n",
       "      <td>2.0</td>\n",
       "      <td>2.0</td>\n",
       "      <td>0.0</td>\n",
       "    </tr>\n",
       "    <tr>\n",
       "      <th>02/20/2020</th>\n",
       "      <td>5.0</td>\n",
       "      <td>2.0</td>\n",
       "      <td>0.0</td>\n",
       "    </tr>\n",
       "    <tr>\n",
       "      <th>02/21/2020</th>\n",
       "      <td>18.0</td>\n",
       "      <td>4.0</td>\n",
       "      <td>0.0</td>\n",
       "    </tr>\n",
       "    <tr>\n",
       "      <th>02/22/2020</th>\n",
       "      <td>28.0</td>\n",
       "      <td>5.0</td>\n",
       "      <td>0.0</td>\n",
       "    </tr>\n",
       "    <tr>\n",
       "      <th>02/23/2020</th>\n",
       "      <td>43.0</td>\n",
       "      <td>8.0</td>\n",
       "      <td>0.0</td>\n",
       "    </tr>\n",
       "  </tbody>\n",
       "</table>\n",
       "</div>"
      ],
      "text/plain": [
       "                 Confirmed  Deaths  Recovered\n",
       "ObservationDate                              \n",
       "02/19/2020             2.0     2.0        0.0\n",
       "02/20/2020             5.0     2.0        0.0\n",
       "02/21/2020            18.0     4.0        0.0\n",
       "02/22/2020            28.0     5.0        0.0\n",
       "02/23/2020            43.0     8.0        0.0"
      ]
     },
     "execution_count": 21,
     "metadata": {},
     "output_type": "execute_result"
    }
   ],
   "source": [
    "df_iran= df_grp.loc['Iran',:]\n",
    "df_iran.head()"
   ]
  },
  {
   "cell_type": "code",
   "execution_count": 22,
   "metadata": {
    "ExecuteTime": {
     "end_time": "2020-03-29T14:16:41.538586Z",
     "start_time": "2020-03-29T14:16:41.494611Z"
    }
   },
   "outputs": [
    {
     "data": {
      "text/plain": [
       "Confirmed    117303.0\n",
       "Deaths         5043.0\n",
       "Recovered     33199.0\n",
       "dtype: float64"
      ]
     },
     "execution_count": 22,
     "metadata": {},
     "output_type": "execute_result"
    }
   ],
   "source": [
    " df_grp.loc['Iran',:].sum()"
   ]
  },
  {
   "cell_type": "markdown",
   "metadata": {},
   "source": [
    "### Spain"
   ]
  },
  {
   "cell_type": "code",
   "execution_count": 23,
   "metadata": {
    "ExecuteTime": {
     "end_time": "2020-03-29T14:16:41.604543Z",
     "start_time": "2020-03-29T14:16:41.541581Z"
    }
   },
   "outputs": [
    {
     "data": {
      "text/html": [
       "<div>\n",
       "<style scoped>\n",
       "    .dataframe tbody tr th:only-of-type {\n",
       "        vertical-align: middle;\n",
       "    }\n",
       "\n",
       "    .dataframe tbody tr th {\n",
       "        vertical-align: top;\n",
       "    }\n",
       "\n",
       "    .dataframe thead th {\n",
       "        text-align: right;\n",
       "    }\n",
       "</style>\n",
       "<table border=\"1\" class=\"dataframe\">\n",
       "  <thead>\n",
       "    <tr style=\"text-align: right;\">\n",
       "      <th></th>\n",
       "      <th>Confirmed</th>\n",
       "      <th>Deaths</th>\n",
       "      <th>Recovered</th>\n",
       "    </tr>\n",
       "    <tr>\n",
       "      <th>ObservationDate</th>\n",
       "      <th></th>\n",
       "      <th></th>\n",
       "      <th></th>\n",
       "    </tr>\n",
       "  </thead>\n",
       "  <tbody>\n",
       "    <tr>\n",
       "      <th>02/01/2020</th>\n",
       "      <td>1.0</td>\n",
       "      <td>0.0</td>\n",
       "      <td>0.0</td>\n",
       "    </tr>\n",
       "    <tr>\n",
       "      <th>02/02/2020</th>\n",
       "      <td>1.0</td>\n",
       "      <td>0.0</td>\n",
       "      <td>0.0</td>\n",
       "    </tr>\n",
       "    <tr>\n",
       "      <th>02/03/2020</th>\n",
       "      <td>1.0</td>\n",
       "      <td>0.0</td>\n",
       "      <td>0.0</td>\n",
       "    </tr>\n",
       "    <tr>\n",
       "      <th>02/04/2020</th>\n",
       "      <td>1.0</td>\n",
       "      <td>0.0</td>\n",
       "      <td>0.0</td>\n",
       "    </tr>\n",
       "    <tr>\n",
       "      <th>02/05/2020</th>\n",
       "      <td>1.0</td>\n",
       "      <td>0.0</td>\n",
       "      <td>0.0</td>\n",
       "    </tr>\n",
       "  </tbody>\n",
       "</table>\n",
       "</div>"
      ],
      "text/plain": [
       "                 Confirmed  Deaths  Recovered\n",
       "ObservationDate                              \n",
       "02/01/2020             1.0     0.0        0.0\n",
       "02/02/2020             1.0     0.0        0.0\n",
       "02/03/2020             1.0     0.0        0.0\n",
       "02/04/2020             1.0     0.0        0.0\n",
       "02/05/2020             1.0     0.0        0.0"
      ]
     },
     "execution_count": 23,
     "metadata": {},
     "output_type": "execute_result"
    }
   ],
   "source": [
    "df_spain= df_grp.loc['Spain',:]\n",
    "df_spain.head()"
   ]
  },
  {
   "cell_type": "code",
   "execution_count": 24,
   "metadata": {
    "ExecuteTime": {
     "end_time": "2020-03-29T14:16:41.655513Z",
     "start_time": "2020-03-29T14:16:41.612540Z"
    }
   },
   "outputs": [
    {
     "data": {
      "text/plain": [
       "Confirmed    39259.0\n",
       "Deaths        1169.0\n",
       "Recovered     2289.0\n",
       "dtype: float64"
      ]
     },
     "execution_count": 24,
     "metadata": {},
     "output_type": "execute_result"
    }
   ],
   "source": [
    "df_grp.loc['Spain',:].sum()"
   ]
  },
  {
   "cell_type": "markdown",
   "metadata": {},
   "source": [
    "# Line Plot"
   ]
  },
  {
   "cell_type": "code",
   "execution_count": 25,
   "metadata": {
    "ExecuteTime": {
     "end_time": "2020-03-29T14:16:42.038275Z",
     "start_time": "2020-03-29T14:16:41.661507Z"
    }
   },
   "outputs": [
    {
     "data": {
      "image/png": "[encoded data removed]",
      "text/plain": [
       "<Figure size 576x576 with 1 Axes>"
      ]
     },
     "metadata": {
      "needs_background": "light"
     },
     "output_type": "display_data"
    }
   ],
   "source": [
    "df_china.plot(kind='line', figsize=(8,8))\n",
    "\n",
    "plt.title('COVID19 CASES IN CHINA')\n",
    "plt.ylabel('Numbers of People')\n",
    "plt.xlabel('Observation Date')\n",
    "\n",
    "plt.show() # need this line to show the updates made to the figure"
   ]
  },
  {
   "cell_type": "markdown",
   "metadata": {},
   "source": [
    "## DataFrame Per/Day Diff"
   ]
  },
  {
   "cell_type": "code",
   "execution_count": 26,
   "metadata": {
    "ExecuteTime": {
     "end_time": "2020-03-29T14:16:42.059261Z",
     "start_time": "2020-03-29T14:16:42.041273Z"
    }
   },
   "outputs": [
    {
     "data": {
      "text/html": [
       "<div>\n",
       "<style scoped>\n",
       "    .dataframe tbody tr th:only-of-type {\n",
       "        vertical-align: middle;\n",
       "    }\n",
       "\n",
       "    .dataframe tbody tr th {\n",
       "        vertical-align: top;\n",
       "    }\n",
       "\n",
       "    .dataframe thead th {\n",
       "        text-align: right;\n",
       "    }\n",
       "</style>\n",
       "<table border=\"1\" class=\"dataframe\">\n",
       "  <thead>\n",
       "    <tr style=\"text-align: right;\">\n",
       "      <th></th>\n",
       "      <th>Confirmed</th>\n",
       "      <th>Deaths</th>\n",
       "      <th>Recovered</th>\n",
       "    </tr>\n",
       "    <tr>\n",
       "      <th>ObservationDate</th>\n",
       "      <th></th>\n",
       "      <th></th>\n",
       "      <th></th>\n",
       "    </tr>\n",
       "  </thead>\n",
       "  <tbody>\n",
       "    <tr>\n",
       "      <th>01/22/2020</th>\n",
       "      <td>NaN</td>\n",
       "      <td>NaN</td>\n",
       "      <td>NaN</td>\n",
       "    </tr>\n",
       "    <tr>\n",
       "      <th>01/23/2020</th>\n",
       "      <td>92.0</td>\n",
       "      <td>1.0</td>\n",
       "      <td>2.0</td>\n",
       "    </tr>\n",
       "    <tr>\n",
       "      <th>01/24/2020</th>\n",
       "      <td>277.0</td>\n",
       "      <td>8.0</td>\n",
       "      <td>6.0</td>\n",
       "    </tr>\n",
       "    <tr>\n",
       "      <th>01/25/2020</th>\n",
       "      <td>483.0</td>\n",
       "      <td>16.0</td>\n",
       "      <td>3.0</td>\n",
       "    </tr>\n",
       "    <tr>\n",
       "      <th>01/26/2020</th>\n",
       "      <td>663.0</td>\n",
       "      <td>14.0</td>\n",
       "      <td>10.0</td>\n",
       "    </tr>\n",
       "  </tbody>\n",
       "</table>\n",
       "</div>"
      ],
      "text/plain": [
       "                 Confirmed  Deaths  Recovered\n",
       "ObservationDate                              \n",
       "01/22/2020             NaN     NaN        NaN\n",
       "01/23/2020            92.0     1.0        2.0\n",
       "01/24/2020           277.0     8.0        6.0\n",
       "01/25/2020           483.0    16.0        3.0\n",
       "01/26/2020           663.0    14.0       10.0"
      ]
     },
     "execution_count": 26,
     "metadata": {},
     "output_type": "execute_result"
    }
   ],
   "source": [
    "diff_china = df_china.diff()\n",
    "diff_china.head()"
   ]
  },
  {
   "cell_type": "code",
   "execution_count": 27,
   "metadata": {
    "ExecuteTime": {
     "end_time": "2020-03-29T14:16:42.113232Z",
     "start_time": "2020-03-29T14:16:42.062259Z"
    }
   },
   "outputs": [
    {
     "data": {
      "text/html": [
       "<div>\n",
       "<style scoped>\n",
       "    .dataframe tbody tr th:only-of-type {\n",
       "        vertical-align: middle;\n",
       "    }\n",
       "\n",
       "    .dataframe tbody tr th {\n",
       "        vertical-align: top;\n",
       "    }\n",
       "\n",
       "    .dataframe thead th {\n",
       "        text-align: right;\n",
       "    }\n",
       "</style>\n",
       "<table border=\"1\" class=\"dataframe\">\n",
       "  <thead>\n",
       "    <tr style=\"text-align: right;\">\n",
       "      <th></th>\n",
       "      <th>Confirmed</th>\n",
       "      <th>Deaths</th>\n",
       "      <th>Recovered</th>\n",
       "    </tr>\n",
       "    <tr>\n",
       "      <th>ObservationDate</th>\n",
       "      <th></th>\n",
       "      <th></th>\n",
       "      <th></th>\n",
       "    </tr>\n",
       "  </thead>\n",
       "  <tbody>\n",
       "    <tr>\n",
       "      <th>01/31/2020</th>\n",
       "      <td>NaN</td>\n",
       "      <td>NaN</td>\n",
       "      <td>NaN</td>\n",
       "    </tr>\n",
       "    <tr>\n",
       "      <th>02/01/2020</th>\n",
       "      <td>0.0</td>\n",
       "      <td>0.0</td>\n",
       "      <td>0.0</td>\n",
       "    </tr>\n",
       "    <tr>\n",
       "      <th>02/02/2020</th>\n",
       "      <td>0.0</td>\n",
       "      <td>0.0</td>\n",
       "      <td>0.0</td>\n",
       "    </tr>\n",
       "    <tr>\n",
       "      <th>02/03/2020</th>\n",
       "      <td>0.0</td>\n",
       "      <td>0.0</td>\n",
       "      <td>0.0</td>\n",
       "    </tr>\n",
       "    <tr>\n",
       "      <th>02/04/2020</th>\n",
       "      <td>0.0</td>\n",
       "      <td>0.0</td>\n",
       "      <td>0.0</td>\n",
       "    </tr>\n",
       "  </tbody>\n",
       "</table>\n",
       "</div>"
      ],
      "text/plain": [
       "                 Confirmed  Deaths  Recovered\n",
       "ObservationDate                              \n",
       "01/31/2020             NaN     NaN        NaN\n",
       "02/01/2020             0.0     0.0        0.0\n",
       "02/02/2020             0.0     0.0        0.0\n",
       "02/03/2020             0.0     0.0        0.0\n",
       "02/04/2020             0.0     0.0        0.0"
      ]
     },
     "execution_count": 27,
     "metadata": {},
     "output_type": "execute_result"
    }
   ],
   "source": [
    "diff_italy = df_italy.diff()\n",
    "diff_italy.head()"
   ]
  },
  {
   "cell_type": "code",
   "execution_count": 28,
   "metadata": {
    "ExecuteTime": {
     "end_time": "2020-03-29T14:16:42.173193Z",
     "start_time": "2020-03-29T14:16:42.116227Z"
    }
   },
   "outputs": [
    {
     "data": {
      "text/html": [
       "<div>\n",
       "<style scoped>\n",
       "    .dataframe tbody tr th:only-of-type {\n",
       "        vertical-align: middle;\n",
       "    }\n",
       "\n",
       "    .dataframe tbody tr th {\n",
       "        vertical-align: top;\n",
       "    }\n",
       "\n",
       "    .dataframe thead th {\n",
       "        text-align: right;\n",
       "    }\n",
       "</style>\n",
       "<table border=\"1\" class=\"dataframe\">\n",
       "  <thead>\n",
       "    <tr style=\"text-align: right;\">\n",
       "      <th></th>\n",
       "      <th>Confirmed</th>\n",
       "      <th>Deaths</th>\n",
       "      <th>Recovered</th>\n",
       "    </tr>\n",
       "    <tr>\n",
       "      <th>ObservationDate</th>\n",
       "      <th></th>\n",
       "      <th></th>\n",
       "      <th></th>\n",
       "    </tr>\n",
       "  </thead>\n",
       "  <tbody>\n",
       "    <tr>\n",
       "      <th>02/19/2020</th>\n",
       "      <td>NaN</td>\n",
       "      <td>NaN</td>\n",
       "      <td>NaN</td>\n",
       "    </tr>\n",
       "    <tr>\n",
       "      <th>02/20/2020</th>\n",
       "      <td>3.0</td>\n",
       "      <td>0.0</td>\n",
       "      <td>0.0</td>\n",
       "    </tr>\n",
       "    <tr>\n",
       "      <th>02/21/2020</th>\n",
       "      <td>13.0</td>\n",
       "      <td>2.0</td>\n",
       "      <td>0.0</td>\n",
       "    </tr>\n",
       "    <tr>\n",
       "      <th>02/22/2020</th>\n",
       "      <td>10.0</td>\n",
       "      <td>1.0</td>\n",
       "      <td>0.0</td>\n",
       "    </tr>\n",
       "    <tr>\n",
       "      <th>02/23/2020</th>\n",
       "      <td>15.0</td>\n",
       "      <td>3.0</td>\n",
       "      <td>0.0</td>\n",
       "    </tr>\n",
       "  </tbody>\n",
       "</table>\n",
       "</div>"
      ],
      "text/plain": [
       "                 Confirmed  Deaths  Recovered\n",
       "ObservationDate                              \n",
       "02/19/2020             NaN     NaN        NaN\n",
       "02/20/2020             3.0     0.0        0.0\n",
       "02/21/2020            13.0     2.0        0.0\n",
       "02/22/2020            10.0     1.0        0.0\n",
       "02/23/2020            15.0     3.0        0.0"
      ]
     },
     "execution_count": 28,
     "metadata": {},
     "output_type": "execute_result"
    }
   ],
   "source": [
    "diff_iran = df_iran.diff()\n",
    "diff_iran.head()"
   ]
  },
  {
   "cell_type": "code",
   "execution_count": 29,
   "metadata": {
    "ExecuteTime": {
     "end_time": "2020-03-29T14:16:42.232155Z",
     "start_time": "2020-03-29T14:16:42.176190Z"
    }
   },
   "outputs": [
    {
     "data": {
      "text/html": [
       "<div>\n",
       "<style scoped>\n",
       "    .dataframe tbody tr th:only-of-type {\n",
       "        vertical-align: middle;\n",
       "    }\n",
       "\n",
       "    .dataframe tbody tr th {\n",
       "        vertical-align: top;\n",
       "    }\n",
       "\n",
       "    .dataframe thead th {\n",
       "        text-align: right;\n",
       "    }\n",
       "</style>\n",
       "<table border=\"1\" class=\"dataframe\">\n",
       "  <thead>\n",
       "    <tr style=\"text-align: right;\">\n",
       "      <th></th>\n",
       "      <th>Confirmed</th>\n",
       "      <th>Deaths</th>\n",
       "      <th>Recovered</th>\n",
       "    </tr>\n",
       "    <tr>\n",
       "      <th>ObservationDate</th>\n",
       "      <th></th>\n",
       "      <th></th>\n",
       "      <th></th>\n",
       "    </tr>\n",
       "  </thead>\n",
       "  <tbody>\n",
       "    <tr>\n",
       "      <th>02/01/2020</th>\n",
       "      <td>NaN</td>\n",
       "      <td>NaN</td>\n",
       "      <td>NaN</td>\n",
       "    </tr>\n",
       "    <tr>\n",
       "      <th>02/02/2020</th>\n",
       "      <td>0.0</td>\n",
       "      <td>0.0</td>\n",
       "      <td>0.0</td>\n",
       "    </tr>\n",
       "    <tr>\n",
       "      <th>02/03/2020</th>\n",
       "      <td>0.0</td>\n",
       "      <td>0.0</td>\n",
       "      <td>0.0</td>\n",
       "    </tr>\n",
       "    <tr>\n",
       "      <th>02/04/2020</th>\n",
       "      <td>0.0</td>\n",
       "      <td>0.0</td>\n",
       "      <td>0.0</td>\n",
       "    </tr>\n",
       "    <tr>\n",
       "      <th>02/05/2020</th>\n",
       "      <td>0.0</td>\n",
       "      <td>0.0</td>\n",
       "      <td>0.0</td>\n",
       "    </tr>\n",
       "  </tbody>\n",
       "</table>\n",
       "</div>"
      ],
      "text/plain": [
       "                 Confirmed  Deaths  Recovered\n",
       "ObservationDate                              \n",
       "02/01/2020             NaN     NaN        NaN\n",
       "02/02/2020             0.0     0.0        0.0\n",
       "02/03/2020             0.0     0.0        0.0\n",
       "02/04/2020             0.0     0.0        0.0\n",
       "02/05/2020             0.0     0.0        0.0"
      ]
     },
     "execution_count": 29,
     "metadata": {},
     "output_type": "execute_result"
    }
   ],
   "source": [
    "diff_spain = df_spain.diff()\n",
    "diff_spain.head()"
   ]
  },
  {
   "cell_type": "markdown",
   "metadata": {},
   "source": [
    "### Total Analysis"
   ]
  },
  {
   "cell_type": "code",
   "execution_count": 30,
   "metadata": {
    "ExecuteTime": {
     "end_time": "2020-03-29T14:16:42.290120Z",
     "start_time": "2020-03-29T14:16:42.235153Z"
    }
   },
   "outputs": [
    {
     "name": "stdout",
     "output_type": "stream",
     "text": [
      "china total\n",
      "Confirmed    80320.0\n",
      "Deaths        3196.0\n",
      "Recovered    67788.0\n",
      "dtype: float64\n",
      "\n",
      "Italy Total\n",
      "Confirmed    27978.0\n",
      "Deaths        2158.0\n",
      "Recovered     2749.0\n",
      "dtype: float64\n",
      "\n",
      "Spain Total\n",
      "Confirmed    9941.0\n",
      "Deaths        342.0\n",
      "Recovered     530.0\n",
      "dtype: float64\n",
      "\n",
      "Total\n",
      "Confirmed    14989.0\n",
      "Deaths         851.0\n",
      "Recovered     4590.0\n",
      "dtype: float64\n"
     ]
    }
   ],
   "source": [
    "print(\"china total\")\n",
    "print(diff_china.sum())\n",
    "print()\n",
    "print(\"Italy Total\")\n",
    "print(diff_italy.sum())\n",
    "print()\n",
    "print(\"Spain Total\")\n",
    "print(diff_spain.sum())\n",
    "print()\n",
    "print(\"Total\")\n",
    "print(diff_iran.sum())"
   ]
  },
  {
   "cell_type": "markdown",
   "metadata": {},
   "source": [
    "## Scripting Layer lineplot"
   ]
  },
  {
   "cell_type": "code",
   "execution_count": 31,
   "metadata": {
    "ExecuteTime": {
     "end_time": "2020-03-29T14:16:42.597928Z",
     "start_time": "2020-03-29T14:16:42.293117Z"
    }
   },
   "outputs": [
    {
     "data": {
      "image/png": "[encoded data removed]",
      "text/plain": [
       "<Figure size 576x432 with 1 Axes>"
      ]
     },
     "metadata": {
      "needs_background": "light"
     },
     "output_type": "display_data"
    }
   ],
   "source": [
    "diff_china.plot(kind='line',figsize=(8,6))\n",
    "plt.title('COVID19 CASES IN CHINA')\n",
    "plt.ylabel('Numbers of People')\n",
    "plt.xlabel('Observation Date')\n",
    "\n",
    "plt.show() # need this line to show the updates made to the figure"
   ]
  },
  {
   "cell_type": "markdown",
   "metadata": {},
   "source": [
    "## Artist layer  lineplot"
   ]
  },
  {
   "cell_type": "markdown",
   "metadata": {},
   "source": [
    "### Line Plots of Four Countries"
   ]
  },
  {
   "cell_type": "code",
   "execution_count": 32,
   "metadata": {
    "ExecuteTime": {
     "end_time": "2020-03-29T14:16:42.876757Z",
     "start_time": "2020-03-29T14:16:42.600928Z"
    }
   },
   "outputs": [
    {
     "data": {
      "text/plain": [
       "Text(0.5, 0, 'Observation Date')"
      ]
     },
     "execution_count": 32,
     "metadata": {},
     "output_type": "execute_result"
    },
    {
     "data": {
      "image/png": "[encoded data removed]",
      "text/plain": [
       "<Figure size 720x576 with 1 Axes>"
      ]
     },
     "metadata": {
      "needs_background": "light"
     },
     "output_type": "display_data"
    }
   ],
   "source": [
    "# option 2: preferred option with more flexibility\n",
    "ax = diff_china.plot(kind='line', figsize=(10, 8))\n",
    "\n",
    "ax.set_title('COVID19 CASES IN CHINA')\n",
    "ax.set_ylabel('Numbers of People')\n",
    "ax.set_xlabel('Observation Date')"
   ]
  },
  {
   "cell_type": "code",
   "execution_count": 33,
   "metadata": {
    "ExecuteTime": {
     "end_time": "2020-03-29T14:16:43.194563Z",
     "start_time": "2020-03-29T14:16:42.879757Z"
    }
   },
   "outputs": [
    {
     "data": {
      "text/plain": [
       "Text(0.5, 0, 'Observation Date')"
      ]
     },
     "execution_count": 33,
     "metadata": {},
     "output_type": "execute_result"
    },
    {
     "data": {
      "image/png": "[encoded data removed]",
      "text/plain": [
       "<Figure size 720x576 with 1 Axes>"
      ]
     },
     "metadata": {
      "needs_background": "light"
     },
     "output_type": "display_data"
    }
   ],
   "source": [
    "# option 2: preferred option with more flexibility\n",
    "ax = diff_iran.plot(kind='line', figsize=(10, 8))\n",
    "\n",
    "ax.set_title('COVID19 CASES IN Iran')\n",
    "ax.set_ylabel('Numbers of People')\n",
    "ax.set_xlabel('Observation Date')"
   ]
  },
  {
   "cell_type": "code",
   "execution_count": 34,
   "metadata": {
    "ExecuteTime": {
     "end_time": "2020-03-29T14:16:43.440409Z",
     "start_time": "2020-03-29T14:16:43.197558Z"
    }
   },
   "outputs": [
    {
     "data": {
      "text/plain": [
       "Text(0.5, 0, 'Observation Date')"
      ]
     },
     "execution_count": 34,
     "metadata": {},
     "output_type": "execute_result"
    },
    {
     "data": {
      "image/png": "[encoded data removed]",
      "text/plain": [
       "<Figure size 720x576 with 1 Axes>"
      ]
     },
     "metadata": {
      "needs_background": "light"
     },
     "output_type": "display_data"
    }
   ],
   "source": [
    "# option 2: preferred option with more flexibility\n",
    "ax = diff_italy.plot(kind='line', figsize=(10,8))\n",
    "\n",
    "ax.set_title('COVID19 CASES IN Itlay')\n",
    "ax.set_ylabel('Numbers of People')\n",
    "ax.set_xlabel('Observation Date')"
   ]
  },
  {
   "cell_type": "code",
   "execution_count": 35,
   "metadata": {
    "ExecuteTime": {
     "end_time": "2020-03-29T14:16:43.690255Z",
     "start_time": "2020-03-29T14:16:43.443409Z"
    }
   },
   "outputs": [
    {
     "data": {
      "text/plain": [
       "Text(0.5, 0, 'Observation Date')"
      ]
     },
     "execution_count": 35,
     "metadata": {},
     "output_type": "execute_result"
    },
    {
     "data": {
      "image/png": "[encoded data removed]",
      "text/plain": [
       "<Figure size 720x576 with 1 Axes>"
      ]
     },
     "metadata": {
      "needs_background": "light"
     },
     "output_type": "display_data"
    }
   ],
   "source": [
    "# option 2: preferred option with more flexibility\n",
    "ax = diff_spain.plot(kind='line', figsize=(10,8))\n",
    "\n",
    "ax.set_title('COVID19 CASES IN spain')\n",
    "ax.set_ylabel('Numbers of People')\n",
    "ax.set_xlabel('Observation Date')"
   ]
  },
  {
   "cell_type": "markdown",
   "metadata": {},
   "source": [
    "# SubPlots"
   ]
  },
  {
   "cell_type": "code",
   "execution_count": 36,
   "metadata": {
    "ExecuteTime": {
     "end_time": "2020-03-29T14:16:44.579266Z",
     "start_time": "2020-03-29T14:16:43.693254Z"
    }
   },
   "outputs": [
    {
     "data": {
      "text/plain": [
       "Text(0.5, 0, 'Observation Date')"
      ]
     },
     "execution_count": 36,
     "metadata": {},
     "output_type": "execute_result"
    },
    {
     "data": {
      "image/png": "[encoded data removed]",
      "text/plain": [
       "<Figure size 1080x720 with 4 Axes>"
      ]
     },
     "metadata": {
      "needs_background": "light"
     },
     "output_type": "display_data"
    }
   ],
   "source": [
    "fig = plt.figure() # create figure\n",
    "# ax = create subplots\n",
    "ax0 = fig.add_subplot(2, 2, 1) # add subplot 1 (2 row, 2 columns, first plot)\n",
    "ax1 = fig.add_subplot(2, 2, 2) # add subplot 2 (2 row, 2 columns, second plot). \n",
    "ax2 = fig.add_subplot(2, 2, 3)\n",
    "ax3 = fig.add_subplot(2, 2, 4)\n",
    "\n",
    "\n",
    "# SubPlot 1 china\n",
    "ax0 = diff_china.plot(kind='line', figsize=(15, 10),  ax=ax0)\n",
    "\n",
    "ax0.set_title('COVID19 CASES IN CHINA')\n",
    "ax0.set_ylabel('Numbers of People')\n",
    "ax0.set_xlabel('Observation Date')\n",
    "\n",
    "# SubPlot 1 Iran\n",
    "ax1 = diff_iran.plot(kind='line', figsize=(15, 10),  ax=ax1)\n",
    "\n",
    "ax1.set_title('COVID19 CASES IN Iran')\n",
    "ax1.set_ylabel('Numbers of People')\n",
    "ax1.set_xlabel('Observation Date')\n",
    "\n",
    "\n",
    "# SubPlot 1 Italy\n",
    "ax2 = diff_italy.plot(kind='line', figsize=(15, 10),  ax=ax2)\n",
    "\n",
    "ax2.set_title('COVID19 CASES IN Italy')\n",
    "ax2.set_ylabel('Numbers of People')\n",
    "ax2.set_xlabel('Observation Date')\n",
    "\n",
    "# SubPlot 1 Spain\n",
    "ax3 = diff_spain.plot(kind='line', figsize=(15, 10),  ax=ax3)\n",
    "\n",
    "ax3.set_title('COVID19 CASES IN spain')\n",
    "ax3.set_ylabel('Numbers of People')\n",
    "ax3.set_xlabel('Observation Date')\n"
   ]
  },
  {
   "cell_type": "markdown",
   "metadata": {},
   "source": [
    "# Histogram"
   ]
  },
  {
   "cell_type": "markdown",
   "metadata": {},
   "source": [
    "## DF Setting for Histogram"
   ]
  },
  {
   "cell_type": "code",
   "execution_count": 37,
   "metadata": {
    "ExecuteTime": {
     "end_time": "2020-03-29T14:16:44.594616Z",
     "start_time": "2020-03-29T14:16:44.579266Z"
    }
   },
   "outputs": [],
   "source": [
    "china= diff_china.sum()\n",
    "iran= diff_iran.sum()\n",
    "spain= diff_spain.sum()\n",
    "italy= diff_italy.sum()"
   ]
  },
  {
   "cell_type": "code",
   "execution_count": 38,
   "metadata": {
    "ExecuteTime": {
     "end_time": "2020-03-29T14:16:44.638591Z",
     "start_time": "2020-03-29T14:16:44.599611Z"
    }
   },
   "outputs": [],
   "source": [
    "df1 = pd.DataFrame(china).transpose()\n",
    "df2 = pd.DataFrame(iran).transpose()\n",
    "df3 = pd.DataFrame(spain).transpose()\n",
    "df4 = pd.DataFrame(italy).transpose()"
   ]
  },
  {
   "cell_type": "code",
   "execution_count": 39,
   "metadata": {
    "ExecuteTime": {
     "end_time": "2020-03-29T14:16:44.678566Z",
     "start_time": "2020-03-29T14:16:44.643584Z"
    }
   },
   "outputs": [],
   "source": [
    "frames = [df1,df2,df3,df4]\n",
    "result = pd.concat(frames)"
   ]
  },
  {
   "cell_type": "code",
   "execution_count": 40,
   "metadata": {
    "ExecuteTime": {
     "end_time": "2020-03-29T14:16:44.716538Z",
     "start_time": "2020-03-29T14:16:44.680560Z"
    }
   },
   "outputs": [],
   "source": [
    "result.reset_index(drop=True, inplace=True)"
   ]
  },
  {
   "cell_type": "code",
   "execution_count": 41,
   "metadata": {
    "ExecuteTime": {
     "end_time": "2020-03-29T14:16:44.770514Z",
     "start_time": "2020-03-29T14:16:44.720536Z"
    }
   },
   "outputs": [
    {
     "data": {
      "text/html": [
       "<div>\n",
       "<style scoped>\n",
       "    .dataframe tbody tr th:only-of-type {\n",
       "        vertical-align: middle;\n",
       "    }\n",
       "\n",
       "    .dataframe tbody tr th {\n",
       "        vertical-align: top;\n",
       "    }\n",
       "\n",
       "    .dataframe thead th {\n",
       "        text-align: right;\n",
       "    }\n",
       "</style>\n",
       "<table border=\"1\" class=\"dataframe\">\n",
       "  <thead>\n",
       "    <tr style=\"text-align: right;\">\n",
       "      <th></th>\n",
       "      <th>Confirmed</th>\n",
       "      <th>Deaths</th>\n",
       "      <th>Recovered</th>\n",
       "    </tr>\n",
       "  </thead>\n",
       "  <tbody>\n",
       "    <tr>\n",
       "      <th>0</th>\n",
       "      <td>80320.0</td>\n",
       "      <td>3196.0</td>\n",
       "      <td>67788.0</td>\n",
       "    </tr>\n",
       "    <tr>\n",
       "      <th>1</th>\n",
       "      <td>14989.0</td>\n",
       "      <td>851.0</td>\n",
       "      <td>4590.0</td>\n",
       "    </tr>\n",
       "    <tr>\n",
       "      <th>2</th>\n",
       "      <td>9941.0</td>\n",
       "      <td>342.0</td>\n",
       "      <td>530.0</td>\n",
       "    </tr>\n",
       "    <tr>\n",
       "      <th>3</th>\n",
       "      <td>27978.0</td>\n",
       "      <td>2158.0</td>\n",
       "      <td>2749.0</td>\n",
       "    </tr>\n",
       "  </tbody>\n",
       "</table>\n",
       "</div>"
      ],
      "text/plain": [
       "   Confirmed  Deaths  Recovered\n",
       "0    80320.0  3196.0    67788.0\n",
       "1    14989.0   851.0     4590.0\n",
       "2     9941.0   342.0      530.0\n",
       "3    27978.0  2158.0     2749.0"
      ]
     },
     "execution_count": 41,
     "metadata": {},
     "output_type": "execute_result"
    }
   ],
   "source": [
    "result"
   ]
  },
  {
   "cell_type": "code",
   "execution_count": 42,
   "metadata": {
    "ExecuteTime": {
     "end_time": "2020-03-29T14:16:44.812480Z",
     "start_time": "2020-03-29T14:16:44.773504Z"
    }
   },
   "outputs": [],
   "source": [
    "df_hist = result.copy()\n",
    "# new_index =\n",
    "# result.reindex(new_index)"
   ]
  },
  {
   "cell_type": "code",
   "execution_count": 43,
   "metadata": {
    "ExecuteTime": {
     "end_time": "2020-03-29T14:16:44.858454Z",
     "start_time": "2020-03-29T14:16:44.815478Z"
    }
   },
   "outputs": [],
   "source": [
    "df_hist.index =  ['china','iran','spain','italy']"
   ]
  },
  {
   "cell_type": "code",
   "execution_count": 44,
   "metadata": {
    "ExecuteTime": {
     "end_time": "2020-03-29T14:16:44.907424Z",
     "start_time": "2020-03-29T14:16:44.861451Z"
    }
   },
   "outputs": [
    {
     "data": {
      "text/html": [
       "<div>\n",
       "<style scoped>\n",
       "    .dataframe tbody tr th:only-of-type {\n",
       "        vertical-align: middle;\n",
       "    }\n",
       "\n",
       "    .dataframe tbody tr th {\n",
       "        vertical-align: top;\n",
       "    }\n",
       "\n",
       "    .dataframe thead th {\n",
       "        text-align: right;\n",
       "    }\n",
       "</style>\n",
       "<table border=\"1\" class=\"dataframe\">\n",
       "  <thead>\n",
       "    <tr style=\"text-align: right;\">\n",
       "      <th></th>\n",
       "      <th>Confirmed</th>\n",
       "      <th>Deaths</th>\n",
       "      <th>Recovered</th>\n",
       "    </tr>\n",
       "  </thead>\n",
       "  <tbody>\n",
       "    <tr>\n",
       "      <th>china</th>\n",
       "      <td>80320.0</td>\n",
       "      <td>3196.0</td>\n",
       "      <td>67788.0</td>\n",
       "    </tr>\n",
       "    <tr>\n",
       "      <th>iran</th>\n",
       "      <td>14989.0</td>\n",
       "      <td>851.0</td>\n",
       "      <td>4590.0</td>\n",
       "    </tr>\n",
       "    <tr>\n",
       "      <th>spain</th>\n",
       "      <td>9941.0</td>\n",
       "      <td>342.0</td>\n",
       "      <td>530.0</td>\n",
       "    </tr>\n",
       "    <tr>\n",
       "      <th>italy</th>\n",
       "      <td>27978.0</td>\n",
       "      <td>2158.0</td>\n",
       "      <td>2749.0</td>\n",
       "    </tr>\n",
       "  </tbody>\n",
       "</table>\n",
       "</div>"
      ],
      "text/plain": [
       "       Confirmed  Deaths  Recovered\n",
       "china    80320.0  3196.0    67788.0\n",
       "iran     14989.0   851.0     4590.0\n",
       "spain     9941.0   342.0      530.0\n",
       "italy    27978.0  2158.0     2749.0"
      ]
     },
     "execution_count": 44,
     "metadata": {},
     "output_type": "execute_result"
    }
   ],
   "source": [
    "df_hist"
   ]
  },
  {
   "cell_type": "code",
   "execution_count": 45,
   "metadata": {
    "ExecuteTime": {
     "end_time": "2020-03-29T14:16:44.946398Z",
     "start_time": "2020-03-29T14:16:44.910423Z"
    }
   },
   "outputs": [],
   "source": [
    "##################### these scatter plots are not correct yet ##########################"
   ]
  },
  {
   "cell_type": "code",
   "execution_count": 46,
   "metadata": {
    "ExecuteTime": {
     "end_time": "2020-03-29T14:16:45.310173Z",
     "start_time": "2020-03-29T14:16:44.949394Z"
    }
   },
   "outputs": [
    {
     "data": {
      "text/plain": [
       "<matplotlib.axes._subplots.AxesSubplot at 0x2bd132d4808>"
      ]
     },
     "execution_count": 46,
     "metadata": {},
     "output_type": "execute_result"
    },
    {
     "data": {
      "image/png": "[encoded data removed]",
      "text/plain": [
       "<Figure size 432x288 with 1 Axes>"
      ]
     },
     "metadata": {
      "needs_background": "light"
     },
     "output_type": "display_data"
    }
   ],
   "source": [
    "df_hist.plot(kind= 'hist', bins= 10)"
   ]
  },
  {
   "cell_type": "code",
   "execution_count": 47,
   "metadata": {
    "ExecuteTime": {
     "end_time": "2020-03-29T14:16:45.321165Z",
     "start_time": "2020-03-29T14:16:45.313172Z"
    }
   },
   "outputs": [
    {
     "name": "stdout",
     "output_type": "stream",
     "text": [
      "[7 2 0 1 0 0 0 0 1 1]\n",
      "[  342.   8339.8 16337.6 24335.4 32333.2 40331.  48328.8 56326.6 64324.4\n",
      " 72322.2 80320. ]\n"
     ]
    }
   ],
   "source": [
    "# np.histogram returns 2 values\n",
    "count, bin_edges = np.histogram(df_hist)\n",
    "\n",
    "print(count) # frequency count\n",
    "print(bin_edges) # bin ranges, default = 10 bins"
   ]
  },
  {
   "cell_type": "code",
   "execution_count": 48,
   "metadata": {
    "ExecuteTime": {
     "end_time": "2020-03-29T14:16:45.659764Z",
     "start_time": "2020-03-29T14:16:45.324163Z"
    }
   },
   "outputs": [
    {
     "data": {
      "image/png": "[encoded data removed]",
      "text/plain": [
       "<Figure size 576x360 with 1 Axes>"
      ]
     },
     "metadata": {
      "needs_background": "light"
     },
     "output_type": "display_data"
    }
   ],
   "source": [
    "df_hist.plot(kind='hist', figsize=(8, 5), xticks=bin_edges)\n",
    "\n",
    "plt.title('') # add a title to the histogram\n",
    "plt.ylabel('') # add y-label\n",
    "plt.xlabel('') # add x-label\n",
    "\n",
    "plt.show()"
   ]
  },
  {
   "cell_type": "code",
   "execution_count": 49,
   "metadata": {
    "ExecuteTime": {
     "end_time": "2020-03-29T14:16:46.036534Z",
     "start_time": "2020-03-29T14:16:45.662764Z"
    }
   },
   "outputs": [
    {
     "data": {
      "image/png": "[encoded data removed]",
      "text/plain": [
       "<Figure size 720x432 with 1 Axes>"
      ]
     },
     "metadata": {
      "needs_background": "light"
     },
     "output_type": "display_data"
    }
   ],
   "source": [
    "count, bin_edges = np.histogram(df_hist, 15)\n",
    "xmin = bin_edges[0] - 10   #  first bin value is 31.0, adding buffer of 10 for aesthetic purposes \n",
    "xmax = bin_edges[-1] + 10  #  last bin value is 308.0, adding buffer of 10 for aesthetic purposes\n",
    "\n",
    "# stacked Histogram\n",
    "df_hist.plot(kind='hist',\n",
    "          figsize=(10, 6), \n",
    "          bins=15,\n",
    "          xticks=bin_edges,\n",
    "          color=['coral', 'darkslateblue', 'mediumseagreen'],\n",
    "          stacked=True,\n",
    "          xlim=(xmin, xmax)\n",
    "         )\n",
    "\n",
    "plt.title('')\n",
    "plt.ylabel('')\n",
    "plt.xlabel('') \n",
    "\n",
    "plt.show()"
   ]
  },
  {
   "cell_type": "markdown",
   "metadata": {},
   "source": [
    "# BarChart"
   ]
  },
  {
   "cell_type": "code",
   "execution_count": 50,
   "metadata": {
    "ExecuteTime": {
     "end_time": "2020-03-29T14:16:46.055521Z",
     "start_time": "2020-03-29T14:16:46.039531Z"
    }
   },
   "outputs": [
    {
     "data": {
      "text/html": [
       "<div>\n",
       "<style scoped>\n",
       "    .dataframe tbody tr th:only-of-type {\n",
       "        vertical-align: middle;\n",
       "    }\n",
       "\n",
       "    .dataframe tbody tr th {\n",
       "        vertical-align: top;\n",
       "    }\n",
       "\n",
       "    .dataframe thead th {\n",
       "        text-align: right;\n",
       "    }\n",
       "</style>\n",
       "<table border=\"1\" class=\"dataframe\">\n",
       "  <thead>\n",
       "    <tr style=\"text-align: right;\">\n",
       "      <th></th>\n",
       "      <th>Confirmed</th>\n",
       "      <th>Deaths</th>\n",
       "      <th>Recovered</th>\n",
       "      <th>Counties</th>\n",
       "    </tr>\n",
       "  </thead>\n",
       "  <tbody>\n",
       "    <tr>\n",
       "      <th>china</th>\n",
       "      <td>80320.0</td>\n",
       "      <td>3196.0</td>\n",
       "      <td>67788.0</td>\n",
       "      <td>china</td>\n",
       "    </tr>\n",
       "    <tr>\n",
       "      <th>iran</th>\n",
       "      <td>14989.0</td>\n",
       "      <td>851.0</td>\n",
       "      <td>4590.0</td>\n",
       "      <td>iran</td>\n",
       "    </tr>\n",
       "    <tr>\n",
       "      <th>spain</th>\n",
       "      <td>9941.0</td>\n",
       "      <td>342.0</td>\n",
       "      <td>530.0</td>\n",
       "      <td>spain</td>\n",
       "    </tr>\n",
       "    <tr>\n",
       "      <th>italy</th>\n",
       "      <td>27978.0</td>\n",
       "      <td>2158.0</td>\n",
       "      <td>2749.0</td>\n",
       "      <td>italy</td>\n",
       "    </tr>\n",
       "  </tbody>\n",
       "</table>\n",
       "</div>"
      ],
      "text/plain": [
       "       Confirmed  Deaths  Recovered Counties\n",
       "china    80320.0  3196.0    67788.0    china\n",
       "iran     14989.0   851.0     4590.0     iran\n",
       "spain     9941.0   342.0      530.0    spain\n",
       "italy    27978.0  2158.0     2749.0    italy"
      ]
     },
     "execution_count": 50,
     "metadata": {},
     "output_type": "execute_result"
    }
   ],
   "source": [
    "df_bar = df_hist.copy() \n",
    "df_bar['Counties'] = df_bar.index\n",
    "df_bar.head()"
   ]
  },
  {
   "cell_type": "code",
   "execution_count": 51,
   "metadata": {
    "ExecuteTime": {
     "end_time": "2020-03-29T14:16:46.363333Z",
     "start_time": "2020-03-29T14:16:46.058520Z"
    }
   },
   "outputs": [
    {
     "data": {
      "image/png": "[encoded data removed]",
      "text/plain": [
       "<Figure size 1080x432 with 1 Axes>"
      ]
     },
     "metadata": {
      "needs_background": "light"
     },
     "output_type": "display_data"
    }
   ],
   "source": [
    "# step 2: plot data\n",
    "df_bar.plot(x='Counties', kind='bar', figsize=(15, 6))\n",
    "\n",
    "plt.xlabel('Countries') # add to x-label to the plot\n",
    "plt.ylabel('Number of persons') # add y-label to the plot\n",
    "plt.title('Covid 19 Bar Graph') # add title to the plot\n",
    "\n",
    "plt.show()"
   ]
  },
  {
   "cell_type": "markdown",
   "metadata": {},
   "source": [
    "## Artist layer barchart"
   ]
  },
  {
   "cell_type": "code",
   "execution_count": 52,
   "metadata": {
    "ExecuteTime": {
     "end_time": "2020-03-29T14:16:46.651331Z",
     "start_time": "2020-03-29T14:16:46.366329Z"
    }
   },
   "outputs": [
    {
     "data": {
      "text/plain": [
       "Text(0.5, 0, 'Countries')"
      ]
     },
     "execution_count": 52,
     "metadata": {},
     "output_type": "execute_result"
    },
    {
     "data": {
      "image/png": "[encoded data removed]",
      "text/plain": [
       "<Figure size 1080x576 with 1 Axes>"
      ]
     },
     "metadata": {
      "needs_background": "light"
     },
     "output_type": "display_data"
    }
   ],
   "source": [
    "# option 2: preferred option with more flexibility\n",
    "ax = df_bar.plot(x='Counties', kind='bar', figsize=(15, 8))\n",
    "ax.set_title('COVID19 Cases Bar Chart')\n",
    "ax.set_ylabel('Number of peoples ')\n",
    "ax.set_xlabel('Countries')\n"
   ]
  },
  {
   "cell_type": "markdown",
   "metadata": {},
   "source": [
    "# scatter plot"
   ]
  },
  {
   "cell_type": "code",
   "execution_count": 54,
   "metadata": {
    "ExecuteTime": {
     "end_time": "2020-03-29T14:17:13.737288Z",
     "start_time": "2020-03-29T14:17:13.714305Z"
    }
   },
   "outputs": [
    {
     "data": {
      "text/html": [
       "<div>\n",
       "<style scoped>\n",
       "    .dataframe tbody tr th:only-of-type {\n",
       "        vertical-align: middle;\n",
       "    }\n",
       "\n",
       "    .dataframe tbody tr th {\n",
       "        vertical-align: top;\n",
       "    }\n",
       "\n",
       "    .dataframe thead th {\n",
       "        text-align: right;\n",
       "    }\n",
       "</style>\n",
       "<table border=\"1\" class=\"dataframe\">\n",
       "  <thead>\n",
       "    <tr style=\"text-align: right;\">\n",
       "      <th></th>\n",
       "      <th>Confirmed</th>\n",
       "      <th>Deaths</th>\n",
       "      <th>Recovered</th>\n",
       "      <th>longitude</th>\n",
       "      <th>latitude</th>\n",
       "    </tr>\n",
       "  </thead>\n",
       "  <tbody>\n",
       "    <tr>\n",
       "      <th>china</th>\n",
       "      <td>80320.0</td>\n",
       "      <td>3196.0</td>\n",
       "      <td>67788.0</td>\n",
       "      <td>104.1950</td>\n",
       "      <td>35.8617</td>\n",
       "    </tr>\n",
       "    <tr>\n",
       "      <th>iran</th>\n",
       "      <td>14989.0</td>\n",
       "      <td>851.0</td>\n",
       "      <td>4590.0</td>\n",
       "      <td>53.6880</td>\n",
       "      <td>32.4290</td>\n",
       "    </tr>\n",
       "    <tr>\n",
       "      <th>spain</th>\n",
       "      <td>9941.0</td>\n",
       "      <td>342.0</td>\n",
       "      <td>530.0</td>\n",
       "      <td>3.7492</td>\n",
       "      <td>40.4637</td>\n",
       "    </tr>\n",
       "    <tr>\n",
       "      <th>italy</th>\n",
       "      <td>27978.0</td>\n",
       "      <td>2158.0</td>\n",
       "      <td>2749.0</td>\n",
       "      <td>12.5674</td>\n",
       "      <td>41.8719</td>\n",
       "    </tr>\n",
       "  </tbody>\n",
       "</table>\n",
       "</div>"
      ],
      "text/plain": [
       "       Confirmed  Deaths  Recovered  longitude  latitude\n",
       "china    80320.0  3196.0    67788.0   104.1950   35.8617\n",
       "iran     14989.0   851.0     4590.0    53.6880   32.4290\n",
       "spain     9941.0   342.0      530.0     3.7492   40.4637\n",
       "italy    27978.0  2158.0     2749.0    12.5674   41.8719"
      ]
     },
     "execution_count": 54,
     "metadata": {},
     "output_type": "execute_result"
    }
   ],
   "source": [
    "df_sctr = df_hist.copy()\n",
    "lat = [35.8617,32.429,40.4637,41.8719]\n",
    "long = [104.195,53.6880,3.7492,12.5674]\n",
    "df_sctr['longitude'] = long\n",
    "df_sctr['latitude'] = lat\n",
    "df_sctr\n",
    "\n",
    "# df2 = df.assign(address = ['Delhi', 'Bangalore', 'Chennai', 'Patna'])"
   ]
  },
  {
   "cell_type": "code",
   "execution_count": 55,
   "metadata": {
    "ExecuteTime": {
     "end_time": "2020-03-29T14:17:37.596268Z",
     "start_time": "2020-03-29T14:17:37.389226Z"
    }
   },
   "outputs": [
    {
     "data": {
      "text/plain": [
       "Text(0.5, 0, 'Countries')"
      ]
     },
     "execution_count": 55,
     "metadata": {},
     "output_type": "execute_result"
    },
    {
     "data": {
      "image/png": "[encoded data removed]",
      "text/plain": [
       "<Figure size 720x432 with 1 Axes>"
      ]
     },
     "metadata": {
      "needs_background": "light"
     },
     "output_type": "display_data"
    }
   ],
   "source": [
    "# option 2: preferred option with more flexibility\n",
    "ax = df_bar.plot(x='Counties', y = 'Recovered', kind='scatter', figsize=(10, 6),  color='darkblue')\n",
    "\n",
    "ax.set_title('COVID19 Cases Bar Chart')\n",
    "ax.set_ylabel('Number of peoples ')\n",
    "ax.set_xlabel('Countries')"
   ]
  },
  {
   "cell_type": "markdown",
   "metadata": {},
   "source": [
    "# Folium"
   ]
  },
  {
   "cell_type": "code",
   "execution_count": 1,
   "metadata": {
    "ExecuteTime": {
     "end_time": "2020-03-28T16:55:51.908179Z",
     "start_time": "2020-03-28T16:55:49.309962Z"
    },
    "collapsed": true
   },
   "outputs": [
    {
     "name": "stdout",
     "output_type": "stream",
     "text": [
      "\n",
      "     active environment : base\n",
      "    active env location : C:\\ProgramData\\Anaconda3\n",
      "            shell level : 1\n",
      "       user config file : C:\\Users\\H241677\\.condarc\n",
      " populated config files : \n",
      "          conda version : 4.8.3\n",
      "    conda-build version : 3.18.11\n",
      "         python version : 3.7.6.final.0\n",
      "       virtual packages : \n",
      "       base environment : C:\\ProgramData\\Anaconda3  (read only)\n",
      "           channel URLs : https://repo.anaconda.com/pkgs/main/win-64\n",
      "                          https://repo.anaconda.com/pkgs/main/noarch\n",
      "                          https://repo.anaconda.com/pkgs/r/win-64\n",
      "                          https://repo.anaconda.com/pkgs/r/noarch\n",
      "                          https://repo.anaconda.com/pkgs/msys2/win-64\n",
      "                          https://repo.anaconda.com/pkgs/msys2/noarch\n",
      "          package cache : C:\\ProgramData\\Anaconda3\\pkgs\n",
      "                          C:\\Users\\H241677\\.conda\\pkgs\n",
      "                          C:\\Users\\H241677\\AppData\\Local\\conda\\conda\\pkgs\n",
      "       envs directories : C:\\Users\\H241677\\.conda\\envs\n",
      "                          C:\\ProgramData\\Anaconda3\\envs\n",
      "                          C:\\Users\\H241677\\AppData\\Local\\conda\\conda\\envs\n",
      "               platform : win-64\n",
      "             user-agent : conda/4.8.3 requests/2.22.0 CPython/3.7.6 Windows/10 Windows/10.0.18362\n",
      "          administrator : False\n",
      "             netrc file : None\n",
      "           offline mode : False\n",
      "\n",
      "\n",
      "Note: you may need to restart the kernel to use updated packages.\n"
     ]
    }
   ],
   "source": [
    "conda info"
   ]
  },
  {
   "cell_type": "code",
   "execution_count": 56,
   "metadata": {
    "ExecuteTime": {
     "end_time": "2020-03-29T14:17:45.948810Z",
     "start_time": "2020-03-29T14:17:45.285224Z"
    }
   },
   "outputs": [
    {
     "name": "stdout",
     "output_type": "stream",
     "text": [
      "Folium installed and imported!\n"
     ]
    }
   ],
   "source": [
    "# !conda install -c anaconda xlrd --yes\n",
    "# !conda install -c conda-forge folium=0.5.0 --yes\n",
    "import folium\n",
    "\n",
    "print('Folium installed and imported!')"
   ]
  },
  {
   "cell_type": "code",
   "execution_count": 57,
   "metadata": {
    "ExecuteTime": {
     "end_time": "2020-03-29T14:17:50.489934Z",
     "start_time": "2020-03-29T14:17:50.430970Z"
    },
    "collapsed": true
   },
   "outputs": [
    {
     "data": {
      "text/html": [
       "<div style=\"width:100%;\"><div style=\"position:relative;width:100%;height:0;padding-bottom:60%;\"><iframe src=\"about:blank\" style=\"position:absolute;width:100%;height:100%;left:0;top:0;border:none !important;\" data-html=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 onload=\"this.contentDocument.open();this.contentDocument.write(atob(this.getAttribute('data-html')));this.contentDocument.close();\" allowfullscreen webkitallowfullscreen mozallowfullscreen></iframe></div></div>"
      ],
      "text/plain": [
       "<folium.folium.Map at 0x2bd1167b188>"
      ]
     },
     "execution_count": 57,
     "metadata": {},
     "output_type": "execute_result"
    }
   ],
   "source": [
    "# define the world map\n",
    "world_map = folium.Map()\n",
    "\n",
    "# display world map\n",
    "world_map"
   ]
  },
  {
   "cell_type": "code",
   "execution_count": 93,
   "metadata": {
    "ExecuteTime": {
     "end_time": "2020-03-28T18:05:51.844060Z",
     "start_time": "2020-03-28T18:05:51.827073Z"
    }
   },
   "outputs": [
    {
     "data": {
      "text/html": [
       "<div>\n",
       "<style scoped>\n",
       "    .dataframe tbody tr th:only-of-type {\n",
       "        vertical-align: middle;\n",
       "    }\n",
       "\n",
       "    .dataframe tbody tr th {\n",
       "        vertical-align: top;\n",
       "    }\n",
       "\n",
       "    .dataframe thead th {\n",
       "        text-align: right;\n",
       "    }\n",
       "</style>\n",
       "<table border=\"1\" class=\"dataframe\">\n",
       "  <thead>\n",
       "    <tr style=\"text-align: right;\">\n",
       "      <th></th>\n",
       "      <th>Confirmed</th>\n",
       "      <th>Deaths</th>\n",
       "      <th>Recovered</th>\n",
       "      <th>longitude</th>\n",
       "      <th>latitude</th>\n",
       "    </tr>\n",
       "  </thead>\n",
       "  <tbody>\n",
       "    <tr>\n",
       "      <th>china</th>\n",
       "      <td>80320.0</td>\n",
       "      <td>3196.0</td>\n",
       "      <td>67788.0</td>\n",
       "      <td>35.8617</td>\n",
       "      <td>104.1950</td>\n",
       "    </tr>\n",
       "    <tr>\n",
       "      <th>iran</th>\n",
       "      <td>14989.0</td>\n",
       "      <td>851.0</td>\n",
       "      <td>4590.0</td>\n",
       "      <td>32.4290</td>\n",
       "      <td>53.6880</td>\n",
       "    </tr>\n",
       "    <tr>\n",
       "      <th>spain</th>\n",
       "      <td>9941.0</td>\n",
       "      <td>342.0</td>\n",
       "      <td>530.0</td>\n",
       "      <td>40.4637</td>\n",
       "      <td>3.7492</td>\n",
       "    </tr>\n",
       "    <tr>\n",
       "      <th>italy</th>\n",
       "      <td>27978.0</td>\n",
       "      <td>2158.0</td>\n",
       "      <td>2749.0</td>\n",
       "      <td>41.8719</td>\n",
       "      <td>12.5674</td>\n",
       "    </tr>\n",
       "  </tbody>\n",
       "</table>\n",
       "</div>"
      ],
      "text/plain": [
       "       Confirmed  Deaths  Recovered  longitude  latitude\n",
       "china    80320.0  3196.0    67788.0    35.8617  104.1950\n",
       "iran     14989.0   851.0     4590.0    32.4290   53.6880\n",
       "spain     9941.0   342.0      530.0    40.4637    3.7492\n",
       "italy    27978.0  2158.0     2749.0    41.8719   12.5674"
      ]
     },
     "execution_count": 93,
     "metadata": {},
     "output_type": "execute_result"
    }
   ],
   "source": [
    "df_sctr.head()"
   ]
  },
  {
   "cell_type": "code",
   "execution_count": 59,
   "metadata": {
    "ExecuteTime": {
     "end_time": "2020-03-29T14:44:12.405398Z",
     "start_time": "2020-03-29T14:44:12.312455Z"
    },
    "scrolled": true
   },
   "outputs": [
    {
     "data": {
      "text/html": [
       "<div style=\"width:100%;\"><div style=\"position:relative;width:100%;height:0;padding-bottom:60%;\"><iframe src=\"about:blank\" style=\"position:absolute;width:100%;height:100%;left:0;top:0;border:none !important;\" data-html=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 onload=\"this.contentDocument.open();this.contentDocument.write(atob(this.getAttribute('data-html')));this.contentDocument.close();\" allowfullscreen webkitallowfullscreen mozallowfullscreen></iframe></div></div>"
      ],
      "text/plain": [
       "<folium.folium.Map at 0x2bd13f2b608>"
      ]
     },
     "execution_count": 59,
     "metadata": {},
     "output_type": "execute_result"
    }
   ],
   "source": [
    "# define the world map\n",
    "world_map = folium.Map()\n",
    "# instantiate a feature group for the incidents in the dataframe\n",
    "incidents = folium.map.FeatureGroup()\n",
    "\n",
    "# loop through the 100 crimes and add each to the incidents feature group\n",
    "for lat, lng, in zip(df_sctr.latitude, df_sctr.longitude):\n",
    "    incidents.add_child(\n",
    "        folium.features.CircleMarker(\n",
    "            [lat, lng],\n",
    "#             radius= df_sctr[(df_sctr.latitude==lat) & (df_sctr.longitude==lng)]['Confirmed'].tolist(), # define how big you want the circle markers to be\n",
    "            radius= 5.5,\n",
    "            color='yellow',\n",
    "            fill=True,\n",
    "            fill_color='blue',\n",
    "            fill_opacity=0.6\n",
    "        )\n",
    "    )\n",
    "\n",
    "# add incidents to map\n",
    "world_map.add_child(incidents)"
   ]
  },
  {
   "cell_type": "code",
   "execution_count": 109,
   "metadata": {
    "ExecuteTime": {
     "end_time": "2020-03-28T18:21:09.416643Z",
     "start_time": "2020-03-28T18:21:09.398653Z"
    }
   },
   "outputs": [
    {
     "name": "stdout",
     "output_type": "stream",
     "text": [
      "china    80320.0\n",
      "Name: Confirmed, dtype: float64\n",
      "iran    14989.0\n",
      "Name: Confirmed, dtype: float64\n",
      "spain    9941.0\n",
      "Name: Confirmed, dtype: float64\n",
      "italy    27978.0\n",
      "Name: Confirmed, dtype: float64\n"
     ]
    }
   ],
   "source": [
    "for lng, lat, in zip(df_sctr.longitude, df_sctr.latitude):\n",
    "#     print(lat, lng)\n",
    "    print(df_sctr[(df_sctr.latitude==lat) & (df_sctr.longitude==lng)]['Confirmed'])\n",
    "    "
   ]
  },
  {
   "cell_type": "code",
   "execution_count": 124,
   "metadata": {
    "ExecuteTime": {
     "end_time": "2020-03-29T10:32:37.314004Z",
     "start_time": "2020-03-29T10:32:37.303011Z"
    }
   },
   "outputs": [
    {
     "data": {
      "text/plain": [
       "4"
      ]
     },
     "execution_count": 124,
     "metadata": {},
     "output_type": "execute_result"
    }
   ],
   "source": []
  },
  {
   "cell_type": "code",
   "execution_count": null,
   "metadata": {
    "ExecuteTime": {
     "end_time": "2020-03-28T17:44:05.077179Z",
     "start_time": "2020-03-28T17:44:05.021212Z"
    }
   },
   "outputs": [],
   "source": []
  },
  {
   "cell_type": "code",
   "execution_count": null,
   "metadata": {},
   "outputs": [],
   "source": []
  }
 ],
 "metadata": {
  "hide_input": false,
  "kernelspec": {
   "display_name": "Python 3",
   "language": "python",
   "name": "python3"
  },
  "language_info": {
   "codemirror_mode": {
    "name": "ipython",
    "version": 3
   },
   "file_extension": ".py",
   "mimetype": "text/x-python",
   "name": "python",
   "nbconvert_exporter": "python",
   "pygments_lexer": "ipython3",
   "version": "3.7.6"
  },
  "toc": {
   "base_numbering": 1,
   "nav_menu": {},
   "number_sections": true,
   "sideBar": true,
   "skip_h1_title": false,
   "title_cell": "Table of Contents",
   "title_sidebar": "Contents",
   "toc_cell": false,
   "toc_position": {
    "height": "calc(100% - 180px)",
    "left": "10px",
    "top": "150px",
    "width": "219.188px"
   },
   "toc_section_display": true,
   "toc_window_display": true
  },
  "varInspector": {
   "cols": {
    "lenName": 16,
    "lenType": 16,
    "lenVar": 40
   },
   "kernels_config": {
    "python": {
     "delete_cmd_postfix": "",
     "delete_cmd_prefix": "del ",
     "library": "var_list.py",
     "varRefreshCmd": "print(var_dic_list())"
    },
    "r": {
     "delete_cmd_postfix": ") ",
     "delete_cmd_prefix": "rm(",
     "library": "var_list.r",
     "varRefreshCmd": "cat(var_dic_list()) "
    }
   },
   "types_to_exclude": [
    "module",
    "function",
    "builtin_function_or_method",
    "instance",
    "_Feature"
   ],
   "window_display": false
  }
 },
 "nbformat": 4,
 "nbformat_minor": 4
}
